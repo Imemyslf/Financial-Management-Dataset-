{
 "cells": [
  {
   "cell_type": "code",
   "execution_count": 1,
   "metadata": {},
   "outputs": [],
   "source": [
    "import pandas as pd\n",
    "import numpy as np\n",
    "import os"
   ]
  },
  {
   "cell_type": "code",
   "execution_count": null,
   "metadata": {},
   "outputs": [],
   "source": [
    "import json\n",
    "import pandas as pd\n",
    "\n",
    "# Load the data\n",
    "file_path = \"/mnt/data/Updated_Filtered_Quarterly_data.json\"\n",
    "with open(file_path, \"r\") as file:\n",
    "    data = json.load(file)\n",
    "\n",
    "# Define independent and dependent variables\n",
    "independent_vars = [\n",
    "    \"Net sales/income from operations\", \"Total income from operations\", \"Employees cost\",\n",
    "    \"depreciat\", \"Other expenses\", \"P/l before other inc. , int., excpt. items & tax\",\n",
    "    \"Other income\", \"P/l before int., excpt. items & tax\", \"Interest\",\n",
    "    \"P/l before exceptional items & tax\", \"Tax\"\n",
    "]\n",
    "dependent_var = \"Net profit/(loss) for the period\"\n",
    "\n",
    "# Initialize lists to store extracted data\n",
    "records = []\n",
    "\n",
    "# Extract relevant data from all companies\n",
    "def extract_data():\n",
    "    for company, results in data[\"Quarterly\"][\"Quarters\"].items():\n",
    "        company_key = list(results.keys())[0]  # Extract the nested key\n",
    "        quarterly_data = results[company_key]\n",
    "        \n",
    "        # Ensure required columns exist\n",
    "        if all(param in quarterly_data for param in independent_vars + [dependent_var]):\n",
    "            for i in range(len(quarterly_data[independent_vars[0]])):\n",
    "                row = {\"Company\": company}\n",
    "                for var in independent_vars:\n",
    "                    row[var] = quarterly_data[var][i]\n",
    "                row[dependent_var] = quarterly_data[dependent_var][i]\n",
    "                records.append(row)\n",
    "\n",
    "extract_data()\n",
    "\n",
    "# Convert to DataFrame\n",
    "df = pd.DataFrame(records)\n",
    "\n",
    "# Save to CSV\n",
    "df.to_csv(\"/mnt/data/extracted_quarterly_data.csv\", index=False)\n",
    "\n",
    "print(\"Data extraction complete. Saved as extracted_quarterly_data.csv\")\n"
   ]
  }
 ],
 "metadata": {
  "kernelspec": {
   "display_name": "Python 3",
   "language": "python",
   "name": "python3"
  },
  "language_info": {
   "codemirror_mode": {
    "name": "ipython",
    "version": 3
   },
   "file_extension": ".py",
   "mimetype": "text/x-python",
   "name": "python",
   "nbconvert_exporter": "python",
   "pygments_lexer": "ipython3",
   "version": "3.13.2"
  }
 },
 "nbformat": 4,
 "nbformat_minor": 2
}
