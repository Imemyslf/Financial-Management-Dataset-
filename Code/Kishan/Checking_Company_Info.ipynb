{
 "cells": [
  {
   "cell_type": "code",
   "execution_count": 9,
   "metadata": {},
   "outputs": [
    {
     "name": "stdout",
     "output_type": "stream",
     "text": [
      "Clustered data saved to C:\\Users\\sharm\\OneDrive\\Desktop\\Kishan\\Contractzy\\WebScrapping\\Tutorial\\Code\\Kishan\\Json_File\\clustered_companies_by_year.json\n"
     ]
    }
   ],
   "source": [
    "import json\n",
    "import os\n",
    "from collections import defaultdict\n",
    "\n",
    "file_name = \"clustered_companies_by_year.json\"\n",
    "file_path = r\"C:\\Users\\sharm\\OneDrive\\Desktop\\Kishan\\Contractzy\\WebScrapping\\Tutorial\\Code\\Rayyan\\ipynb codes\\Updated_Quarterly_Data.json\"\n",
    "output_file = r\"C:\\Users\\sharm\\OneDrive\\Desktop\\Kishan\\Contractzy\\WebScrapping\\Tutorial\\Code\\Kishan\\Json_File\"\n",
    "\n",
    "os.makedirs(output_file, exist_ok=True)\n",
    "output_path = fr\"{output_file}\\{file_name}\"\n",
    "\n",
    "# Load JSON file\n",
    "with open(file_path, 'r', encoding='utf-8') as file:\n",
    "    data = json.load(file)\n",
    "\n",
    "# Corrected path to company data\n",
    "companies_data = data.get(\"Quarterly\", {}).get(\"Quarters\", {})\n",
    "\n",
    "# Dictionary to store companies grouped by starting year\n",
    "yearly_companies = defaultdict(list)\n",
    "\n",
    "# Extract the starting year for each company\n",
    "for company_name, details in companies_data.items():\n",
    "    for header, company_info in details.items():\n",
    "        if isinstance(company_info, dict) and \"Year\" in company_info:\n",
    "            years = company_info[\"Year\"]\n",
    "            if isinstance(years, list) and years:\n",
    "                start_year = min(map(int, years))  # Get earliest year\n",
    "                yearly_companies[start_year].append(company_name)\n",
    "\n",
    "# Sort years in ascending order\n",
    "sorted_years = sorted(yearly_companies.keys())\n",
    "output_data = {\n",
    "    \"company_info\": {\n",
    "        year: {\n",
    "            \"Year it began\": year,\n",
    "            \"Company count\": len(yearly_companies[year]),\n",
    "            \"Companies\": yearly_companies[year]\n",
    "        } for year in sorted_years\n",
    "    }\n",
    "}\n",
    "\n",
    "# Save the sorted clustered data\n",
    "with open(output_path, 'w', encoding='utf-8') as outfile:\n",
    "    json.dump(output_data, outfile, indent=4)\n",
    "\n",
    "print(f\"Clustered data saved to {output_path}\")\n"
   ]
  },
  {
   "cell_type": "code",
   "execution_count": 15,
   "metadata": {},
   "outputs": [
    {
     "name": "stdout",
     "output_type": "stream",
     "text": [
      "Filtered data saved to C:\\Users\\sharm\\OneDrive\\Desktop\\Kishan\\Contractzy\\WebScrapping\\Tutorial\\Code\\Kishan\\Json_File\\Quaterly_data_61.json\n"
     ]
    }
   ],
   "source": [
    "import json\n",
    "import os\n",
    "\n",
    "# Define the list of companies to keep\n",
    "companies_to_keep = [\n",
    "    \"3i Infotech Ltd\", \"Adroit Infotech Ltd\", \"AION-TECH SOLUTIONS Ltd\", \"Allied Digital Services Ltd\", \"ASM Technologies Ltd\",\n",
    "    \"Avance Technologies Ltd\", \"Bartronics India Ltd\", \"Birlasoft Ltd\", \"Cambridge Technology Enterprises Ltd\", \"CG-Vak Software and Exports Ltd\",\n",
    "    \"COFORGE LIMITED Ltd\", \"Cranes Software International Ltd\", \"Cressanda Solution Ltd\", \"Cybertech Systems and Software Ltd\", \"Cyient Ltd\",\n",
    "    \"Danlaw Technologies India Ltd\", \"Datamatics Global Services Ltd\", \"Dynacons Systems and Solutions Ltd\", \"Elnet Technologies Ltd\", \"Equippp Social Impact Technologies Ltd\",\n",
    "    \"Expleo Solutions Ltd\", \"FCS Software Solutions Ltd\", \"Genesys International Corporation Ltd\", \"HCL Technologies Ltd\", \"Indian Infotech and Software Ltd\",\n",
    "    \"Infosys Ltd\", \"Inspirisys Solutions Ltd\", \"IZMO Ltd\", \"Jeevan Scientific Technology Ltd\", \"Kati Patang Lifestyle Ltd\",\n",
    "    \"Kellton Tech Solutions Ltd\", \"Kernex Microsystems (India) Ltd\", \"Mastek Ltd\", \"Megasoft Ltd\", \"MphasiS Ltd\",\n",
    "    \"Nettlinx Ltd\", \"Onward Technologies Ltd\", \"Oracle Financial Services Software Ltd\", \"Palred Technologies Ltd\", \"Persistent Systems Ltd\",\n",
    "    \"R Systems International Ltd\", \"Sasken Technologies Ltd\", \"Saven Technologies Ltd\", \"SBSJHVHSV Ltd\", \"Securekloud Technologies Ltd\",\n",
    "    \"Sofcom Systems Ltd\", \"Softsol India Ltd\", \"Sonata Software Ltd\", \"Starcom Information Technology Ltd\", \"Tata Consultancy Services Ltd\",\n",
    "    \"Tech Mahindra Ltd\", \"Tera Software Ltd\", \"Titan Intech Ltd\", \"Trigyn Technologies Ltd\", \"USG Tech Solutions Ltd\",\n",
    "    \"VEDAVAAG Systems Ltd\", \"WEP Solutions Ltd\", \"Wipro Ltd\", \"Xchanging Solutions Ltd\", \"Xtglobal Infotech Ltd\", \"Zensar Technologies Ltd\"\n",
    "]\n",
    "\n",
    "# Load the JSON file\n",
    "input_path = r\"C:\\Users\\sharm\\OneDrive\\Desktop\\Kishan\\Contractzy\\WebScrapping\\Tutorial\\Code\\Rayyan\\ipynb codes\\Updated_Quarterly_Data.json\"\n",
    "output_path = r\"C:\\Users\\sharm\\OneDrive\\Desktop\\Kishan\\Contractzy\\WebScrapping\\Tutorial\\Code\\Kishan\\Json_File\\Quaterly_data_61.json\"\n",
    "\n",
    "with open(input_path, 'r', encoding='utf-8') as file:\n",
    "    data = json.load(file)\n",
    "\n",
    "# Filter the data to keep only the specified companies in all parameters inside Quarterly\n",
    "filtered_data = {\n",
    "    \"Quarterly\": {\n",
    "        key: (\n",
    "            {company: details for company, details in value.items() if company in companies_to_keep}\n",
    "            if isinstance(value, dict) else value\n",
    "        )\n",
    "        for key, value in data.get(\"Quarterly\", {}).items()\n",
    "    }\n",
    "}\n",
    "\n",
    "# Save the filtered JSON file\n",
    "with open(output_path, 'w', encoding='utf-8') as outfile:\n",
    "    json.dump(filtered_data, outfile, indent=4)\n",
    "\n",
    "print(f\"Filtered data saved to {output_path}\")\n"
   ]
  },
  {
   "cell_type": "code",
   "execution_count": null,
   "metadata": {},
   "outputs": [
    {
     "name": "stdout",
     "output_type": "stream",
     "text": [
      "Length of 'Net sales/income from operations': 61\n"
     ]
    }
   ],
   "source": [
    "import json\n",
    "\n",
    "# Load the JSON file\n",
    "input_path = r\"C:\\Users\\sharm\\OneDrive\\Desktop\\Kishan\\Contractzy\\WebScrapping\\Tutorial\\Code\\Kishan\\Json_File\\Quaterly_data_61.json\"\n",
    "\n",
    "with open(input_path, 'r', encoding='utf-8') as file:\n",
    "    data = json.load(file)\n",
    "\n",
    "parameter_key = \"Net sales/income from operations\"  # Change this to the parameter you want to analyze\n",
    "\n",
    "if parameter_key in data[\"Quarterly\"]:\n",
    "    parameter_data = data[\"Quarterly\"][parameter_key]\n",
    "    length_of_parameter = len(parameter_data)\n",
    "    print(f\"Length of '{parameter_key}': {length_of_parameter}\")\n",
    "else:\n",
    "    print(f\"Parameter '{parameter_key}' not found in the JSON file.\")\n"
   ]
  }
 ],
 "metadata": {
  "kernelspec": {
   "display_name": "Python 3",
   "language": "python",
   "name": "python3"
  },
  "language_info": {
   "codemirror_mode": {
    "name": "ipython",
    "version": 3
   },
   "file_extension": ".py",
   "mimetype": "text/x-python",
   "name": "python",
   "nbconvert_exporter": "python",
   "pygments_lexer": "ipython3",
   "version": "3.13.2"
  }
 },
 "nbformat": 4,
 "nbformat_minor": 2
}
