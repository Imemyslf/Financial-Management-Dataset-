{
 "cells": [
  {
   "cell_type": "code",
   "execution_count": 7,
   "metadata": {},
   "outputs": [],
   "source": [
    "import os\n",
    "import pandas as pd\n",
    "\n",
    "# Define paths\n",
    "base_dir = r\"C:\\Users\\sharm\\OneDrive\\Desktop\\Kishan\\Contractzy\\WebScrapping\\Tutorial\\Financial_Data\\MoneyControl\\Companies\\IT Services & Consulting\"\n",
    "output_file = r\"C:\\Users\\sharm\\OneDrive\\Desktop\\Kishan\\Data\\Consolidated_Companies.xlsx\""
   ]
  },
  {
   "cell_type": "code",
   "execution_count": null,
   "metadata": {},
   "outputs": [
    {
     "name": "stdout",
     "output_type": "stream",
     "text": [
      "Consolidated file saved at: C:\\Users\\sharm\\OneDrive\\Desktop\\Kishan\\Data\\Consolidated_Companies.xlsx\n"
     ]
    }
   ],
   "source": [
    "# # Create a dictionary to store company data\n",
    "# company_data = {}\n",
    "\n",
    "# # Iterate through each company folder\n",
    "# for company_name in os.listdir(base_dir):\n",
    "#     company_path = os.path.join(base_dir, company_name)\n",
    "    \n",
    "#     # Check if it's a directory\n",
    "#     if os.path.isdir(company_path):\n",
    "#         excel_path = os.path.join(company_path, \"Pruned_Excel\", \"Final_Parameters\", f\"{company_name}_semi_final.xlsx\")\n",
    "        \n",
    "#         # Check if the file exists\n",
    "#         if os.path.exists(excel_path):\n",
    "#             try:\n",
    "#                 # Read all sheets\n",
    "#                 sheets = pd.read_excel(excel_path, sheet_name=None)\n",
    "                \n",
    "#                 # Combine all sheets into one dataframe\n",
    "#                 combined_df = pd.concat(sheets.values(), ignore_index=True)\n",
    "                \n",
    "#                 # Store in dictionary with company name as sheet name\n",
    "#                 company_data[company_name] = combined_df\n",
    "            \n",
    "#             except Exception as e:\n",
    "#                 print(f\"Error reading {excel_path}: {e}\")\n",
    "\n",
    "# # Save the consolidated Excel file\n",
    "# if company_data:\n",
    "#     with pd.ExcelWriter(output_file, engine='xlsxwriter') as writer:\n",
    "#         for company, df in company_data.items():\n",
    "#             df.to_excel(writer, sheet_name=company[:31], index=False)  # Excel limits sheet names to 31 characters\n",
    "\n",
    "# print(f\"Consolidated file saved at: {output_file}\")"
   ]
  },
  {
   "cell_type": "code",
   "execution_count": null,
   "metadata": {},
   "outputs": [
    {
     "name": "stdout",
     "output_type": "stream",
     "text": [
      "Consolidated file saved at: C:\\Users\\sharm\\OneDrive\\Desktop\\Kishan\\Data\\Consolidated_Companies.xlsx\n"
     ]
    }
   ],
   "source": [
    "# # Create a dictionary to store company data\n",
    "# company_data = {}\n",
    "\n",
    "# # Iterate through each company folder\n",
    "# for company_name in os.listdir(base_dir):\n",
    "#     company_path = os.path.join(base_dir, company_name)\n",
    "    \n",
    "#     # Check if it's a directory\n",
    "#     if os.path.isdir(company_path):\n",
    "#         excel_path = os.path.join(company_path, \"Pruned_Excel\", \"Final_Parameters\", f\"{company_name}_semi_final.xlsx\")\n",
    "        \n",
    "#         # Check if the file exists\n",
    "#         if os.path.exists(excel_path):\n",
    "#             try:\n",
    "#                 # Read all sheets\n",
    "#                 sheets = pd.read_excel(excel_path, sheet_name=None)\n",
    "                \n",
    "#                 # Create a list to store structured data\n",
    "#                 final_df_list = []\n",
    "                \n",
    "#                 for sheet_name, df in sheets.items():\n",
    "#                     # Append sheet name as a header row\n",
    "#                     final_df_list.append(pd.DataFrame([[sheet_name] + [\"\"] * (df.shape[1] - 1)], columns=df.columns))\n",
    "#                     final_df_list.append(df)  # Append actual data\n",
    "#                     final_df_list.append(pd.DataFrame([[\"\"] * df.shape[1]], columns=df.columns))  # Blank row\n",
    "\n",
    "#                 # Concatenate into a single dataframe\n",
    "#                 combined_df = pd.concat(final_df_list, ignore_index=True)\n",
    "                \n",
    "#                 # Store in dictionary with company name as sheet name\n",
    "#                 company_data[company_name] = combined_df\n",
    "            \n",
    "#             except Exception as e:\n",
    "#                 print(f\"Error reading {excel_path}: {e}\")\n",
    "\n",
    "# # Save the consolidated Excel file\n",
    "# if company_data:\n",
    "#     with pd.ExcelWriter(output_file, engine='xlsxwriter') as writer:\n",
    "#         for company, df in company_data.items():\n",
    "#             df.to_excel(writer, sheet_name=company[:31], index=False)  # Excel limits sheet names to 31 characters\n",
    "\n",
    "# print(f\"Consolidated file saved at: {output_file}\")"
   ]
  },
  {
   "cell_type": "code",
   "execution_count": 11,
   "metadata": {},
   "outputs": [
    {
     "name": "stdout",
     "output_type": "stream",
     "text": [
      "Consolidated file saved at: C:\\Users\\sharm\\OneDrive\\Desktop\\Kishan\\Data\\Consolidated_Companies.xlsx\n"
     ]
    }
   ],
   "source": [
    "# Create a dictionary to store structured data for all companies\n",
    "company_data = {}\n",
    "\n",
    "# Iterate through each company folder\n",
    "for company_name in os.listdir(base_dir):\n",
    "    company_path = os.path.join(base_dir, company_name)\n",
    "\n",
    "    # Check if it's a directory\n",
    "    if os.path.isdir(company_path):\n",
    "        excel_path = os.path.join(company_path, \"Pruned_Excel\", \"Final_Parameters\", f\"{company_name}_semi_final.xlsx\")\n",
    "\n",
    "        # Check if the file exists\n",
    "        if os.path.exists(excel_path):\n",
    "            try:\n",
    "                # Read all sheets from the Excel file\n",
    "                sheets = pd.read_excel(excel_path, sheet_name=None)\n",
    "\n",
    "                # Create a list to store structured data\n",
    "                final_df_list = []\n",
    "\n",
    "                for sheet_name, df in sheets.items():\n",
    "                    # Insert section header\n",
    "                    header_row = pd.DataFrame([[f\"{sheet_name} of {company_name}\"] + [\"\"] * (df.shape[1] - 1)], columns=df.columns)\n",
    "                    final_df_list.append(header_row)  # Add section header\n",
    "                    final_df_list.append(df)          # Add actual data\n",
    "                    final_df_list.append(pd.DataFrame([[\"\"] * df.shape[1]], columns=df.columns))  # Add blank row\n",
    "\n",
    "                # Concatenate all data for the company\n",
    "                combined_df = pd.concat(final_df_list, ignore_index=True)\n",
    "\n",
    "                # Store in dictionary with company name as sheet name\n",
    "                company_data[company_name] = combined_df\n",
    "\n",
    "            except Exception as e:\n",
    "                print(f\"Error reading {excel_path}: {e}\")\n",
    "\n",
    "# Save the consolidated Excel file\n",
    "if company_data:\n",
    "    with pd.ExcelWriter(output_file, engine='xlsxwriter') as writer:\n",
    "        for company, df in company_data.items():\n",
    "            df.to_excel(writer, sheet_name=company[:31], index=False)  # Excel limits sheet names to 31 characters\n",
    "\n",
    "print(f\"Consolidated file saved at: {output_file}\")"
   ]
  }
 ],
 "metadata": {
  "kernelspec": {
   "display_name": "Python 3",
   "language": "python",
   "name": "python3"
  },
  "language_info": {
   "codemirror_mode": {
    "name": "ipython",
    "version": 3
   },
   "file_extension": ".py",
   "mimetype": "text/x-python",
   "name": "python",
   "nbconvert_exporter": "python",
   "pygments_lexer": "ipython3",
   "version": "3.13.2"
  }
 },
 "nbformat": 4,
 "nbformat_minor": 2
}
