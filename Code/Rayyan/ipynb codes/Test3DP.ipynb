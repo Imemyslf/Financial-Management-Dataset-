{
 "cells": [
  {
   "cell_type": "code",
   "execution_count": 12,
   "metadata": {},
   "outputs": [],
   "source": [
    "import numpy as np\n",
    "import pandas as pd\n",
    "import os\n",
    "import re"
   ]
  },
  {
   "cell_type": "code",
   "execution_count": 13,
   "metadata": {},
   "outputs": [
    {
     "name": "stdout",
     "output_type": "stream",
     "text": [
      "Available Excel Sheets:-  dict_keys(['Balance-sheet', 'Cash-flow', 'Profit-loss', 'Quarterly-resul', 'Ratios', 'Year'])\n"
     ]
    },
    {
     "data": {
      "text/plain": [
       "['Balance-sheet',\n",
       " 'Cash-flow',\n",
       " 'Profit-loss',\n",
       " 'Quarterly-resul',\n",
       " 'Ratios',\n",
       " 'Year']"
      ]
     },
     "execution_count": 13,
     "metadata": {},
     "output_type": "execute_result"
    }
   ],
   "source": [
    "input_file = r\"C:\\Users\\sharm\\OneDrive\\Desktop\\Kishan\\Data\\Data Preprocessing\\3i Infotech\\Pruned_3i Infotech.xlsx\"\n",
    "dfs = pd.read_excel(input_file,sheet_name=None)\n",
    "print(\"Available Excel Sheets:- \",dfs.keys())\n",
    "\n",
    "list(dfs.keys())"
   ]
  },
  {
   "cell_type": "code",
   "execution_count": 16,
   "metadata": {},
   "outputs": [
    {
     "name": "stdout",
     "output_type": "stream",
     "text": [
      "Balance Sheet DataFrame:\n",
      "                                      index                    4  \\\n",
      "0  Balance Sheet of 3i Infotech(in Rs. Cr.)  Total Share Capital   \n",
      "1                                    Mar 09               230.75   \n",
      "2                                    Mar 08               230.54   \n",
      "3                                    Mar 07                156.3   \n",
      "\n",
      "                      5                           6                         7  \\\n",
      "0  Reserves and Surplus  Total Reserves and Surplus  Total Shareholders Funds   \n",
      "1                 515.9                       515.9                    746.65   \n",
      "2                414.45                      414.45                    644.98   \n",
      "3                305.35                      305.35                    461.65   \n",
      "\n",
      "                          17                         19  \\\n",
      "0  Other Current Liabilities  Total Current Liabilities   \n",
      "1                     145.62                     467.05   \n",
      "2                         20                     170.76   \n",
      "3                      12.97                     133.11   \n",
      "\n",
      "                              20               23            27  \\\n",
      "0  Total Capital And Liabilities  Tangible Assets  Fixed Assets   \n",
      "1                        2657.52           219.62        452.16   \n",
      "2                        2069.52             45.2        249.38   \n",
      "3                        1131.73            41.55        137.79   \n",
      "\n",
      "                         32                    40            41  \n",
      "0  Total Non-Current Assets  Total Current Assets  Total Assets  \n",
      "1                   1967.23                690.29       2657.52  \n",
      "2                   1492.13                 577.4       2069.52  \n",
      "3                    756.35                375.38       1131.73  \n"
     ]
    }
   ],
   "source": [
    "# Read specific sheets into corresponding DataFrames\n",
    "bs_df = dfs.get(\"Balance-sheet\")\n",
    "cf_df = dfs.get(\"Cash-flow\")\n",
    "pl_df = dfs.get(\"Profit-loss\")\n",
    "qua_df = dfs.get(\"Quarterly-resul\")\n",
    "ra_df = dfs.get(\"Ratios\")\n",
    "ye_df = dfs.get(\"Year\")\n",
    "\n",
    "# Display first few rows of each DataFrame to verify\n",
    "print(\"Balance Sheet DataFrame:\")\n",
    "print(bs_df.head(4))\n",
    "\n",
    "# print(\"\\nCash Flow DataFrame:\")\n",
    "# print(cf_df.head())\n",
    "\n",
    "# print(\"\\nProfit & Loss DataFrame:\")\n",
    "# print(pl_df.head())\n",
    "\n",
    "# print(\"\\nQuarterly DataFrame:\")\n",
    "# print(qua_df.head())\n",
    "\n",
    "# print(\"\\nRatio DataFrame:\")\n",
    "# print(ra_df.head())\n",
    "\n",
    "# print(\"\\nYearly DataFrame:\")\n",
    "# print(ye_df.head())\n"
   ]
  },
  {
   "cell_type": "code",
   "execution_count": 18,
   "metadata": {},
   "outputs": [
    {
     "data": {
      "text/plain": [
       "index    Balance Sheet of 3i Infotech(in Rs. Cr.)\n",
       "4                             Total Share Capital\n",
       "5                            Reserves and Surplus\n",
       "6                      Total Reserves and Surplus\n",
       "7                        Total Shareholders Funds\n",
       "17                      Other Current Liabilities\n",
       "19                      Total Current Liabilities\n",
       "20                  Total Capital And Liabilities\n",
       "23                                Tangible Assets\n",
       "27                                   Fixed Assets\n",
       "32                       Total Non-Current Assets\n",
       "40                           Total Current Assets\n",
       "41                                   Total Assets\n",
       "Name: 0, dtype: object"
      ]
     },
     "execution_count": 18,
     "metadata": {},
     "output_type": "execute_result"
    }
   ],
   "source": [
    "bs_df.iloc[0,:]"
   ]
  },
  {
   "cell_type": "code",
   "execution_count": 15,
   "metadata": {},
   "outputs": [
    {
     "ename": "KeyError",
     "evalue": "'Total Share Capital'",
     "output_type": "error",
     "traceback": [
      "\u001b[1;31m---------------------------------------------------------------------------\u001b[0m",
      "\u001b[1;31mKeyError\u001b[0m                                  Traceback (most recent call last)",
      "File \u001b[1;32mc:\\Users\\sharm\\AppData\\Local\\Programs\\Python\\Python313\\Lib\\site-packages\\pandas\\core\\indexes\\base.py:3805\u001b[0m, in \u001b[0;36mIndex.get_loc\u001b[1;34m(self, key)\u001b[0m\n\u001b[0;32m   3804\u001b[0m \u001b[38;5;28;01mtry\u001b[39;00m:\n\u001b[1;32m-> 3805\u001b[0m     \u001b[38;5;28;01mreturn\u001b[39;00m \u001b[38;5;28;43mself\u001b[39;49m\u001b[38;5;241;43m.\u001b[39;49m\u001b[43m_engine\u001b[49m\u001b[38;5;241;43m.\u001b[39;49m\u001b[43mget_loc\u001b[49m\u001b[43m(\u001b[49m\u001b[43mcasted_key\u001b[49m\u001b[43m)\u001b[49m\n\u001b[0;32m   3806\u001b[0m \u001b[38;5;28;01mexcept\u001b[39;00m \u001b[38;5;167;01mKeyError\u001b[39;00m \u001b[38;5;28;01mas\u001b[39;00m err:\n",
      "File \u001b[1;32mindex.pyx:167\u001b[0m, in \u001b[0;36mpandas._libs.index.IndexEngine.get_loc\u001b[1;34m()\u001b[0m\n",
      "File \u001b[1;32mindex.pyx:196\u001b[0m, in \u001b[0;36mpandas._libs.index.IndexEngine.get_loc\u001b[1;34m()\u001b[0m\n",
      "File \u001b[1;32mpandas\\\\_libs\\\\hashtable_class_helper.pxi:7081\u001b[0m, in \u001b[0;36mpandas._libs.hashtable.PyObjectHashTable.get_item\u001b[1;34m()\u001b[0m\n",
      "File \u001b[1;32mpandas\\\\_libs\\\\hashtable_class_helper.pxi:7089\u001b[0m, in \u001b[0;36mpandas._libs.hashtable.PyObjectHashTable.get_item\u001b[1;34m()\u001b[0m\n",
      "\u001b[1;31mKeyError\u001b[0m: 'Total Share Capital'",
      "\nThe above exception was the direct cause of the following exception:\n",
      "\u001b[1;31mKeyError\u001b[0m                                  Traceback (most recent call last)",
      "Cell \u001b[1;32mIn[15], line 1\u001b[0m\n\u001b[1;32m----> 1\u001b[0m \u001b[43mbs_df\u001b[49m\u001b[43m[\u001b[49m\u001b[38;5;124;43m\"\u001b[39;49m\u001b[38;5;124;43mTotal Share Capital\u001b[39;49m\u001b[38;5;124;43m\"\u001b[39;49m\u001b[43m]\u001b[49m\n",
      "File \u001b[1;32mc:\\Users\\sharm\\AppData\\Local\\Programs\\Python\\Python313\\Lib\\site-packages\\pandas\\core\\frame.py:4102\u001b[0m, in \u001b[0;36mDataFrame.__getitem__\u001b[1;34m(self, key)\u001b[0m\n\u001b[0;32m   4100\u001b[0m \u001b[38;5;28;01mif\u001b[39;00m \u001b[38;5;28mself\u001b[39m\u001b[38;5;241m.\u001b[39mcolumns\u001b[38;5;241m.\u001b[39mnlevels \u001b[38;5;241m>\u001b[39m \u001b[38;5;241m1\u001b[39m:\n\u001b[0;32m   4101\u001b[0m     \u001b[38;5;28;01mreturn\u001b[39;00m \u001b[38;5;28mself\u001b[39m\u001b[38;5;241m.\u001b[39m_getitem_multilevel(key)\n\u001b[1;32m-> 4102\u001b[0m indexer \u001b[38;5;241m=\u001b[39m \u001b[38;5;28;43mself\u001b[39;49m\u001b[38;5;241;43m.\u001b[39;49m\u001b[43mcolumns\u001b[49m\u001b[38;5;241;43m.\u001b[39;49m\u001b[43mget_loc\u001b[49m\u001b[43m(\u001b[49m\u001b[43mkey\u001b[49m\u001b[43m)\u001b[49m\n\u001b[0;32m   4103\u001b[0m \u001b[38;5;28;01mif\u001b[39;00m is_integer(indexer):\n\u001b[0;32m   4104\u001b[0m     indexer \u001b[38;5;241m=\u001b[39m [indexer]\n",
      "File \u001b[1;32mc:\\Users\\sharm\\AppData\\Local\\Programs\\Python\\Python313\\Lib\\site-packages\\pandas\\core\\indexes\\base.py:3812\u001b[0m, in \u001b[0;36mIndex.get_loc\u001b[1;34m(self, key)\u001b[0m\n\u001b[0;32m   3807\u001b[0m     \u001b[38;5;28;01mif\u001b[39;00m \u001b[38;5;28misinstance\u001b[39m(casted_key, \u001b[38;5;28mslice\u001b[39m) \u001b[38;5;129;01mor\u001b[39;00m (\n\u001b[0;32m   3808\u001b[0m         \u001b[38;5;28misinstance\u001b[39m(casted_key, abc\u001b[38;5;241m.\u001b[39mIterable)\n\u001b[0;32m   3809\u001b[0m         \u001b[38;5;129;01mand\u001b[39;00m \u001b[38;5;28many\u001b[39m(\u001b[38;5;28misinstance\u001b[39m(x, \u001b[38;5;28mslice\u001b[39m) \u001b[38;5;28;01mfor\u001b[39;00m x \u001b[38;5;129;01min\u001b[39;00m casted_key)\n\u001b[0;32m   3810\u001b[0m     ):\n\u001b[0;32m   3811\u001b[0m         \u001b[38;5;28;01mraise\u001b[39;00m InvalidIndexError(key)\n\u001b[1;32m-> 3812\u001b[0m     \u001b[38;5;28;01mraise\u001b[39;00m \u001b[38;5;167;01mKeyError\u001b[39;00m(key) \u001b[38;5;28;01mfrom\u001b[39;00m\u001b[38;5;250m \u001b[39m\u001b[38;5;21;01merr\u001b[39;00m\n\u001b[0;32m   3813\u001b[0m \u001b[38;5;28;01mexcept\u001b[39;00m \u001b[38;5;167;01mTypeError\u001b[39;00m:\n\u001b[0;32m   3814\u001b[0m     \u001b[38;5;66;03m# If we have a listlike key, _check_indexing_error will raise\u001b[39;00m\n\u001b[0;32m   3815\u001b[0m     \u001b[38;5;66;03m#  InvalidIndexError. Otherwise we fall through and re-raise\u001b[39;00m\n\u001b[0;32m   3816\u001b[0m     \u001b[38;5;66;03m#  the TypeError.\u001b[39;00m\n\u001b[0;32m   3817\u001b[0m     \u001b[38;5;28mself\u001b[39m\u001b[38;5;241m.\u001b[39m_check_indexing_error(key)\n",
      "\u001b[1;31mKeyError\u001b[0m: 'Total Share Capital'"
     ]
    }
   ],
   "source": [
    "bs_df[\"Total Share Capital\"]"
   ]
  }
 ],
 "metadata": {
  "kernelspec": {
   "display_name": "Python 3",
   "language": "python",
   "name": "python3"
  },
  "language_info": {
   "codemirror_mode": {
    "name": "ipython",
    "version": 3
   },
   "file_extension": ".py",
   "mimetype": "text/x-python",
   "name": "python",
   "nbconvert_exporter": "python",
   "pygments_lexer": "ipython3",
   "version": "3.13.2"
  }
 },
 "nbformat": 4,
 "nbformat_minor": 2
}
