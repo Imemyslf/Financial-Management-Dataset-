{
 "cells": [
  {
   "cell_type": "code",
   "execution_count": 2,
   "metadata": {},
   "outputs": [],
   "source": [
    "import pandas as pd\n",
    "import numpy as np\n",
    "import os"
   ]
  },
  {
   "cell_type": "code",
   "execution_count": null,
   "metadata": {},
   "outputs": [],
   "source": [
    "input_file = r\"C:\\Users\\sharm\\OneDrive\\Desktop\\Kishan\\Contractzy\\WebScrapping\\Tutorial\\Financial_Data\\MoneyControl\\Companies\\IT Services & Consulting\""
   ]
  },
  {
   "cell_type": "code",
   "execution_count": null,
   "metadata": {},
   "outputs": [
    {
     "name": "stdout",
     "output_type": "stream",
     "text": [
      "company_params.json\n",
      "Excel\n",
      "Pruned_Excel\n",
      "company_params.json\n",
      "Excel\n",
      "Pruned_Excel\n",
      "company_params.json\n",
      "Excel\n",
      "Pruned_Excel\n",
      "company_params.json\n",
      "Excel\n",
      "Pruned_Excel\n",
      "company_params.json\n",
      "Excel\n",
      "Pruned_Excel\n",
      "company_params.json\n",
      "Excel\n",
      "Pruned_Excel\n",
      "company_params.json\n",
      "Excel\n",
      "Pruned_Excel\n",
      "company_params.json\n",
      "Excel\n",
      "Pruned_Excel\n",
      "company_params.json\n",
      "Excel\n",
      "Pruned_Excel\n",
      "company_params.json\n",
      "Excel\n",
      "Pruned_Excel\n",
      "company_params.json\n",
      "Excel\n",
      "Pruned_Excel\n",
      "company_params.json\n",
      "Excel\n",
      "Pruned_Excel\n",
      "company_params.json\n",
      "Excel\n",
      "Pruned_Excel\n",
      "company_params.json\n",
      "Excel\n",
      "Pruned_Excel\n",
      "IT Services & Consulting_Common_Parameters.txt\n",
      "Pruned_Excel\n"
     ]
    },
    {
     "ename": "NotADirectoryError",
     "evalue": "[WinError 267] The directory name is invalid: 'C:\\\\Users\\\\sharm\\\\OneDrive\\\\Desktop\\\\Kishan\\\\Contractzy\\\\WebScrapping\\\\Tutorial\\\\Financial_Data\\\\MoneyControl\\\\Companies\\\\IT Services & Consulting/common_sector_param.json'",
     "output_type": "error",
     "traceback": [
      "\u001b[1;31m---------------------------------------------------------------------------\u001b[0m",
      "\u001b[1;31mNotADirectoryError\u001b[0m                        Traceback (most recent call last)",
      "Cell \u001b[1;32mIn[12], line 5\u001b[0m\n\u001b[0;32m      3\u001b[0m \u001b[38;5;28;01mfor\u001b[39;00m company \u001b[38;5;129;01min\u001b[39;00m company_files:\n\u001b[0;32m      4\u001b[0m     folder_path \u001b[38;5;241m=\u001b[39m \u001b[38;5;124mf\u001b[39m\u001b[38;5;124m\"\u001b[39m\u001b[38;5;132;01m{\u001b[39;00minput_file\u001b[38;5;132;01m}\u001b[39;00m\u001b[38;5;124m/\u001b[39m\u001b[38;5;132;01m{\u001b[39;00mcompany\u001b[38;5;132;01m}\u001b[39;00m\u001b[38;5;124m\"\u001b[39m\n\u001b[1;32m----> 5\u001b[0m     company_folders \u001b[38;5;241m=\u001b[39m \u001b[43mos\u001b[49m\u001b[38;5;241;43m.\u001b[39;49m\u001b[43mlistdir\u001b[49m\u001b[43m(\u001b[49m\u001b[43mfolder_path\u001b[49m\u001b[43m)\u001b[49m\n\u001b[0;32m      7\u001b[0m     \u001b[38;5;28;01mfor\u001b[39;00m folders \u001b[38;5;129;01min\u001b[39;00m company_folders:\n\u001b[0;32m      8\u001b[0m         \u001b[38;5;28mprint\u001b[39m(folders)\n",
      "\u001b[1;31mNotADirectoryError\u001b[0m: [WinError 267] The directory name is invalid: 'C:\\\\Users\\\\sharm\\\\OneDrive\\\\Desktop\\\\Kishan\\\\Contractzy\\\\WebScrapping\\\\Tutorial\\\\Financial_Data\\\\MoneyControl\\\\Companies\\\\IT Services & Consulting/common_sector_param.json'"
     ]
    }
   ],
   "source": [
    "company_files = os.listdir(input_file)\n",
    "\n",
    "for company in company_files:\n",
    "    folder_path = f\"{input_file}/{company}\"\n",
    "    \n",
    "    company_folders = os.listdir(folder_path)\n",
    "    \n",
    "    for folders in company_folders:\n",
    "        print(folders)\n",
    "    \n",
    "    pass"
   ]
  }
 ],
 "metadata": {
  "kernelspec": {
   "display_name": "Python 3",
   "language": "python",
   "name": "python3"
  },
  "language_info": {
   "codemirror_mode": {
    "name": "ipython",
    "version": 3
   },
   "file_extension": ".py",
   "mimetype": "text/x-python",
   "name": "python",
   "nbconvert_exporter": "python",
   "pygments_lexer": "ipython3",
   "version": "3.13.2"
  }
 },
 "nbformat": 4,
 "nbformat_minor": 2
}
