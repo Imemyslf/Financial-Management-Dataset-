{
 "cells": [
  {
   "cell_type": "code",
   "execution_count": 2,
   "metadata": {},
   "outputs": [
    {
     "name": "stderr",
     "output_type": "stream",
     "text": [
      "c:\\Users\\rayya\\AppData\\Local\\Programs\\Python\\Python313\\Lib\\site-packages\\statsmodels\\tsa\\base\\tsa_model.py:473: ValueWarning: No frequency information was provided, so inferred frequency QS-DEC will be used.\n",
      "  self._init_dates(dates, freq)\n",
      "c:\\Users\\rayya\\AppData\\Local\\Programs\\Python\\Python313\\Lib\\site-packages\\statsmodels\\tsa\\base\\tsa_model.py:473: ValueWarning: No frequency information was provided, so inferred frequency QS-DEC will be used.\n",
      "  self._init_dates(dates, freq)\n",
      "c:\\Users\\rayya\\AppData\\Local\\Programs\\Python\\Python313\\Lib\\site-packages\\statsmodels\\tsa\\base\\tsa_model.py:473: ValueWarning: No frequency information was provided, so inferred frequency QS-DEC will be used.\n",
      "  self._init_dates(dates, freq)\n",
      "c:\\Users\\rayya\\AppData\\Local\\Programs\\Python\\Python313\\Lib\\site-packages\\statsmodels\\tsa\\base\\tsa_model.py:473: ValueWarning: No frequency information was provided, so inferred frequency QS-DEC will be used.\n",
      "  self._init_dates(dates, freq)\n",
      "c:\\Users\\rayya\\AppData\\Local\\Programs\\Python\\Python313\\Lib\\site-packages\\statsmodels\\tsa\\base\\tsa_model.py:473: ValueWarning: No frequency information was provided, so inferred frequency QS-DEC will be used.\n",
      "  self._init_dates(dates, freq)\n",
      "c:\\Users\\rayya\\AppData\\Local\\Programs\\Python\\Python313\\Lib\\site-packages\\statsmodels\\tsa\\base\\tsa_model.py:473: ValueWarning: No frequency information was provided, so inferred frequency QS-DEC will be used.\n",
      "  self._init_dates(dates, freq)\n",
      "c:\\Users\\rayya\\AppData\\Local\\Programs\\Python\\Python313\\Lib\\site-packages\\statsmodels\\tsa\\base\\tsa_model.py:473: ValueWarning: No frequency information was provided, so inferred frequency QS-DEC will be used.\n",
      "  self._init_dates(dates, freq)\n",
      "c:\\Users\\rayya\\AppData\\Local\\Programs\\Python\\Python313\\Lib\\site-packages\\statsmodels\\tsa\\base\\tsa_model.py:473: ValueWarning: No frequency information was provided, so inferred frequency QS-DEC will be used.\n",
      "  self._init_dates(dates, freq)\n"
     ]
    },
    {
     "name": "stdout",
     "output_type": "stream",
     "text": [
      "Order: (0, 0, 0), Seasonal: (0, 0, 0, 4), MAE: 11500.00, RMSE: 11528.83\n",
      "Order: (0, 0, 0), Seasonal: (0, 0, 1, 4), MAE: 8824.57, RMSE: 9401.37\n",
      "Order: (0, 0, 0), Seasonal: (0, 1, 0, 4), MAE: 1851.00, RMSE: 2233.32\n",
      "Order: (0, 0, 0), Seasonal: (0, 1, 1, 4), MAE: 1947.48, RMSE: 2309.89\n"
     ]
    },
    {
     "name": "stderr",
     "output_type": "stream",
     "text": [
      "c:\\Users\\rayya\\AppData\\Local\\Programs\\Python\\Python313\\Lib\\site-packages\\statsmodels\\tsa\\base\\tsa_model.py:473: ValueWarning: No frequency information was provided, so inferred frequency QS-DEC will be used.\n",
      "  self._init_dates(dates, freq)\n",
      "c:\\Users\\rayya\\AppData\\Local\\Programs\\Python\\Python313\\Lib\\site-packages\\statsmodels\\tsa\\base\\tsa_model.py:473: ValueWarning: No frequency information was provided, so inferred frequency QS-DEC will be used.\n",
      "  self._init_dates(dates, freq)\n",
      "c:\\Users\\rayya\\AppData\\Local\\Programs\\Python\\Python313\\Lib\\site-packages\\statsmodels\\tsa\\base\\tsa_model.py:473: ValueWarning: No frequency information was provided, so inferred frequency QS-DEC will be used.\n",
      "  self._init_dates(dates, freq)\n",
      "c:\\Users\\rayya\\AppData\\Local\\Programs\\Python\\Python313\\Lib\\site-packages\\statsmodels\\tsa\\base\\tsa_model.py:473: ValueWarning: No frequency information was provided, so inferred frequency QS-DEC will be used.\n",
      "  self._init_dates(dates, freq)\n",
      "c:\\Users\\rayya\\AppData\\Local\\Programs\\Python\\Python313\\Lib\\site-packages\\statsmodels\\tsa\\base\\tsa_model.py:473: ValueWarning: No frequency information was provided, so inferred frequency QS-DEC will be used.\n",
      "  self._init_dates(dates, freq)\n",
      "c:\\Users\\rayya\\AppData\\Local\\Programs\\Python\\Python313\\Lib\\site-packages\\statsmodels\\tsa\\base\\tsa_model.py:473: ValueWarning: No frequency information was provided, so inferred frequency QS-DEC will be used.\n",
      "  self._init_dates(dates, freq)\n",
      "c:\\Users\\rayya\\AppData\\Local\\Programs\\Python\\Python313\\Lib\\site-packages\\statsmodels\\tsa\\base\\tsa_model.py:473: ValueWarning: No frequency information was provided, so inferred frequency QS-DEC will be used.\n",
      "  self._init_dates(dates, freq)\n",
      "c:\\Users\\rayya\\AppData\\Local\\Programs\\Python\\Python313\\Lib\\site-packages\\statsmodels\\tsa\\base\\tsa_model.py:473: ValueWarning: No frequency information was provided, so inferred frequency QS-DEC will be used.\n",
      "  self._init_dates(dates, freq)\n",
      "c:\\Users\\rayya\\AppData\\Local\\Programs\\Python\\Python313\\Lib\\site-packages\\statsmodels\\tsa\\base\\tsa_model.py:473: ValueWarning: No frequency information was provided, so inferred frequency QS-DEC will be used.\n",
      "  self._init_dates(dates, freq)\n",
      "c:\\Users\\rayya\\AppData\\Local\\Programs\\Python\\Python313\\Lib\\site-packages\\statsmodels\\tsa\\base\\tsa_model.py:473: ValueWarning: No frequency information was provided, so inferred frequency QS-DEC will be used.\n",
      "  self._init_dates(dates, freq)\n",
      "c:\\Users\\rayya\\AppData\\Local\\Programs\\Python\\Python313\\Lib\\site-packages\\statsmodels\\tsa\\base\\tsa_model.py:473: ValueWarning: No frequency information was provided, so inferred frequency QS-DEC will be used.\n",
      "  self._init_dates(dates, freq)\n",
      "c:\\Users\\rayya\\AppData\\Local\\Programs\\Python\\Python313\\Lib\\site-packages\\statsmodels\\tsa\\base\\tsa_model.py:473: ValueWarning: No frequency information was provided, so inferred frequency QS-DEC will be used.\n",
      "  self._init_dates(dates, freq)\n"
     ]
    },
    {
     "name": "stdout",
     "output_type": "stream",
     "text": [
      "Order: (0, 0, 0), Seasonal: (1, 0, 0, 4), MAE: 842.81, RMSE: 1352.12\n",
      "Order: (0, 0, 0), Seasonal: (1, 0, 1, 4), MAE: 828.35, RMSE: 1159.37\n",
      "Order: (0, 0, 0), Seasonal: (1, 1, 0, 4), MAE: 1972.55, RMSE: 2323.19\n",
      "Order: (0, 0, 0), Seasonal: (1, 1, 1, 4), MAE: 1851.04, RMSE: 2211.15\n",
      "Order: (0, 0, 1), Seasonal: (0, 0, 0, 4), MAE: 10947.15, RMSE: 11111.32\n",
      "Order: (0, 0, 1), Seasonal: (0, 0, 1, 4), MAE: 8708.25, RMSE: 9234.44\n",
      "Order: (0, 0, 1), Seasonal: (0, 1, 0, 4), MAE: 1760.59, RMSE: 2178.14\n",
      "Order: (0, 0, 1), Seasonal: (0, 1, 1, 4), MAE: 1984.72, RMSE: 2353.69\n"
     ]
    },
    {
     "name": "stderr",
     "output_type": "stream",
     "text": [
      "c:\\Users\\rayya\\AppData\\Local\\Programs\\Python\\Python313\\Lib\\site-packages\\statsmodels\\tsa\\base\\tsa_model.py:473: ValueWarning: No frequency information was provided, so inferred frequency QS-DEC will be used.\n",
      "  self._init_dates(dates, freq)\n",
      "c:\\Users\\rayya\\AppData\\Local\\Programs\\Python\\Python313\\Lib\\site-packages\\statsmodels\\tsa\\base\\tsa_model.py:473: ValueWarning: No frequency information was provided, so inferred frequency QS-DEC will be used.\n",
      "  self._init_dates(dates, freq)\n",
      "c:\\Users\\rayya\\AppData\\Local\\Programs\\Python\\Python313\\Lib\\site-packages\\statsmodels\\tsa\\base\\tsa_model.py:473: ValueWarning: No frequency information was provided, so inferred frequency QS-DEC will be used.\n",
      "  self._init_dates(dates, freq)\n",
      "c:\\Users\\rayya\\AppData\\Local\\Programs\\Python\\Python313\\Lib\\site-packages\\statsmodels\\tsa\\base\\tsa_model.py:473: ValueWarning: No frequency information was provided, so inferred frequency QS-DEC will be used.\n",
      "  self._init_dates(dates, freq)\n",
      "c:\\Users\\rayya\\AppData\\Local\\Programs\\Python\\Python313\\Lib\\site-packages\\statsmodels\\tsa\\base\\tsa_model.py:473: ValueWarning: No frequency information was provided, so inferred frequency QS-DEC will be used.\n",
      "  self._init_dates(dates, freq)\n",
      "c:\\Users\\rayya\\AppData\\Local\\Programs\\Python\\Python313\\Lib\\site-packages\\statsmodels\\tsa\\base\\tsa_model.py:473: ValueWarning: No frequency information was provided, so inferred frequency QS-DEC will be used.\n",
      "  self._init_dates(dates, freq)\n",
      "c:\\Users\\rayya\\AppData\\Local\\Programs\\Python\\Python313\\Lib\\site-packages\\statsmodels\\base\\model.py:607: ConvergenceWarning: Maximum Likelihood optimization failed to converge. Check mle_retvals\n",
      "  warnings.warn(\"Maximum Likelihood optimization failed to \"\n",
      "c:\\Users\\rayya\\AppData\\Local\\Programs\\Python\\Python313\\Lib\\site-packages\\statsmodels\\tsa\\base\\tsa_model.py:473: ValueWarning: No frequency information was provided, so inferred frequency QS-DEC will be used.\n",
      "  self._init_dates(dates, freq)\n",
      "c:\\Users\\rayya\\AppData\\Local\\Programs\\Python\\Python313\\Lib\\site-packages\\statsmodels\\tsa\\base\\tsa_model.py:473: ValueWarning: No frequency information was provided, so inferred frequency QS-DEC will be used.\n",
      "  self._init_dates(dates, freq)\n",
      "c:\\Users\\rayya\\AppData\\Local\\Programs\\Python\\Python313\\Lib\\site-packages\\statsmodels\\base\\model.py:607: ConvergenceWarning: Maximum Likelihood optimization failed to converge. Check mle_retvals\n",
      "  warnings.warn(\"Maximum Likelihood optimization failed to \"\n",
      "c:\\Users\\rayya\\AppData\\Local\\Programs\\Python\\Python313\\Lib\\site-packages\\statsmodels\\tsa\\base\\tsa_model.py:473: ValueWarning: No frequency information was provided, so inferred frequency QS-DEC will be used.\n",
      "  self._init_dates(dates, freq)\n",
      "c:\\Users\\rayya\\AppData\\Local\\Programs\\Python\\Python313\\Lib\\site-packages\\statsmodels\\tsa\\base\\tsa_model.py:473: ValueWarning: No frequency information was provided, so inferred frequency QS-DEC will be used.\n",
      "  self._init_dates(dates, freq)\n"
     ]
    },
    {
     "name": "stdout",
     "output_type": "stream",
     "text": [
      "Order: (0, 0, 1), Seasonal: (1, 0, 0, 4), MAE: 888.48, RMSE: 1422.20\n",
      "Order: (0, 0, 1), Seasonal: (1, 0, 1, 4), MAE: 830.04, RMSE: 1168.41\n",
      "Order: (0, 0, 1), Seasonal: (1, 1, 0, 4), MAE: 2006.68, RMSE: 2344.52\n",
      "Order: (0, 0, 1), Seasonal: (1, 1, 1, 4), MAE: 1824.86, RMSE: 2191.00\n",
      "Order: (0, 0, 2), Seasonal: (0, 0, 0, 4), MAE: 9429.92, RMSE: 10230.30\n"
     ]
    },
    {
     "name": "stderr",
     "output_type": "stream",
     "text": [
      "c:\\Users\\rayya\\AppData\\Local\\Programs\\Python\\Python313\\Lib\\site-packages\\statsmodels\\tsa\\base\\tsa_model.py:473: ValueWarning: No frequency information was provided, so inferred frequency QS-DEC will be used.\n",
      "  self._init_dates(dates, freq)\n",
      "c:\\Users\\rayya\\AppData\\Local\\Programs\\Python\\Python313\\Lib\\site-packages\\statsmodels\\tsa\\base\\tsa_model.py:473: ValueWarning: No frequency information was provided, so inferred frequency QS-DEC will be used.\n",
      "  self._init_dates(dates, freq)\n",
      "c:\\Users\\rayya\\AppData\\Local\\Programs\\Python\\Python313\\Lib\\site-packages\\statsmodels\\tsa\\base\\tsa_model.py:473: ValueWarning: No frequency information was provided, so inferred frequency QS-DEC will be used.\n",
      "  self._init_dates(dates, freq)\n",
      "c:\\Users\\rayya\\AppData\\Local\\Programs\\Python\\Python313\\Lib\\site-packages\\statsmodels\\tsa\\base\\tsa_model.py:473: ValueWarning: No frequency information was provided, so inferred frequency QS-DEC will be used.\n",
      "  self._init_dates(dates, freq)\n",
      "c:\\Users\\rayya\\AppData\\Local\\Programs\\Python\\Python313\\Lib\\site-packages\\statsmodels\\tsa\\base\\tsa_model.py:473: ValueWarning: No frequency information was provided, so inferred frequency QS-DEC will be used.\n",
      "  self._init_dates(dates, freq)\n",
      "c:\\Users\\rayya\\AppData\\Local\\Programs\\Python\\Python313\\Lib\\site-packages\\statsmodels\\tsa\\base\\tsa_model.py:473: ValueWarning: No frequency information was provided, so inferred frequency QS-DEC will be used.\n",
      "  self._init_dates(dates, freq)\n"
     ]
    },
    {
     "name": "stdout",
     "output_type": "stream",
     "text": [
      "Order: (0, 0, 2), Seasonal: (0, 0, 1, 4), MAE: 8081.60, RMSE: 8611.02\n",
      "Order: (0, 0, 2), Seasonal: (0, 1, 0, 4), MAE: 1773.36, RMSE: 2101.54\n",
      "Order: (0, 0, 2), Seasonal: (0, 1, 1, 4), MAE: 1956.95, RMSE: 2329.24\n"
     ]
    },
    {
     "name": "stderr",
     "output_type": "stream",
     "text": [
      "c:\\Users\\rayya\\AppData\\Local\\Programs\\Python\\Python313\\Lib\\site-packages\\statsmodels\\tsa\\base\\tsa_model.py:473: ValueWarning: No frequency information was provided, so inferred frequency QS-DEC will be used.\n",
      "  self._init_dates(dates, freq)\n",
      "c:\\Users\\rayya\\AppData\\Local\\Programs\\Python\\Python313\\Lib\\site-packages\\statsmodels\\tsa\\base\\tsa_model.py:473: ValueWarning: No frequency information was provided, so inferred frequency QS-DEC will be used.\n",
      "  self._init_dates(dates, freq)\n",
      "c:\\Users\\rayya\\AppData\\Local\\Programs\\Python\\Python313\\Lib\\site-packages\\statsmodels\\tsa\\base\\tsa_model.py:473: ValueWarning: No frequency information was provided, so inferred frequency QS-DEC will be used.\n",
      "  self._init_dates(dates, freq)\n",
      "c:\\Users\\rayya\\AppData\\Local\\Programs\\Python\\Python313\\Lib\\site-packages\\statsmodels\\tsa\\base\\tsa_model.py:473: ValueWarning: No frequency information was provided, so inferred frequency QS-DEC will be used.\n",
      "  self._init_dates(dates, freq)\n",
      "c:\\Users\\rayya\\AppData\\Local\\Programs\\Python\\Python313\\Lib\\site-packages\\statsmodels\\tsa\\base\\tsa_model.py:473: ValueWarning: No frequency information was provided, so inferred frequency QS-DEC will be used.\n",
      "  self._init_dates(dates, freq)\n",
      "c:\\Users\\rayya\\AppData\\Local\\Programs\\Python\\Python313\\Lib\\site-packages\\statsmodels\\tsa\\base\\tsa_model.py:473: ValueWarning: No frequency information was provided, so inferred frequency QS-DEC will be used.\n",
      "  self._init_dates(dates, freq)\n"
     ]
    },
    {
     "name": "stdout",
     "output_type": "stream",
     "text": [
      "Order: (0, 0, 2), Seasonal: (1, 0, 0, 4), MAE: 837.09, RMSE: 1340.71\n"
     ]
    },
    {
     "name": "stderr",
     "output_type": "stream",
     "text": [
      "c:\\Users\\rayya\\AppData\\Local\\Programs\\Python\\Python313\\Lib\\site-packages\\statsmodels\\tsa\\base\\tsa_model.py:473: ValueWarning: No frequency information was provided, so inferred frequency QS-DEC will be used.\n",
      "  self._init_dates(dates, freq)\n",
      "c:\\Users\\rayya\\AppData\\Local\\Programs\\Python\\Python313\\Lib\\site-packages\\statsmodels\\tsa\\base\\tsa_model.py:473: ValueWarning: No frequency information was provided, so inferred frequency QS-DEC will be used.\n",
      "  self._init_dates(dates, freq)\n",
      "c:\\Users\\rayya\\AppData\\Local\\Programs\\Python\\Python313\\Lib\\site-packages\\statsmodels\\base\\model.py:607: ConvergenceWarning: Maximum Likelihood optimization failed to converge. Check mle_retvals\n",
      "  warnings.warn(\"Maximum Likelihood optimization failed to \"\n"
     ]
    },
    {
     "name": "stdout",
     "output_type": "stream",
     "text": [
      "Order: (0, 0, 2), Seasonal: (1, 0, 1, 4), MAE: 824.94, RMSE: 1190.60\n",
      "Order: (0, 0, 2), Seasonal: (1, 1, 0, 4), MAE: 2014.27, RMSE: 2335.02\n"
     ]
    },
    {
     "name": "stderr",
     "output_type": "stream",
     "text": [
      "c:\\Users\\rayya\\AppData\\Local\\Programs\\Python\\Python313\\Lib\\site-packages\\statsmodels\\tsa\\base\\tsa_model.py:473: ValueWarning: No frequency information was provided, so inferred frequency QS-DEC will be used.\n",
      "  self._init_dates(dates, freq)\n",
      "c:\\Users\\rayya\\AppData\\Local\\Programs\\Python\\Python313\\Lib\\site-packages\\statsmodels\\tsa\\base\\tsa_model.py:473: ValueWarning: No frequency information was provided, so inferred frequency QS-DEC will be used.\n",
      "  self._init_dates(dates, freq)\n",
      "c:\\Users\\rayya\\AppData\\Local\\Programs\\Python\\Python313\\Lib\\site-packages\\statsmodels\\tsa\\base\\tsa_model.py:473: ValueWarning: No frequency information was provided, so inferred frequency QS-DEC will be used.\n",
      "  self._init_dates(dates, freq)\n",
      "c:\\Users\\rayya\\AppData\\Local\\Programs\\Python\\Python313\\Lib\\site-packages\\statsmodels\\tsa\\base\\tsa_model.py:473: ValueWarning: No frequency information was provided, so inferred frequency QS-DEC will be used.\n",
      "  self._init_dates(dates, freq)\n"
     ]
    },
    {
     "name": "stdout",
     "output_type": "stream",
     "text": [
      "Order: (0, 0, 2), Seasonal: (1, 1, 1, 4), MAE: 1771.71, RMSE: 2146.30\n",
      "Order: (0, 1, 0), Seasonal: (0, 0, 0, 4), MAE: 891.00, RMSE: 1171.03\n",
      "Order: (0, 1, 0), Seasonal: (0, 0, 1, 4), MAE: 880.71, RMSE: 1151.19\n",
      "Order: (0, 1, 0), Seasonal: (0, 1, 0, 4), MAE: 855.86, RMSE: 1347.79\n",
      "Order: (0, 1, 0), Seasonal: (0, 1, 1, 4), MAE: 674.15, RMSE: 1035.91\n",
      "Order: (0, 1, 0), Seasonal: (1, 0, 0, 4), MAE: 867.96, RMSE: 1130.59\n"
     ]
    },
    {
     "name": "stderr",
     "output_type": "stream",
     "text": [
      "c:\\Users\\rayya\\AppData\\Local\\Programs\\Python\\Python313\\Lib\\site-packages\\statsmodels\\tsa\\base\\tsa_model.py:473: ValueWarning: No frequency information was provided, so inferred frequency QS-DEC will be used.\n",
      "  self._init_dates(dates, freq)\n",
      "c:\\Users\\rayya\\AppData\\Local\\Programs\\Python\\Python313\\Lib\\site-packages\\statsmodels\\tsa\\base\\tsa_model.py:473: ValueWarning: No frequency information was provided, so inferred frequency QS-DEC will be used.\n",
      "  self._init_dates(dates, freq)\n",
      "c:\\Users\\rayya\\AppData\\Local\\Programs\\Python\\Python313\\Lib\\site-packages\\statsmodels\\tsa\\base\\tsa_model.py:473: ValueWarning: No frequency information was provided, so inferred frequency QS-DEC will be used.\n",
      "  self._init_dates(dates, freq)\n",
      "c:\\Users\\rayya\\AppData\\Local\\Programs\\Python\\Python313\\Lib\\site-packages\\statsmodels\\tsa\\base\\tsa_model.py:473: ValueWarning: No frequency information was provided, so inferred frequency QS-DEC will be used.\n",
      "  self._init_dates(dates, freq)\n",
      "c:\\Users\\rayya\\AppData\\Local\\Programs\\Python\\Python313\\Lib\\site-packages\\statsmodels\\tsa\\base\\tsa_model.py:473: ValueWarning: No frequency information was provided, so inferred frequency QS-DEC will be used.\n",
      "  self._init_dates(dates, freq)\n",
      "c:\\Users\\rayya\\AppData\\Local\\Programs\\Python\\Python313\\Lib\\site-packages\\statsmodels\\tsa\\base\\tsa_model.py:473: ValueWarning: No frequency information was provided, so inferred frequency QS-DEC will be used.\n",
      "  self._init_dates(dates, freq)\n",
      "c:\\Users\\rayya\\AppData\\Local\\Programs\\Python\\Python313\\Lib\\site-packages\\statsmodels\\tsa\\base\\tsa_model.py:473: ValueWarning: No frequency information was provided, so inferred frequency QS-DEC will be used.\n",
      "  self._init_dates(dates, freq)\n",
      "c:\\Users\\rayya\\AppData\\Local\\Programs\\Python\\Python313\\Lib\\site-packages\\statsmodels\\tsa\\base\\tsa_model.py:473: ValueWarning: No frequency information was provided, so inferred frequency QS-DEC will be used.\n",
      "  self._init_dates(dates, freq)\n",
      "c:\\Users\\rayya\\AppData\\Local\\Programs\\Python\\Python313\\Lib\\site-packages\\statsmodels\\tsa\\base\\tsa_model.py:473: ValueWarning: No frequency information was provided, so inferred frequency QS-DEC will be used.\n",
      "  self._init_dates(dates, freq)\n",
      "c:\\Users\\rayya\\AppData\\Local\\Programs\\Python\\Python313\\Lib\\site-packages\\statsmodels\\tsa\\base\\tsa_model.py:473: ValueWarning: No frequency information was provided, so inferred frequency QS-DEC will be used.\n",
      "  self._init_dates(dates, freq)\n",
      "c:\\Users\\rayya\\AppData\\Local\\Programs\\Python\\Python313\\Lib\\site-packages\\statsmodels\\tsa\\base\\tsa_model.py:473: ValueWarning: No frequency information was provided, so inferred frequency QS-DEC will be used.\n",
      "  self._init_dates(dates, freq)\n",
      "c:\\Users\\rayya\\AppData\\Local\\Programs\\Python\\Python313\\Lib\\site-packages\\statsmodels\\tsa\\base\\tsa_model.py:473: ValueWarning: No frequency information was provided, so inferred frequency QS-DEC will be used.\n",
      "  self._init_dates(dates, freq)\n"
     ]
    },
    {
     "name": "stdout",
     "output_type": "stream",
     "text": [
      "Order: (0, 1, 0), Seasonal: (1, 0, 1, 4), MAE: 835.61, RMSE: 1111.27\n",
      "Order: (0, 1, 0), Seasonal: (1, 1, 0, 4), MAE: 959.22, RMSE: 1320.63\n",
      "Order: (0, 1, 0), Seasonal: (1, 1, 1, 4), MAE: 909.21, RMSE: 1282.75\n",
      "Order: (0, 1, 1), Seasonal: (0, 0, 0, 4), MAE: 1356.68, RMSE: 1582.60\n",
      "Order: (0, 1, 1), Seasonal: (0, 0, 1, 4), MAE: 1173.83, RMSE: 1419.53\n"
     ]
    },
    {
     "name": "stderr",
     "output_type": "stream",
     "text": [
      "c:\\Users\\rayya\\AppData\\Local\\Programs\\Python\\Python313\\Lib\\site-packages\\statsmodels\\tsa\\base\\tsa_model.py:473: ValueWarning: No frequency information was provided, so inferred frequency QS-DEC will be used.\n",
      "  self._init_dates(dates, freq)\n",
      "c:\\Users\\rayya\\AppData\\Local\\Programs\\Python\\Python313\\Lib\\site-packages\\statsmodels\\tsa\\base\\tsa_model.py:473: ValueWarning: No frequency information was provided, so inferred frequency QS-DEC will be used.\n",
      "  self._init_dates(dates, freq)\n",
      "c:\\Users\\rayya\\AppData\\Local\\Programs\\Python\\Python313\\Lib\\site-packages\\statsmodels\\tsa\\base\\tsa_model.py:473: ValueWarning: No frequency information was provided, so inferred frequency QS-DEC will be used.\n",
      "  self._init_dates(dates, freq)\n",
      "c:\\Users\\rayya\\AppData\\Local\\Programs\\Python\\Python313\\Lib\\site-packages\\statsmodels\\tsa\\base\\tsa_model.py:473: ValueWarning: No frequency information was provided, so inferred frequency QS-DEC will be used.\n",
      "  self._init_dates(dates, freq)\n",
      "c:\\Users\\rayya\\AppData\\Local\\Programs\\Python\\Python313\\Lib\\site-packages\\statsmodels\\tsa\\base\\tsa_model.py:473: ValueWarning: No frequency information was provided, so inferred frequency QS-DEC will be used.\n",
      "  self._init_dates(dates, freq)\n",
      "c:\\Users\\rayya\\AppData\\Local\\Programs\\Python\\Python313\\Lib\\site-packages\\statsmodels\\tsa\\base\\tsa_model.py:473: ValueWarning: No frequency information was provided, so inferred frequency QS-DEC will be used.\n",
      "  self._init_dates(dates, freq)\n",
      "c:\\Users\\rayya\\AppData\\Local\\Programs\\Python\\Python313\\Lib\\site-packages\\statsmodels\\tsa\\base\\tsa_model.py:473: ValueWarning: No frequency information was provided, so inferred frequency QS-DEC will be used.\n",
      "  self._init_dates(dates, freq)\n",
      "c:\\Users\\rayya\\AppData\\Local\\Programs\\Python\\Python313\\Lib\\site-packages\\statsmodels\\tsa\\base\\tsa_model.py:473: ValueWarning: No frequency information was provided, so inferred frequency QS-DEC will be used.\n",
      "  self._init_dates(dates, freq)\n",
      "c:\\Users\\rayya\\AppData\\Local\\Programs\\Python\\Python313\\Lib\\site-packages\\statsmodels\\tsa\\base\\tsa_model.py:473: ValueWarning: No frequency information was provided, so inferred frequency QS-DEC will be used.\n",
      "  self._init_dates(dates, freq)\n",
      "c:\\Users\\rayya\\AppData\\Local\\Programs\\Python\\Python313\\Lib\\site-packages\\statsmodels\\tsa\\base\\tsa_model.py:473: ValueWarning: No frequency information was provided, so inferred frequency QS-DEC will be used.\n",
      "  self._init_dates(dates, freq)\n"
     ]
    },
    {
     "name": "stdout",
     "output_type": "stream",
     "text": [
      "Order: (0, 1, 1), Seasonal: (0, 1, 0, 4), MAE: 906.67, RMSE: 1390.75\n",
      "Order: (0, 1, 1), Seasonal: (0, 1, 1, 4), MAE: 1122.66, RMSE: 1403.38\n",
      "Order: (0, 1, 1), Seasonal: (1, 0, 0, 4), MAE: 1343.16, RMSE: 1561.55\n",
      "Order: (0, 1, 1), Seasonal: (1, 0, 1, 4), MAE: 1157.25, RMSE: 1397.72\n"
     ]
    },
    {
     "name": "stderr",
     "output_type": "stream",
     "text": [
      "c:\\Users\\rayya\\AppData\\Local\\Programs\\Python\\Python313\\Lib\\site-packages\\statsmodels\\tsa\\base\\tsa_model.py:473: ValueWarning: No frequency information was provided, so inferred frequency QS-DEC will be used.\n",
      "  self._init_dates(dates, freq)\n",
      "c:\\Users\\rayya\\AppData\\Local\\Programs\\Python\\Python313\\Lib\\site-packages\\statsmodels\\tsa\\base\\tsa_model.py:473: ValueWarning: No frequency information was provided, so inferred frequency QS-DEC will be used.\n",
      "  self._init_dates(dates, freq)\n",
      "c:\\Users\\rayya\\AppData\\Local\\Programs\\Python\\Python313\\Lib\\site-packages\\statsmodels\\tsa\\base\\tsa_model.py:473: ValueWarning: No frequency information was provided, so inferred frequency QS-DEC will be used.\n",
      "  self._init_dates(dates, freq)\n",
      "c:\\Users\\rayya\\AppData\\Local\\Programs\\Python\\Python313\\Lib\\site-packages\\statsmodels\\tsa\\base\\tsa_model.py:473: ValueWarning: No frequency information was provided, so inferred frequency QS-DEC will be used.\n",
      "  self._init_dates(dates, freq)\n",
      "c:\\Users\\rayya\\AppData\\Local\\Programs\\Python\\Python313\\Lib\\site-packages\\statsmodels\\tsa\\base\\tsa_model.py:473: ValueWarning: No frequency information was provided, so inferred frequency QS-DEC will be used.\n",
      "  self._init_dates(dates, freq)\n",
      "c:\\Users\\rayya\\AppData\\Local\\Programs\\Python\\Python313\\Lib\\site-packages\\statsmodels\\tsa\\base\\tsa_model.py:473: ValueWarning: No frequency information was provided, so inferred frequency QS-DEC will be used.\n",
      "  self._init_dates(dates, freq)\n",
      "c:\\Users\\rayya\\AppData\\Local\\Programs\\Python\\Python313\\Lib\\site-packages\\statsmodels\\tsa\\base\\tsa_model.py:473: ValueWarning: No frequency information was provided, so inferred frequency QS-DEC will be used.\n",
      "  self._init_dates(dates, freq)\n",
      "c:\\Users\\rayya\\AppData\\Local\\Programs\\Python\\Python313\\Lib\\site-packages\\statsmodels\\tsa\\base\\tsa_model.py:473: ValueWarning: No frequency information was provided, so inferred frequency QS-DEC will be used.\n",
      "  self._init_dates(dates, freq)\n"
     ]
    },
    {
     "name": "stdout",
     "output_type": "stream",
     "text": [
      "Order: (0, 1, 1), Seasonal: (1, 1, 0, 4), MAE: 1017.04, RMSE: 1389.21\n",
      "Order: (0, 1, 1), Seasonal: (1, 1, 1, 4), MAE: 1074.96, RMSE: 1425.38\n",
      "Order: (0, 1, 2), Seasonal: (0, 0, 0, 4), MAE: 1360.11, RMSE: 1585.72\n"
     ]
    },
    {
     "name": "stderr",
     "output_type": "stream",
     "text": [
      "c:\\Users\\rayya\\AppData\\Local\\Programs\\Python\\Python313\\Lib\\site-packages\\statsmodels\\tsa\\base\\tsa_model.py:473: ValueWarning: No frequency information was provided, so inferred frequency QS-DEC will be used.\n",
      "  self._init_dates(dates, freq)\n",
      "c:\\Users\\rayya\\AppData\\Local\\Programs\\Python\\Python313\\Lib\\site-packages\\statsmodels\\tsa\\base\\tsa_model.py:473: ValueWarning: No frequency information was provided, so inferred frequency QS-DEC will be used.\n",
      "  self._init_dates(dates, freq)\n",
      "c:\\Users\\rayya\\AppData\\Local\\Programs\\Python\\Python313\\Lib\\site-packages\\statsmodels\\tsa\\base\\tsa_model.py:473: ValueWarning: No frequency information was provided, so inferred frequency QS-DEC will be used.\n",
      "  self._init_dates(dates, freq)\n",
      "c:\\Users\\rayya\\AppData\\Local\\Programs\\Python\\Python313\\Lib\\site-packages\\statsmodels\\tsa\\base\\tsa_model.py:473: ValueWarning: No frequency information was provided, so inferred frequency QS-DEC will be used.\n",
      "  self._init_dates(dates, freq)\n",
      "c:\\Users\\rayya\\AppData\\Local\\Programs\\Python\\Python313\\Lib\\site-packages\\statsmodels\\tsa\\base\\tsa_model.py:473: ValueWarning: No frequency information was provided, so inferred frequency QS-DEC will be used.\n",
      "  self._init_dates(dates, freq)\n",
      "c:\\Users\\rayya\\AppData\\Local\\Programs\\Python\\Python313\\Lib\\site-packages\\statsmodels\\tsa\\base\\tsa_model.py:473: ValueWarning: No frequency information was provided, so inferred frequency QS-DEC will be used.\n",
      "  self._init_dates(dates, freq)\n"
     ]
    },
    {
     "name": "stdout",
     "output_type": "stream",
     "text": [
      "Order: (0, 1, 2), Seasonal: (0, 0, 1, 4), MAE: 1355.71, RMSE: 1587.52\n",
      "Order: (0, 1, 2), Seasonal: (0, 1, 0, 4), MAE: 875.54, RMSE: 1363.77\n",
      "Order: (0, 1, 2), Seasonal: (0, 1, 1, 4), MAE: 1051.29, RMSE: 1405.95\n"
     ]
    },
    {
     "name": "stderr",
     "output_type": "stream",
     "text": [
      "c:\\Users\\rayya\\AppData\\Local\\Programs\\Python\\Python313\\Lib\\site-packages\\statsmodels\\tsa\\base\\tsa_model.py:473: ValueWarning: No frequency information was provided, so inferred frequency QS-DEC will be used.\n",
      "  self._init_dates(dates, freq)\n",
      "c:\\Users\\rayya\\AppData\\Local\\Programs\\Python\\Python313\\Lib\\site-packages\\statsmodels\\tsa\\base\\tsa_model.py:473: ValueWarning: No frequency information was provided, so inferred frequency QS-DEC will be used.\n",
      "  self._init_dates(dates, freq)\n",
      "c:\\Users\\rayya\\AppData\\Local\\Programs\\Python\\Python313\\Lib\\site-packages\\statsmodels\\tsa\\base\\tsa_model.py:473: ValueWarning: No frequency information was provided, so inferred frequency QS-DEC will be used.\n",
      "  self._init_dates(dates, freq)\n",
      "c:\\Users\\rayya\\AppData\\Local\\Programs\\Python\\Python313\\Lib\\site-packages\\statsmodels\\tsa\\base\\tsa_model.py:473: ValueWarning: No frequency information was provided, so inferred frequency QS-DEC will be used.\n",
      "  self._init_dates(dates, freq)\n",
      "c:\\Users\\rayya\\AppData\\Local\\Programs\\Python\\Python313\\Lib\\site-packages\\statsmodels\\tsa\\base\\tsa_model.py:473: ValueWarning: No frequency information was provided, so inferred frequency QS-DEC will be used.\n",
      "  self._init_dates(dates, freq)\n",
      "c:\\Users\\rayya\\AppData\\Local\\Programs\\Python\\Python313\\Lib\\site-packages\\statsmodels\\tsa\\base\\tsa_model.py:473: ValueWarning: No frequency information was provided, so inferred frequency QS-DEC will be used.\n",
      "  self._init_dates(dates, freq)\n"
     ]
    },
    {
     "name": "stdout",
     "output_type": "stream",
     "text": [
      "Order: (0, 1, 2), Seasonal: (1, 0, 0, 4), MAE: 1366.05, RMSE: 1585.21\n",
      "Order: (0, 1, 2), Seasonal: (1, 0, 1, 4), MAE: 1359.11, RMSE: 1587.31\n",
      "Order: (0, 1, 2), Seasonal: (1, 1, 0, 4), MAE: 1023.97, RMSE: 1383.16\n"
     ]
    },
    {
     "name": "stderr",
     "output_type": "stream",
     "text": [
      "c:\\Users\\rayya\\AppData\\Local\\Programs\\Python\\Python313\\Lib\\site-packages\\statsmodels\\tsa\\base\\tsa_model.py:473: ValueWarning: No frequency information was provided, so inferred frequency QS-DEC will be used.\n",
      "  self._init_dates(dates, freq)\n",
      "c:\\Users\\rayya\\AppData\\Local\\Programs\\Python\\Python313\\Lib\\site-packages\\statsmodels\\tsa\\base\\tsa_model.py:473: ValueWarning: No frequency information was provided, so inferred frequency QS-DEC will be used.\n",
      "  self._init_dates(dates, freq)\n",
      "c:\\Users\\rayya\\AppData\\Local\\Programs\\Python\\Python313\\Lib\\site-packages\\statsmodels\\tsa\\base\\tsa_model.py:473: ValueWarning: No frequency information was provided, so inferred frequency QS-DEC will be used.\n",
      "  self._init_dates(dates, freq)\n",
      "c:\\Users\\rayya\\AppData\\Local\\Programs\\Python\\Python313\\Lib\\site-packages\\statsmodels\\tsa\\base\\tsa_model.py:473: ValueWarning: No frequency information was provided, so inferred frequency QS-DEC will be used.\n",
      "  self._init_dates(dates, freq)\n",
      "c:\\Users\\rayya\\AppData\\Local\\Programs\\Python\\Python313\\Lib\\site-packages\\statsmodels\\tsa\\base\\tsa_model.py:473: ValueWarning: No frequency information was provided, so inferred frequency QS-DEC will be used.\n",
      "  self._init_dates(dates, freq)\n",
      "c:\\Users\\rayya\\AppData\\Local\\Programs\\Python\\Python313\\Lib\\site-packages\\statsmodels\\tsa\\base\\tsa_model.py:473: ValueWarning: No frequency information was provided, so inferred frequency QS-DEC will be used.\n",
      "  self._init_dates(dates, freq)\n"
     ]
    },
    {
     "name": "stdout",
     "output_type": "stream",
     "text": [
      "Order: (0, 1, 2), Seasonal: (1, 1, 1, 4), MAE: 1029.26, RMSE: 1417.81\n",
      "Order: (1, 0, 0), Seasonal: (0, 0, 0, 4), MAE: 403.12, RMSE: 585.58\n",
      "Order: (1, 0, 0), Seasonal: (0, 0, 1, 4), MAE: 461.53, RMSE: 653.65\n",
      "Order: (1, 0, 0), Seasonal: (0, 1, 0, 4), MAE: 1726.69, RMSE: 2128.79\n",
      "Order: (1, 0, 0), Seasonal: (0, 1, 1, 4), MAE: 1770.84, RMSE: 2128.21\n"
     ]
    },
    {
     "name": "stderr",
     "output_type": "stream",
     "text": [
      "c:\\Users\\rayya\\AppData\\Local\\Programs\\Python\\Python313\\Lib\\site-packages\\statsmodels\\tsa\\base\\tsa_model.py:473: ValueWarning: No frequency information was provided, so inferred frequency QS-DEC will be used.\n",
      "  self._init_dates(dates, freq)\n",
      "c:\\Users\\rayya\\AppData\\Local\\Programs\\Python\\Python313\\Lib\\site-packages\\statsmodels\\tsa\\base\\tsa_model.py:473: ValueWarning: No frequency information was provided, so inferred frequency QS-DEC will be used.\n",
      "  self._init_dates(dates, freq)\n",
      "c:\\Users\\rayya\\AppData\\Local\\Programs\\Python\\Python313\\Lib\\site-packages\\statsmodels\\tsa\\base\\tsa_model.py:473: ValueWarning: No frequency information was provided, so inferred frequency QS-DEC will be used.\n",
      "  self._init_dates(dates, freq)\n",
      "c:\\Users\\rayya\\AppData\\Local\\Programs\\Python\\Python313\\Lib\\site-packages\\statsmodels\\tsa\\base\\tsa_model.py:473: ValueWarning: No frequency information was provided, so inferred frequency QS-DEC will be used.\n",
      "  self._init_dates(dates, freq)\n",
      "c:\\Users\\rayya\\AppData\\Local\\Programs\\Python\\Python313\\Lib\\site-packages\\statsmodels\\tsa\\base\\tsa_model.py:473: ValueWarning: No frequency information was provided, so inferred frequency QS-DEC will be used.\n",
      "  self._init_dates(dates, freq)\n",
      "c:\\Users\\rayya\\AppData\\Local\\Programs\\Python\\Python313\\Lib\\site-packages\\statsmodels\\tsa\\base\\tsa_model.py:473: ValueWarning: No frequency information was provided, so inferred frequency QS-DEC will be used.\n",
      "  self._init_dates(dates, freq)\n",
      "c:\\Users\\rayya\\AppData\\Local\\Programs\\Python\\Python313\\Lib\\site-packages\\statsmodels\\tsa\\base\\tsa_model.py:473: ValueWarning: No frequency information was provided, so inferred frequency QS-DEC will be used.\n",
      "  self._init_dates(dates, freq)\n",
      "c:\\Users\\rayya\\AppData\\Local\\Programs\\Python\\Python313\\Lib\\site-packages\\statsmodels\\tsa\\base\\tsa_model.py:473: ValueWarning: No frequency information was provided, so inferred frequency QS-DEC will be used.\n",
      "  self._init_dates(dates, freq)\n",
      "c:\\Users\\rayya\\AppData\\Local\\Programs\\Python\\Python313\\Lib\\site-packages\\statsmodels\\tsa\\base\\tsa_model.py:473: ValueWarning: No frequency information was provided, so inferred frequency QS-DEC will be used.\n",
      "  self._init_dates(dates, freq)\n",
      "c:\\Users\\rayya\\AppData\\Local\\Programs\\Python\\Python313\\Lib\\site-packages\\statsmodels\\tsa\\base\\tsa_model.py:473: ValueWarning: No frequency information was provided, so inferred frequency QS-DEC will be used.\n",
      "  self._init_dates(dates, freq)\n"
     ]
    },
    {
     "name": "stdout",
     "output_type": "stream",
     "text": [
      "Order: (1, 0, 0), Seasonal: (1, 0, 0, 4), MAE: 898.10, RMSE: 1430.04\n",
      "Order: (1, 0, 0), Seasonal: (1, 0, 1, 4), MAE: 832.56, RMSE: 1168.05\n",
      "Order: (1, 0, 0), Seasonal: (1, 1, 0, 4), MAE: 1626.60, RMSE: 2004.75\n"
     ]
    },
    {
     "name": "stderr",
     "output_type": "stream",
     "text": [
      "c:\\Users\\rayya\\AppData\\Local\\Programs\\Python\\Python313\\Lib\\site-packages\\statsmodels\\tsa\\base\\tsa_model.py:473: ValueWarning: No frequency information was provided, so inferred frequency QS-DEC will be used.\n",
      "  self._init_dates(dates, freq)\n",
      "c:\\Users\\rayya\\AppData\\Local\\Programs\\Python\\Python313\\Lib\\site-packages\\statsmodels\\tsa\\base\\tsa_model.py:473: ValueWarning: No frequency information was provided, so inferred frequency QS-DEC will be used.\n",
      "  self._init_dates(dates, freq)\n",
      "c:\\Users\\rayya\\AppData\\Local\\Programs\\Python\\Python313\\Lib\\site-packages\\statsmodels\\tsa\\base\\tsa_model.py:473: ValueWarning: No frequency information was provided, so inferred frequency QS-DEC will be used.\n",
      "  self._init_dates(dates, freq)\n",
      "c:\\Users\\rayya\\AppData\\Local\\Programs\\Python\\Python313\\Lib\\site-packages\\statsmodels\\tsa\\base\\tsa_model.py:473: ValueWarning: No frequency information was provided, so inferred frequency QS-DEC will be used.\n",
      "  self._init_dates(dates, freq)\n",
      "c:\\Users\\rayya\\AppData\\Local\\Programs\\Python\\Python313\\Lib\\site-packages\\statsmodels\\tsa\\base\\tsa_model.py:473: ValueWarning: No frequency information was provided, so inferred frequency QS-DEC will be used.\n",
      "  self._init_dates(dates, freq)\n",
      "c:\\Users\\rayya\\AppData\\Local\\Programs\\Python\\Python313\\Lib\\site-packages\\statsmodels\\tsa\\base\\tsa_model.py:473: ValueWarning: No frequency information was provided, so inferred frequency QS-DEC will be used.\n",
      "  self._init_dates(dates, freq)\n"
     ]
    },
    {
     "name": "stdout",
     "output_type": "stream",
     "text": [
      "Order: (1, 0, 0), Seasonal: (1, 1, 1, 4), MAE: 1606.82, RMSE: 1992.24\n",
      "Order: (1, 0, 1), Seasonal: (0, 0, 0, 4), MAE: 426.73, RMSE: 633.32\n",
      "Order: (1, 0, 1), Seasonal: (0, 0, 1, 4), MAE: 404.31, RMSE: 596.62\n",
      "Order: (1, 0, 1), Seasonal: (0, 1, 0, 4), MAE: 1571.61, RMSE: 1980.32\n"
     ]
    },
    {
     "name": "stderr",
     "output_type": "stream",
     "text": [
      "c:\\Users\\rayya\\AppData\\Local\\Programs\\Python\\Python313\\Lib\\site-packages\\statsmodels\\tsa\\base\\tsa_model.py:473: ValueWarning: No frequency information was provided, so inferred frequency QS-DEC will be used.\n",
      "  self._init_dates(dates, freq)\n",
      "c:\\Users\\rayya\\AppData\\Local\\Programs\\Python\\Python313\\Lib\\site-packages\\statsmodels\\tsa\\base\\tsa_model.py:473: ValueWarning: No frequency information was provided, so inferred frequency QS-DEC will be used.\n",
      "  self._init_dates(dates, freq)\n",
      "c:\\Users\\rayya\\AppData\\Local\\Programs\\Python\\Python313\\Lib\\site-packages\\statsmodels\\tsa\\base\\tsa_model.py:473: ValueWarning: No frequency information was provided, so inferred frequency QS-DEC will be used.\n",
      "  self._init_dates(dates, freq)\n",
      "c:\\Users\\rayya\\AppData\\Local\\Programs\\Python\\Python313\\Lib\\site-packages\\statsmodels\\tsa\\base\\tsa_model.py:473: ValueWarning: No frequency information was provided, so inferred frequency QS-DEC will be used.\n",
      "  self._init_dates(dates, freq)\n",
      "c:\\Users\\rayya\\AppData\\Local\\Programs\\Python\\Python313\\Lib\\site-packages\\statsmodels\\tsa\\base\\tsa_model.py:473: ValueWarning: No frequency information was provided, so inferred frequency QS-DEC will be used.\n",
      "  self._init_dates(dates, freq)\n",
      "c:\\Users\\rayya\\AppData\\Local\\Programs\\Python\\Python313\\Lib\\site-packages\\statsmodels\\tsa\\base\\tsa_model.py:473: ValueWarning: No frequency information was provided, so inferred frequency QS-DEC will be used.\n",
      "  self._init_dates(dates, freq)\n",
      "c:\\Users\\rayya\\AppData\\Local\\Programs\\Python\\Python313\\Lib\\site-packages\\statsmodels\\tsa\\base\\tsa_model.py:473: ValueWarning: No frequency information was provided, so inferred frequency QS-DEC will be used.\n",
      "  self._init_dates(dates, freq)\n",
      "c:\\Users\\rayya\\AppData\\Local\\Programs\\Python\\Python313\\Lib\\site-packages\\statsmodels\\tsa\\base\\tsa_model.py:473: ValueWarning: No frequency information was provided, so inferred frequency QS-DEC will be used.\n",
      "  self._init_dates(dates, freq)\n"
     ]
    },
    {
     "name": "stdout",
     "output_type": "stream",
     "text": [
      "Order: (1, 0, 1), Seasonal: (0, 1, 1, 4), MAE: 859.69, RMSE: 1202.83\n",
      "Order: (1, 0, 1), Seasonal: (1, 0, 0, 4), MAE: 409.15, RMSE: 613.53\n"
     ]
    },
    {
     "name": "stderr",
     "output_type": "stream",
     "text": [
      "c:\\Users\\rayya\\AppData\\Local\\Programs\\Python\\Python313\\Lib\\site-packages\\statsmodels\\tsa\\base\\tsa_model.py:473: ValueWarning: No frequency information was provided, so inferred frequency QS-DEC will be used.\n",
      "  self._init_dates(dates, freq)\n",
      "c:\\Users\\rayya\\AppData\\Local\\Programs\\Python\\Python313\\Lib\\site-packages\\statsmodels\\tsa\\base\\tsa_model.py:473: ValueWarning: No frequency information was provided, so inferred frequency QS-DEC will be used.\n",
      "  self._init_dates(dates, freq)\n",
      "c:\\Users\\rayya\\AppData\\Local\\Programs\\Python\\Python313\\Lib\\site-packages\\statsmodels\\tsa\\base\\tsa_model.py:473: ValueWarning: No frequency information was provided, so inferred frequency QS-DEC will be used.\n",
      "  self._init_dates(dates, freq)\n",
      "c:\\Users\\rayya\\AppData\\Local\\Programs\\Python\\Python313\\Lib\\site-packages\\statsmodels\\tsa\\base\\tsa_model.py:473: ValueWarning: No frequency information was provided, so inferred frequency QS-DEC will be used.\n",
      "  self._init_dates(dates, freq)\n"
     ]
    },
    {
     "name": "stdout",
     "output_type": "stream",
     "text": [
      "Order: (1, 0, 1), Seasonal: (1, 0, 1, 4), MAE: 411.36, RMSE: 607.19\n",
      "Order: (1, 0, 1), Seasonal: (1, 1, 0, 4), MAE: 1314.04, RMSE: 1702.11\n"
     ]
    },
    {
     "name": "stderr",
     "output_type": "stream",
     "text": [
      "c:\\Users\\rayya\\AppData\\Local\\Programs\\Python\\Python313\\Lib\\site-packages\\statsmodels\\tsa\\base\\tsa_model.py:473: ValueWarning: No frequency information was provided, so inferred frequency QS-DEC will be used.\n",
      "  self._init_dates(dates, freq)\n",
      "c:\\Users\\rayya\\AppData\\Local\\Programs\\Python\\Python313\\Lib\\site-packages\\statsmodels\\tsa\\base\\tsa_model.py:473: ValueWarning: No frequency information was provided, so inferred frequency QS-DEC will be used.\n",
      "  self._init_dates(dates, freq)\n",
      "c:\\Users\\rayya\\AppData\\Local\\Programs\\Python\\Python313\\Lib\\site-packages\\statsmodels\\tsa\\base\\tsa_model.py:473: ValueWarning: No frequency information was provided, so inferred frequency QS-DEC will be used.\n",
      "  self._init_dates(dates, freq)\n",
      "c:\\Users\\rayya\\AppData\\Local\\Programs\\Python\\Python313\\Lib\\site-packages\\statsmodels\\tsa\\base\\tsa_model.py:473: ValueWarning: No frequency information was provided, so inferred frequency QS-DEC will be used.\n",
      "  self._init_dates(dates, freq)\n"
     ]
    },
    {
     "name": "stdout",
     "output_type": "stream",
     "text": [
      "Order: (1, 0, 1), Seasonal: (1, 1, 1, 4), MAE: 1270.57, RMSE: 1678.50\n",
      "Order: (1, 0, 2), Seasonal: (0, 0, 0, 4), MAE: 418.62, RMSE: 632.26\n"
     ]
    },
    {
     "name": "stderr",
     "output_type": "stream",
     "text": [
      "c:\\Users\\rayya\\AppData\\Local\\Programs\\Python\\Python313\\Lib\\site-packages\\statsmodels\\tsa\\base\\tsa_model.py:473: ValueWarning: No frequency information was provided, so inferred frequency QS-DEC will be used.\n",
      "  self._init_dates(dates, freq)\n",
      "c:\\Users\\rayya\\AppData\\Local\\Programs\\Python\\Python313\\Lib\\site-packages\\statsmodels\\tsa\\base\\tsa_model.py:473: ValueWarning: No frequency information was provided, so inferred frequency QS-DEC will be used.\n",
      "  self._init_dates(dates, freq)\n",
      "c:\\Users\\rayya\\AppData\\Local\\Programs\\Python\\Python313\\Lib\\site-packages\\statsmodels\\tsa\\base\\tsa_model.py:473: ValueWarning: No frequency information was provided, so inferred frequency QS-DEC will be used.\n",
      "  self._init_dates(dates, freq)\n",
      "c:\\Users\\rayya\\AppData\\Local\\Programs\\Python\\Python313\\Lib\\site-packages\\statsmodels\\tsa\\base\\tsa_model.py:473: ValueWarning: No frequency information was provided, so inferred frequency QS-DEC will be used.\n",
      "  self._init_dates(dates, freq)\n"
     ]
    },
    {
     "name": "stdout",
     "output_type": "stream",
     "text": [
      "Order: (1, 0, 2), Seasonal: (0, 0, 1, 4), MAE: 442.64, RMSE: 663.05\n",
      "Order: (1, 0, 2), Seasonal: (0, 1, 0, 4), MAE: 1700.67, RMSE: 2051.60\n",
      "Order: (1, 0, 2), Seasonal: (0, 1, 1, 4), MAE: 977.42, RMSE: 1378.46\n"
     ]
    },
    {
     "name": "stderr",
     "output_type": "stream",
     "text": [
      "c:\\Users\\rayya\\AppData\\Local\\Programs\\Python\\Python313\\Lib\\site-packages\\statsmodels\\tsa\\base\\tsa_model.py:473: ValueWarning: No frequency information was provided, so inferred frequency QS-DEC will be used.\n",
      "  self._init_dates(dates, freq)\n",
      "c:\\Users\\rayya\\AppData\\Local\\Programs\\Python\\Python313\\Lib\\site-packages\\statsmodels\\tsa\\base\\tsa_model.py:473: ValueWarning: No frequency information was provided, so inferred frequency QS-DEC will be used.\n",
      "  self._init_dates(dates, freq)\n",
      "c:\\Users\\rayya\\AppData\\Local\\Programs\\Python\\Python313\\Lib\\site-packages\\statsmodels\\tsa\\base\\tsa_model.py:473: ValueWarning: No frequency information was provided, so inferred frequency QS-DEC will be used.\n",
      "  self._init_dates(dates, freq)\n",
      "c:\\Users\\rayya\\AppData\\Local\\Programs\\Python\\Python313\\Lib\\site-packages\\statsmodels\\tsa\\base\\tsa_model.py:473: ValueWarning: No frequency information was provided, so inferred frequency QS-DEC will be used.\n",
      "  self._init_dates(dates, freq)\n",
      "c:\\Users\\rayya\\AppData\\Local\\Programs\\Python\\Python313\\Lib\\site-packages\\statsmodels\\tsa\\base\\tsa_model.py:473: ValueWarning: No frequency information was provided, so inferred frequency QS-DEC will be used.\n",
      "  self._init_dates(dates, freq)\n",
      "c:\\Users\\rayya\\AppData\\Local\\Programs\\Python\\Python313\\Lib\\site-packages\\statsmodels\\tsa\\base\\tsa_model.py:473: ValueWarning: No frequency information was provided, so inferred frequency QS-DEC will be used.\n",
      "  self._init_dates(dates, freq)\n"
     ]
    },
    {
     "name": "stdout",
     "output_type": "stream",
     "text": [
      "Order: (1, 0, 2), Seasonal: (1, 0, 0, 4), MAE: 405.40, RMSE: 615.13\n"
     ]
    },
    {
     "name": "stderr",
     "output_type": "stream",
     "text": [
      "c:\\Users\\rayya\\AppData\\Local\\Programs\\Python\\Python313\\Lib\\site-packages\\statsmodels\\tsa\\base\\tsa_model.py:473: ValueWarning: No frequency information was provided, so inferred frequency QS-DEC will be used.\n",
      "  self._init_dates(dates, freq)\n",
      "c:\\Users\\rayya\\AppData\\Local\\Programs\\Python\\Python313\\Lib\\site-packages\\statsmodels\\tsa\\base\\tsa_model.py:473: ValueWarning: No frequency information was provided, so inferred frequency QS-DEC will be used.\n",
      "  self._init_dates(dates, freq)\n",
      "c:\\Users\\rayya\\AppData\\Local\\Programs\\Python\\Python313\\Lib\\site-packages\\statsmodels\\tsa\\base\\tsa_model.py:473: ValueWarning: No frequency information was provided, so inferred frequency QS-DEC will be used.\n",
      "  self._init_dates(dates, freq)\n",
      "c:\\Users\\rayya\\AppData\\Local\\Programs\\Python\\Python313\\Lib\\site-packages\\statsmodels\\tsa\\base\\tsa_model.py:473: ValueWarning: No frequency information was provided, so inferred frequency QS-DEC will be used.\n",
      "  self._init_dates(dates, freq)\n"
     ]
    },
    {
     "name": "stdout",
     "output_type": "stream",
     "text": [
      "Order: (1, 0, 2), Seasonal: (1, 0, 1, 4), MAE: 426.28, RMSE: 648.37\n",
      "Order: (1, 0, 2), Seasonal: (1, 1, 0, 4), MAE: 1236.02, RMSE: 1605.34\n"
     ]
    },
    {
     "name": "stderr",
     "output_type": "stream",
     "text": [
      "c:\\Users\\rayya\\AppData\\Local\\Programs\\Python\\Python313\\Lib\\site-packages\\statsmodels\\tsa\\base\\tsa_model.py:473: ValueWarning: No frequency information was provided, so inferred frequency QS-DEC will be used.\n",
      "  self._init_dates(dates, freq)\n",
      "c:\\Users\\rayya\\AppData\\Local\\Programs\\Python\\Python313\\Lib\\site-packages\\statsmodels\\tsa\\base\\tsa_model.py:473: ValueWarning: No frequency information was provided, so inferred frequency QS-DEC will be used.\n",
      "  self._init_dates(dates, freq)\n",
      "c:\\Users\\rayya\\AppData\\Local\\Programs\\Python\\Python313\\Lib\\site-packages\\statsmodels\\base\\model.py:607: ConvergenceWarning: Maximum Likelihood optimization failed to converge. Check mle_retvals\n",
      "  warnings.warn(\"Maximum Likelihood optimization failed to \"\n",
      "c:\\Users\\rayya\\AppData\\Local\\Programs\\Python\\Python313\\Lib\\site-packages\\statsmodels\\tsa\\base\\tsa_model.py:473: ValueWarning: No frequency information was provided, so inferred frequency QS-DEC will be used.\n",
      "  self._init_dates(dates, freq)\n",
      "c:\\Users\\rayya\\AppData\\Local\\Programs\\Python\\Python313\\Lib\\site-packages\\statsmodels\\tsa\\base\\tsa_model.py:473: ValueWarning: No frequency information was provided, so inferred frequency QS-DEC will be used.\n",
      "  self._init_dates(dates, freq)\n",
      "c:\\Users\\rayya\\AppData\\Local\\Programs\\Python\\Python313\\Lib\\site-packages\\statsmodels\\tsa\\base\\tsa_model.py:473: ValueWarning: No frequency information was provided, so inferred frequency QS-DEC will be used.\n",
      "  self._init_dates(dates, freq)\n",
      "c:\\Users\\rayya\\AppData\\Local\\Programs\\Python\\Python313\\Lib\\site-packages\\statsmodels\\tsa\\base\\tsa_model.py:473: ValueWarning: No frequency information was provided, so inferred frequency QS-DEC will be used.\n",
      "  self._init_dates(dates, freq)\n",
      "c:\\Users\\rayya\\AppData\\Local\\Programs\\Python\\Python313\\Lib\\site-packages\\statsmodels\\tsa\\base\\tsa_model.py:473: ValueWarning: No frequency information was provided, so inferred frequency QS-DEC will be used.\n",
      "  self._init_dates(dates, freq)\n",
      "c:\\Users\\rayya\\AppData\\Local\\Programs\\Python\\Python313\\Lib\\site-packages\\statsmodels\\tsa\\base\\tsa_model.py:473: ValueWarning: No frequency information was provided, so inferred frequency QS-DEC will be used.\n",
      "  self._init_dates(dates, freq)\n",
      "c:\\Users\\rayya\\AppData\\Local\\Programs\\Python\\Python313\\Lib\\site-packages\\statsmodels\\tsa\\base\\tsa_model.py:473: ValueWarning: No frequency information was provided, so inferred frequency QS-DEC will be used.\n",
      "  self._init_dates(dates, freq)\n",
      "c:\\Users\\rayya\\AppData\\Local\\Programs\\Python\\Python313\\Lib\\site-packages\\statsmodels\\tsa\\base\\tsa_model.py:473: ValueWarning: No frequency information was provided, so inferred frequency QS-DEC will be used.\n",
      "  self._init_dates(dates, freq)\n",
      "c:\\Users\\rayya\\AppData\\Local\\Programs\\Python\\Python313\\Lib\\site-packages\\statsmodels\\tsa\\base\\tsa_model.py:473: ValueWarning: No frequency information was provided, so inferred frequency QS-DEC will be used.\n",
      "  self._init_dates(dates, freq)\n",
      "c:\\Users\\rayya\\AppData\\Local\\Programs\\Python\\Python313\\Lib\\site-packages\\statsmodels\\tsa\\base\\tsa_model.py:473: ValueWarning: No frequency information was provided, so inferred frequency QS-DEC will be used.\n",
      "  self._init_dates(dates, freq)\n",
      "c:\\Users\\rayya\\AppData\\Local\\Programs\\Python\\Python313\\Lib\\site-packages\\statsmodels\\tsa\\base\\tsa_model.py:473: ValueWarning: No frequency information was provided, so inferred frequency QS-DEC will be used.\n",
      "  self._init_dates(dates, freq)\n",
      "c:\\Users\\rayya\\AppData\\Local\\Programs\\Python\\Python313\\Lib\\site-packages\\statsmodels\\tsa\\base\\tsa_model.py:473: ValueWarning: No frequency information was provided, so inferred frequency QS-DEC will be used.\n",
      "  self._init_dates(dates, freq)\n"
     ]
    },
    {
     "name": "stdout",
     "output_type": "stream",
     "text": [
      "Order: (1, 0, 2), Seasonal: (1, 1, 1, 4), MAE: 1162.89, RMSE: 1563.42\n",
      "Order: (1, 1, 0), Seasonal: (0, 0, 0, 4), MAE: 1005.43, RMSE: 1288.72\n",
      "Order: (1, 1, 0), Seasonal: (0, 0, 1, 4), MAE: 990.74, RMSE: 1261.08\n",
      "Order: (1, 1, 0), Seasonal: (0, 1, 0, 4), MAE: 1201.18, RMSE: 1614.79\n",
      "Order: (1, 1, 0), Seasonal: (0, 1, 1, 4), MAE: 686.45, RMSE: 1027.12\n",
      "Order: (1, 1, 0), Seasonal: (1, 0, 0, 4), MAE: 988.28, RMSE: 1249.94\n",
      "Order: (1, 1, 0), Seasonal: (1, 0, 1, 4), MAE: 937.11, RMSE: 1208.47\n",
      "Order: (1, 1, 0), Seasonal: (1, 1, 0, 4), MAE: 889.77, RMSE: 1256.61\n",
      "Order: (1, 1, 0), Seasonal: (1, 1, 1, 4), MAE: 815.45, RMSE: 1191.20\n"
     ]
    },
    {
     "name": "stderr",
     "output_type": "stream",
     "text": [
      "c:\\Users\\rayya\\AppData\\Local\\Programs\\Python\\Python313\\Lib\\site-packages\\statsmodels\\tsa\\base\\tsa_model.py:473: ValueWarning: No frequency information was provided, so inferred frequency QS-DEC will be used.\n",
      "  self._init_dates(dates, freq)\n",
      "c:\\Users\\rayya\\AppData\\Local\\Programs\\Python\\Python313\\Lib\\site-packages\\statsmodels\\tsa\\base\\tsa_model.py:473: ValueWarning: No frequency information was provided, so inferred frequency QS-DEC will be used.\n",
      "  self._init_dates(dates, freq)\n",
      "c:\\Users\\rayya\\AppData\\Local\\Programs\\Python\\Python313\\Lib\\site-packages\\statsmodels\\tsa\\base\\tsa_model.py:473: ValueWarning: No frequency information was provided, so inferred frequency QS-DEC will be used.\n",
      "  self._init_dates(dates, freq)\n",
      "c:\\Users\\rayya\\AppData\\Local\\Programs\\Python\\Python313\\Lib\\site-packages\\statsmodels\\tsa\\base\\tsa_model.py:473: ValueWarning: No frequency information was provided, so inferred frequency QS-DEC will be used.\n",
      "  self._init_dates(dates, freq)\n",
      "c:\\Users\\rayya\\AppData\\Local\\Programs\\Python\\Python313\\Lib\\site-packages\\statsmodels\\tsa\\base\\tsa_model.py:473: ValueWarning: No frequency information was provided, so inferred frequency QS-DEC will be used.\n",
      "  self._init_dates(dates, freq)\n",
      "c:\\Users\\rayya\\AppData\\Local\\Programs\\Python\\Python313\\Lib\\site-packages\\statsmodels\\tsa\\base\\tsa_model.py:473: ValueWarning: No frequency information was provided, so inferred frequency QS-DEC will be used.\n",
      "  self._init_dates(dates, freq)\n"
     ]
    },
    {
     "name": "stdout",
     "output_type": "stream",
     "text": [
      "Order: (1, 1, 1), Seasonal: (0, 0, 0, 4), MAE: 1357.56, RMSE: 1583.52\n",
      "Order: (1, 1, 1), Seasonal: (0, 0, 1, 4), MAE: 1238.11, RMSE: 1482.93\n",
      "Order: (1, 1, 1), Seasonal: (0, 1, 0, 4), MAE: 876.57, RMSE: 1367.68\n"
     ]
    },
    {
     "name": "stderr",
     "output_type": "stream",
     "text": [
      "c:\\Users\\rayya\\AppData\\Local\\Programs\\Python\\Python313\\Lib\\site-packages\\statsmodels\\tsa\\base\\tsa_model.py:473: ValueWarning: No frequency information was provided, so inferred frequency QS-DEC will be used.\n",
      "  self._init_dates(dates, freq)\n",
      "c:\\Users\\rayya\\AppData\\Local\\Programs\\Python\\Python313\\Lib\\site-packages\\statsmodels\\tsa\\base\\tsa_model.py:473: ValueWarning: No frequency information was provided, so inferred frequency QS-DEC will be used.\n",
      "  self._init_dates(dates, freq)\n",
      "c:\\Users\\rayya\\AppData\\Local\\Programs\\Python\\Python313\\Lib\\site-packages\\statsmodels\\tsa\\base\\tsa_model.py:473: ValueWarning: No frequency information was provided, so inferred frequency QS-DEC will be used.\n",
      "  self._init_dates(dates, freq)\n",
      "c:\\Users\\rayya\\AppData\\Local\\Programs\\Python\\Python313\\Lib\\site-packages\\statsmodels\\tsa\\base\\tsa_model.py:473: ValueWarning: No frequency information was provided, so inferred frequency QS-DEC will be used.\n",
      "  self._init_dates(dates, freq)\n",
      "c:\\Users\\rayya\\AppData\\Local\\Programs\\Python\\Python313\\Lib\\site-packages\\statsmodels\\tsa\\base\\tsa_model.py:473: ValueWarning: No frequency information was provided, so inferred frequency QS-DEC will be used.\n",
      "  self._init_dates(dates, freq)\n",
      "c:\\Users\\rayya\\AppData\\Local\\Programs\\Python\\Python313\\Lib\\site-packages\\statsmodels\\tsa\\base\\tsa_model.py:473: ValueWarning: No frequency information was provided, so inferred frequency QS-DEC will be used.\n",
      "  self._init_dates(dates, freq)\n"
     ]
    },
    {
     "name": "stdout",
     "output_type": "stream",
     "text": [
      "Order: (1, 1, 1), Seasonal: (0, 1, 1, 4), MAE: 1089.39, RMSE: 1423.99\n",
      "Order: (1, 1, 1), Seasonal: (1, 0, 0, 4), MAE: 1297.48, RMSE: 1520.26\n",
      "Order: (1, 1, 1), Seasonal: (1, 0, 1, 4), MAE: 1213.09, RMSE: 1454.24\n"
     ]
    },
    {
     "name": "stderr",
     "output_type": "stream",
     "text": [
      "c:\\Users\\rayya\\AppData\\Local\\Programs\\Python\\Python313\\Lib\\site-packages\\statsmodels\\tsa\\base\\tsa_model.py:473: ValueWarning: No frequency information was provided, so inferred frequency QS-DEC will be used.\n",
      "  self._init_dates(dates, freq)\n",
      "c:\\Users\\rayya\\AppData\\Local\\Programs\\Python\\Python313\\Lib\\site-packages\\statsmodels\\tsa\\base\\tsa_model.py:473: ValueWarning: No frequency information was provided, so inferred frequency QS-DEC will be used.\n",
      "  self._init_dates(dates, freq)\n",
      "c:\\Users\\rayya\\AppData\\Local\\Programs\\Python\\Python313\\Lib\\site-packages\\statsmodels\\tsa\\base\\tsa_model.py:473: ValueWarning: No frequency information was provided, so inferred frequency QS-DEC will be used.\n",
      "  self._init_dates(dates, freq)\n",
      "c:\\Users\\rayya\\AppData\\Local\\Programs\\Python\\Python313\\Lib\\site-packages\\statsmodels\\tsa\\base\\tsa_model.py:473: ValueWarning: No frequency information was provided, so inferred frequency QS-DEC will be used.\n",
      "  self._init_dates(dates, freq)\n",
      "c:\\Users\\rayya\\AppData\\Local\\Programs\\Python\\Python313\\Lib\\site-packages\\statsmodels\\tsa\\base\\tsa_model.py:473: ValueWarning: No frequency information was provided, so inferred frequency QS-DEC will be used.\n",
      "  self._init_dates(dates, freq)\n",
      "c:\\Users\\rayya\\AppData\\Local\\Programs\\Python\\Python313\\Lib\\site-packages\\statsmodels\\tsa\\base\\tsa_model.py:473: ValueWarning: No frequency information was provided, so inferred frequency QS-DEC will be used.\n",
      "  self._init_dates(dates, freq)\n"
     ]
    },
    {
     "name": "stdout",
     "output_type": "stream",
     "text": [
      "Order: (1, 1, 1), Seasonal: (1, 1, 0, 4), MAE: 997.31, RMSE: 1365.53\n"
     ]
    },
    {
     "name": "stderr",
     "output_type": "stream",
     "text": [
      "c:\\Users\\rayya\\AppData\\Local\\Programs\\Python\\Python313\\Lib\\site-packages\\statsmodels\\tsa\\base\\tsa_model.py:473: ValueWarning: No frequency information was provided, so inferred frequency QS-DEC will be used.\n",
      "  self._init_dates(dates, freq)\n",
      "c:\\Users\\rayya\\AppData\\Local\\Programs\\Python\\Python313\\Lib\\site-packages\\statsmodels\\tsa\\base\\tsa_model.py:473: ValueWarning: No frequency information was provided, so inferred frequency QS-DEC will be used.\n",
      "  self._init_dates(dates, freq)\n"
     ]
    },
    {
     "name": "stdout",
     "output_type": "stream",
     "text": [
      "Order: (1, 1, 1), Seasonal: (1, 1, 1, 4), MAE: 1034.82, RMSE: 1427.90\n",
      "Order: (1, 1, 2), Seasonal: (0, 0, 0, 4), MAE: 1473.04, RMSE: 1669.63\n",
      "Order: (1, 1, 2), Seasonal: (0, 0, 1, 4), MAE: 1391.66, RMSE: 1601.23\n"
     ]
    },
    {
     "name": "stderr",
     "output_type": "stream",
     "text": [
      "c:\\Users\\rayya\\AppData\\Local\\Programs\\Python\\Python313\\Lib\\site-packages\\statsmodels\\tsa\\base\\tsa_model.py:473: ValueWarning: No frequency information was provided, so inferred frequency QS-DEC will be used.\n",
      "  self._init_dates(dates, freq)\n",
      "c:\\Users\\rayya\\AppData\\Local\\Programs\\Python\\Python313\\Lib\\site-packages\\statsmodels\\tsa\\base\\tsa_model.py:473: ValueWarning: No frequency information was provided, so inferred frequency QS-DEC will be used.\n",
      "  self._init_dates(dates, freq)\n",
      "c:\\Users\\rayya\\AppData\\Local\\Programs\\Python\\Python313\\Lib\\site-packages\\statsmodels\\tsa\\base\\tsa_model.py:473: ValueWarning: No frequency information was provided, so inferred frequency QS-DEC will be used.\n",
      "  self._init_dates(dates, freq)\n",
      "c:\\Users\\rayya\\AppData\\Local\\Programs\\Python\\Python313\\Lib\\site-packages\\statsmodels\\tsa\\base\\tsa_model.py:473: ValueWarning: No frequency information was provided, so inferred frequency QS-DEC will be used.\n",
      "  self._init_dates(dates, freq)\n",
      "c:\\Users\\rayya\\AppData\\Local\\Programs\\Python\\Python313\\Lib\\site-packages\\statsmodels\\tsa\\base\\tsa_model.py:473: ValueWarning: No frequency information was provided, so inferred frequency QS-DEC will be used.\n",
      "  self._init_dates(dates, freq)\n",
      "c:\\Users\\rayya\\AppData\\Local\\Programs\\Python\\Python313\\Lib\\site-packages\\statsmodels\\tsa\\base\\tsa_model.py:473: ValueWarning: No frequency information was provided, so inferred frequency QS-DEC will be used.\n",
      "  self._init_dates(dates, freq)\n"
     ]
    },
    {
     "name": "stdout",
     "output_type": "stream",
     "text": [
      "Order: (1, 1, 2), Seasonal: (0, 1, 0, 4), MAE: 906.60, RMSE: 1370.01\n",
      "Order: (1, 1, 2), Seasonal: (0, 1, 1, 4), MAE: 1090.33, RMSE: 1317.18\n"
     ]
    },
    {
     "name": "stderr",
     "output_type": "stream",
     "text": [
      "c:\\Users\\rayya\\AppData\\Local\\Programs\\Python\\Python313\\Lib\\site-packages\\statsmodels\\tsa\\base\\tsa_model.py:473: ValueWarning: No frequency information was provided, so inferred frequency QS-DEC will be used.\n",
      "  self._init_dates(dates, freq)\n",
      "c:\\Users\\rayya\\AppData\\Local\\Programs\\Python\\Python313\\Lib\\site-packages\\statsmodels\\tsa\\base\\tsa_model.py:473: ValueWarning: No frequency information was provided, so inferred frequency QS-DEC will be used.\n",
      "  self._init_dates(dates, freq)\n",
      "c:\\Users\\rayya\\AppData\\Local\\Programs\\Python\\Python313\\Lib\\site-packages\\statsmodels\\tsa\\base\\tsa_model.py:473: ValueWarning: No frequency information was provided, so inferred frequency QS-DEC will be used.\n",
      "  self._init_dates(dates, freq)\n",
      "c:\\Users\\rayya\\AppData\\Local\\Programs\\Python\\Python313\\Lib\\site-packages\\statsmodels\\tsa\\base\\tsa_model.py:473: ValueWarning: No frequency information was provided, so inferred frequency QS-DEC will be used.\n",
      "  self._init_dates(dates, freq)\n"
     ]
    },
    {
     "name": "stdout",
     "output_type": "stream",
     "text": [
      "Order: (1, 1, 2), Seasonal: (1, 0, 0, 4), MAE: 1432.26, RMSE: 1630.52\n",
      "Order: (1, 1, 2), Seasonal: (1, 0, 1, 4), MAE: 1391.01, RMSE: 1601.51\n"
     ]
    },
    {
     "name": "stderr",
     "output_type": "stream",
     "text": [
      "c:\\Users\\rayya\\AppData\\Local\\Programs\\Python\\Python313\\Lib\\site-packages\\statsmodels\\tsa\\base\\tsa_model.py:473: ValueWarning: No frequency information was provided, so inferred frequency QS-DEC will be used.\n",
      "  self._init_dates(dates, freq)\n",
      "c:\\Users\\rayya\\AppData\\Local\\Programs\\Python\\Python313\\Lib\\site-packages\\statsmodels\\tsa\\base\\tsa_model.py:473: ValueWarning: No frequency information was provided, so inferred frequency QS-DEC will be used.\n",
      "  self._init_dates(dates, freq)\n",
      "c:\\Users\\rayya\\AppData\\Local\\Programs\\Python\\Python313\\Lib\\site-packages\\statsmodels\\tsa\\base\\tsa_model.py:473: ValueWarning: No frequency information was provided, so inferred frequency QS-DEC will be used.\n",
      "  self._init_dates(dates, freq)\n",
      "c:\\Users\\rayya\\AppData\\Local\\Programs\\Python\\Python313\\Lib\\site-packages\\statsmodels\\tsa\\base\\tsa_model.py:473: ValueWarning: No frequency information was provided, so inferred frequency QS-DEC will be used.\n",
      "  self._init_dates(dates, freq)\n"
     ]
    },
    {
     "name": "stdout",
     "output_type": "stream",
     "text": [
      "Order: (1, 1, 2), Seasonal: (1, 1, 0, 4), MAE: 996.82, RMSE: 1366.75\n",
      "Order: (1, 1, 2), Seasonal: (1, 1, 1, 4), MAE: 1031.06, RMSE: 1419.92\n"
     ]
    },
    {
     "name": "stderr",
     "output_type": "stream",
     "text": [
      "c:\\Users\\rayya\\AppData\\Local\\Programs\\Python\\Python313\\Lib\\site-packages\\statsmodels\\tsa\\base\\tsa_model.py:473: ValueWarning: No frequency information was provided, so inferred frequency QS-DEC will be used.\n",
      "  self._init_dates(dates, freq)\n",
      "c:\\Users\\rayya\\AppData\\Local\\Programs\\Python\\Python313\\Lib\\site-packages\\statsmodels\\tsa\\base\\tsa_model.py:473: ValueWarning: No frequency information was provided, so inferred frequency QS-DEC will be used.\n",
      "  self._init_dates(dates, freq)\n",
      "c:\\Users\\rayya\\AppData\\Local\\Programs\\Python\\Python313\\Lib\\site-packages\\statsmodels\\tsa\\base\\tsa_model.py:473: ValueWarning: No frequency information was provided, so inferred frequency QS-DEC will be used.\n",
      "  self._init_dates(dates, freq)\n",
      "c:\\Users\\rayya\\AppData\\Local\\Programs\\Python\\Python313\\Lib\\site-packages\\statsmodels\\tsa\\base\\tsa_model.py:473: ValueWarning: No frequency information was provided, so inferred frequency QS-DEC will be used.\n",
      "  self._init_dates(dates, freq)\n",
      "c:\\Users\\rayya\\AppData\\Local\\Programs\\Python\\Python313\\Lib\\site-packages\\statsmodels\\tsa\\base\\tsa_model.py:473: ValueWarning: No frequency information was provided, so inferred frequency QS-DEC will be used.\n",
      "  self._init_dates(dates, freq)\n",
      "c:\\Users\\rayya\\AppData\\Local\\Programs\\Python\\Python313\\Lib\\site-packages\\statsmodels\\tsa\\base\\tsa_model.py:473: ValueWarning: No frequency information was provided, so inferred frequency QS-DEC will be used.\n",
      "  self._init_dates(dates, freq)\n"
     ]
    },
    {
     "name": "stdout",
     "output_type": "stream",
     "text": [
      "Order: (2, 0, 0), Seasonal: (0, 0, 0, 4), MAE: 376.31, RMSE: 502.74\n",
      "Order: (2, 0, 0), Seasonal: (0, 0, 1, 4), MAE: 369.80, RMSE: 536.48\n",
      "Order: (2, 0, 0), Seasonal: (0, 1, 0, 4), MAE: 1669.80, RMSE: 2063.20\n",
      "Order: (2, 0, 0), Seasonal: (0, 1, 1, 4), MAE: 1410.58, RMSE: 1749.11\n",
      "Order: (2, 0, 0), Seasonal: (1, 0, 0, 4), MAE: 381.47, RMSE: 473.22\n"
     ]
    },
    {
     "name": "stderr",
     "output_type": "stream",
     "text": [
      "c:\\Users\\rayya\\AppData\\Local\\Programs\\Python\\Python313\\Lib\\site-packages\\statsmodels\\tsa\\base\\tsa_model.py:473: ValueWarning: No frequency information was provided, so inferred frequency QS-DEC will be used.\n",
      "  self._init_dates(dates, freq)\n",
      "c:\\Users\\rayya\\AppData\\Local\\Programs\\Python\\Python313\\Lib\\site-packages\\statsmodels\\tsa\\base\\tsa_model.py:473: ValueWarning: No frequency information was provided, so inferred frequency QS-DEC will be used.\n",
      "  self._init_dates(dates, freq)\n",
      "c:\\Users\\rayya\\AppData\\Local\\Programs\\Python\\Python313\\Lib\\site-packages\\statsmodels\\tsa\\base\\tsa_model.py:473: ValueWarning: No frequency information was provided, so inferred frequency QS-DEC will be used.\n",
      "  self._init_dates(dates, freq)\n",
      "c:\\Users\\rayya\\AppData\\Local\\Programs\\Python\\Python313\\Lib\\site-packages\\statsmodels\\tsa\\base\\tsa_model.py:473: ValueWarning: No frequency information was provided, so inferred frequency QS-DEC will be used.\n",
      "  self._init_dates(dates, freq)\n",
      "c:\\Users\\rayya\\AppData\\Local\\Programs\\Python\\Python313\\Lib\\site-packages\\statsmodels\\tsa\\base\\tsa_model.py:473: ValueWarning: No frequency information was provided, so inferred frequency QS-DEC will be used.\n",
      "  self._init_dates(dates, freq)\n",
      "c:\\Users\\rayya\\AppData\\Local\\Programs\\Python\\Python313\\Lib\\site-packages\\statsmodels\\tsa\\base\\tsa_model.py:473: ValueWarning: No frequency information was provided, so inferred frequency QS-DEC will be used.\n",
      "  self._init_dates(dates, freq)\n",
      "c:\\Users\\rayya\\AppData\\Local\\Programs\\Python\\Python313\\Lib\\site-packages\\statsmodels\\tsa\\base\\tsa_model.py:473: ValueWarning: No frequency information was provided, so inferred frequency QS-DEC will be used.\n",
      "  self._init_dates(dates, freq)\n",
      "c:\\Users\\rayya\\AppData\\Local\\Programs\\Python\\Python313\\Lib\\site-packages\\statsmodels\\tsa\\base\\tsa_model.py:473: ValueWarning: No frequency information was provided, so inferred frequency QS-DEC will be used.\n",
      "  self._init_dates(dates, freq)\n"
     ]
    },
    {
     "name": "stdout",
     "output_type": "stream",
     "text": [
      "Order: (2, 0, 0), Seasonal: (1, 0, 1, 4), MAE: 387.07, RMSE: 484.35\n",
      "Order: (2, 0, 0), Seasonal: (1, 1, 0, 4), MAE: 1533.85, RMSE: 1925.05\n",
      "Order: (2, 0, 0), Seasonal: (1, 1, 1, 4), MAE: 1532.52, RMSE: 1921.26\n",
      "Order: (2, 0, 1), Seasonal: (0, 0, 0, 4), MAE: 429.72, RMSE: 639.74\n"
     ]
    },
    {
     "name": "stderr",
     "output_type": "stream",
     "text": [
      "c:\\Users\\rayya\\AppData\\Local\\Programs\\Python\\Python313\\Lib\\site-packages\\statsmodels\\tsa\\base\\tsa_model.py:473: ValueWarning: No frequency information was provided, so inferred frequency QS-DEC will be used.\n",
      "  self._init_dates(dates, freq)\n",
      "c:\\Users\\rayya\\AppData\\Local\\Programs\\Python\\Python313\\Lib\\site-packages\\statsmodels\\tsa\\base\\tsa_model.py:473: ValueWarning: No frequency information was provided, so inferred frequency QS-DEC will be used.\n",
      "  self._init_dates(dates, freq)\n",
      "c:\\Users\\rayya\\AppData\\Local\\Programs\\Python\\Python313\\Lib\\site-packages\\statsmodels\\tsa\\base\\tsa_model.py:473: ValueWarning: No frequency information was provided, so inferred frequency QS-DEC will be used.\n",
      "  self._init_dates(dates, freq)\n",
      "c:\\Users\\rayya\\AppData\\Local\\Programs\\Python\\Python313\\Lib\\site-packages\\statsmodels\\tsa\\base\\tsa_model.py:473: ValueWarning: No frequency information was provided, so inferred frequency QS-DEC will be used.\n",
      "  self._init_dates(dates, freq)\n",
      "c:\\Users\\rayya\\AppData\\Local\\Programs\\Python\\Python313\\Lib\\site-packages\\statsmodels\\tsa\\base\\tsa_model.py:473: ValueWarning: No frequency information was provided, so inferred frequency QS-DEC will be used.\n",
      "  self._init_dates(dates, freq)\n",
      "c:\\Users\\rayya\\AppData\\Local\\Programs\\Python\\Python313\\Lib\\site-packages\\statsmodels\\tsa\\base\\tsa_model.py:473: ValueWarning: No frequency information was provided, so inferred frequency QS-DEC will be used.\n",
      "  self._init_dates(dates, freq)\n",
      "c:\\Users\\rayya\\AppData\\Local\\Programs\\Python\\Python313\\Lib\\site-packages\\statsmodels\\tsa\\base\\tsa_model.py:473: ValueWarning: No frequency information was provided, so inferred frequency QS-DEC will be used.\n",
      "  self._init_dates(dates, freq)\n",
      "c:\\Users\\rayya\\AppData\\Local\\Programs\\Python\\Python313\\Lib\\site-packages\\statsmodels\\tsa\\base\\tsa_model.py:473: ValueWarning: No frequency information was provided, so inferred frequency QS-DEC will be used.\n",
      "  self._init_dates(dates, freq)\n"
     ]
    },
    {
     "name": "stdout",
     "output_type": "stream",
     "text": [
      "Order: (2, 0, 1), Seasonal: (0, 0, 1, 4), MAE: 396.01, RMSE: 590.04\n",
      "Order: (2, 0, 1), Seasonal: (0, 1, 0, 4), MAE: 1617.32, RMSE: 2024.97\n",
      "Order: (2, 0, 1), Seasonal: (0, 1, 1, 4), MAE: 918.01, RMSE: 1310.95\n",
      "Order: (2, 0, 1), Seasonal: (1, 0, 0, 4), MAE: 797.06, RMSE: 1194.01\n"
     ]
    },
    {
     "name": "stderr",
     "output_type": "stream",
     "text": [
      "c:\\Users\\rayya\\AppData\\Local\\Programs\\Python\\Python313\\Lib\\site-packages\\statsmodels\\tsa\\base\\tsa_model.py:473: ValueWarning: No frequency information was provided, so inferred frequency QS-DEC will be used.\n",
      "  self._init_dates(dates, freq)\n",
      "c:\\Users\\rayya\\AppData\\Local\\Programs\\Python\\Python313\\Lib\\site-packages\\statsmodels\\tsa\\base\\tsa_model.py:473: ValueWarning: No frequency information was provided, so inferred frequency QS-DEC will be used.\n",
      "  self._init_dates(dates, freq)\n",
      "c:\\Users\\rayya\\AppData\\Local\\Programs\\Python\\Python313\\Lib\\site-packages\\statsmodels\\tsa\\base\\tsa_model.py:473: ValueWarning: No frequency information was provided, so inferred frequency QS-DEC will be used.\n",
      "  self._init_dates(dates, freq)\n",
      "c:\\Users\\rayya\\AppData\\Local\\Programs\\Python\\Python313\\Lib\\site-packages\\statsmodels\\tsa\\base\\tsa_model.py:473: ValueWarning: No frequency information was provided, so inferred frequency QS-DEC will be used.\n",
      "  self._init_dates(dates, freq)\n",
      "c:\\Users\\rayya\\AppData\\Local\\Programs\\Python\\Python313\\Lib\\site-packages\\statsmodels\\tsa\\base\\tsa_model.py:473: ValueWarning: No frequency information was provided, so inferred frequency QS-DEC will be used.\n",
      "  self._init_dates(dates, freq)\n",
      "c:\\Users\\rayya\\AppData\\Local\\Programs\\Python\\Python313\\Lib\\site-packages\\statsmodels\\tsa\\base\\tsa_model.py:473: ValueWarning: No frequency information was provided, so inferred frequency QS-DEC will be used.\n",
      "  self._init_dates(dates, freq)\n",
      "c:\\Users\\rayya\\AppData\\Local\\Programs\\Python\\Python313\\Lib\\site-packages\\statsmodels\\tsa\\base\\tsa_model.py:473: ValueWarning: No frequency information was provided, so inferred frequency QS-DEC will be used.\n",
      "  self._init_dates(dates, freq)\n",
      "c:\\Users\\rayya\\AppData\\Local\\Programs\\Python\\Python313\\Lib\\site-packages\\statsmodels\\tsa\\base\\tsa_model.py:473: ValueWarning: No frequency information was provided, so inferred frequency QS-DEC will be used.\n",
      "  self._init_dates(dates, freq)\n"
     ]
    },
    {
     "name": "stdout",
     "output_type": "stream",
     "text": [
      "Order: (2, 0, 1), Seasonal: (1, 0, 1, 4), MAE: 393.08, RMSE: 585.85\n",
      "Order: (2, 0, 1), Seasonal: (1, 1, 0, 4), MAE: 1219.43, RMSE: 1596.57\n"
     ]
    },
    {
     "name": "stderr",
     "output_type": "stream",
     "text": [
      "c:\\Users\\rayya\\AppData\\Local\\Programs\\Python\\Python313\\Lib\\site-packages\\statsmodels\\tsa\\base\\tsa_model.py:473: ValueWarning: No frequency information was provided, so inferred frequency QS-DEC will be used.\n",
      "  self._init_dates(dates, freq)\n",
      "c:\\Users\\rayya\\AppData\\Local\\Programs\\Python\\Python313\\Lib\\site-packages\\statsmodels\\tsa\\base\\tsa_model.py:473: ValueWarning: No frequency information was provided, so inferred frequency QS-DEC will be used.\n",
      "  self._init_dates(dates, freq)\n",
      "c:\\Users\\rayya\\AppData\\Local\\Programs\\Python\\Python313\\Lib\\site-packages\\statsmodels\\tsa\\base\\tsa_model.py:473: ValueWarning: No frequency information was provided, so inferred frequency QS-DEC will be used.\n",
      "  self._init_dates(dates, freq)\n",
      "c:\\Users\\rayya\\AppData\\Local\\Programs\\Python\\Python313\\Lib\\site-packages\\statsmodels\\tsa\\base\\tsa_model.py:473: ValueWarning: No frequency information was provided, so inferred frequency QS-DEC will be used.\n",
      "  self._init_dates(dates, freq)\n",
      "c:\\Users\\rayya\\AppData\\Local\\Programs\\Python\\Python313\\Lib\\site-packages\\statsmodels\\base\\model.py:607: ConvergenceWarning: Maximum Likelihood optimization failed to converge. Check mle_retvals\n",
      "  warnings.warn(\"Maximum Likelihood optimization failed to \"\n",
      "c:\\Users\\rayya\\AppData\\Local\\Programs\\Python\\Python313\\Lib\\site-packages\\statsmodels\\tsa\\base\\tsa_model.py:473: ValueWarning: No frequency information was provided, so inferred frequency QS-DEC will be used.\n",
      "  self._init_dates(dates, freq)\n",
      "c:\\Users\\rayya\\AppData\\Local\\Programs\\Python\\Python313\\Lib\\site-packages\\statsmodels\\tsa\\base\\tsa_model.py:473: ValueWarning: No frequency information was provided, so inferred frequency QS-DEC will be used.\n",
      "  self._init_dates(dates, freq)\n",
      "c:\\Users\\rayya\\AppData\\Local\\Programs\\Python\\Python313\\Lib\\site-packages\\statsmodels\\tsa\\base\\tsa_model.py:473: ValueWarning: No frequency information was provided, so inferred frequency QS-DEC will be used.\n",
      "  self._init_dates(dates, freq)\n",
      "c:\\Users\\rayya\\AppData\\Local\\Programs\\Python\\Python313\\Lib\\site-packages\\statsmodels\\tsa\\base\\tsa_model.py:473: ValueWarning: No frequency information was provided, so inferred frequency QS-DEC will be used.\n",
      "  self._init_dates(dates, freq)\n"
     ]
    },
    {
     "name": "stdout",
     "output_type": "stream",
     "text": [
      "Order: (2, 0, 1), Seasonal: (1, 1, 1, 4), MAE: 1057.99, RMSE: 1459.36\n",
      "Order: (2, 0, 2), Seasonal: (0, 0, 0, 4), MAE: 378.82, RMSE: 566.23\n",
      "Order: (2, 0, 2), Seasonal: (0, 0, 1, 4), MAE: 453.32, RMSE: 658.44\n",
      "Order: (2, 0, 2), Seasonal: (0, 1, 0, 4), MAE: 1608.36, RMSE: 2011.75\n"
     ]
    },
    {
     "name": "stderr",
     "output_type": "stream",
     "text": [
      "c:\\Users\\rayya\\AppData\\Local\\Programs\\Python\\Python313\\Lib\\site-packages\\statsmodels\\tsa\\base\\tsa_model.py:473: ValueWarning: No frequency information was provided, so inferred frequency QS-DEC will be used.\n",
      "  self._init_dates(dates, freq)\n",
      "c:\\Users\\rayya\\AppData\\Local\\Programs\\Python\\Python313\\Lib\\site-packages\\statsmodels\\tsa\\base\\tsa_model.py:473: ValueWarning: No frequency information was provided, so inferred frequency QS-DEC will be used.\n",
      "  self._init_dates(dates, freq)\n",
      "c:\\Users\\rayya\\AppData\\Local\\Programs\\Python\\Python313\\Lib\\site-packages\\statsmodels\\tsa\\base\\tsa_model.py:473: ValueWarning: No frequency information was provided, so inferred frequency QS-DEC will be used.\n",
      "  self._init_dates(dates, freq)\n",
      "c:\\Users\\rayya\\AppData\\Local\\Programs\\Python\\Python313\\Lib\\site-packages\\statsmodels\\tsa\\base\\tsa_model.py:473: ValueWarning: No frequency information was provided, so inferred frequency QS-DEC will be used.\n",
      "  self._init_dates(dates, freq)\n"
     ]
    },
    {
     "name": "stdout",
     "output_type": "stream",
     "text": [
      "Order: (2, 0, 2), Seasonal: (0, 1, 1, 4), MAE: 1014.13, RMSE: 1412.98\n",
      "Order: (2, 0, 2), Seasonal: (1, 0, 0, 4), MAE: 422.29, RMSE: 613.32\n"
     ]
    },
    {
     "name": "stderr",
     "output_type": "stream",
     "text": [
      "c:\\Users\\rayya\\AppData\\Local\\Programs\\Python\\Python313\\Lib\\site-packages\\statsmodels\\tsa\\base\\tsa_model.py:473: ValueWarning: No frequency information was provided, so inferred frequency QS-DEC will be used.\n",
      "  self._init_dates(dates, freq)\n",
      "c:\\Users\\rayya\\AppData\\Local\\Programs\\Python\\Python313\\Lib\\site-packages\\statsmodels\\tsa\\base\\tsa_model.py:473: ValueWarning: No frequency information was provided, so inferred frequency QS-DEC will be used.\n",
      "  self._init_dates(dates, freq)\n",
      "c:\\Users\\rayya\\AppData\\Local\\Programs\\Python\\Python313\\Lib\\site-packages\\statsmodels\\tsa\\base\\tsa_model.py:473: ValueWarning: No frequency information was provided, so inferred frequency QS-DEC will be used.\n",
      "  self._init_dates(dates, freq)\n",
      "c:\\Users\\rayya\\AppData\\Local\\Programs\\Python\\Python313\\Lib\\site-packages\\statsmodels\\tsa\\base\\tsa_model.py:473: ValueWarning: No frequency information was provided, so inferred frequency QS-DEC will be used.\n",
      "  self._init_dates(dates, freq)\n"
     ]
    },
    {
     "name": "stdout",
     "output_type": "stream",
     "text": [
      "Order: (2, 0, 2), Seasonal: (1, 0, 1, 4), MAE: 421.96, RMSE: 633.21\n",
      "Order: (2, 0, 2), Seasonal: (1, 1, 0, 4), MAE: 1339.88, RMSE: 1733.24\n"
     ]
    },
    {
     "name": "stderr",
     "output_type": "stream",
     "text": [
      "c:\\Users\\rayya\\AppData\\Local\\Programs\\Python\\Python313\\Lib\\site-packages\\statsmodels\\tsa\\base\\tsa_model.py:473: ValueWarning: No frequency information was provided, so inferred frequency QS-DEC will be used.\n",
      "  self._init_dates(dates, freq)\n",
      "c:\\Users\\rayya\\AppData\\Local\\Programs\\Python\\Python313\\Lib\\site-packages\\statsmodels\\tsa\\base\\tsa_model.py:473: ValueWarning: No frequency information was provided, so inferred frequency QS-DEC will be used.\n",
      "  self._init_dates(dates, freq)\n",
      "c:\\Users\\rayya\\AppData\\Local\\Programs\\Python\\Python313\\Lib\\site-packages\\statsmodels\\tsa\\base\\tsa_model.py:473: ValueWarning: No frequency information was provided, so inferred frequency QS-DEC will be used.\n",
      "  self._init_dates(dates, freq)\n",
      "c:\\Users\\rayya\\AppData\\Local\\Programs\\Python\\Python313\\Lib\\site-packages\\statsmodels\\tsa\\base\\tsa_model.py:473: ValueWarning: No frequency information was provided, so inferred frequency QS-DEC will be used.\n",
      "  self._init_dates(dates, freq)\n"
     ]
    },
    {
     "name": "stdout",
     "output_type": "stream",
     "text": [
      "Order: (2, 0, 2), Seasonal: (1, 1, 1, 4), MAE: 1236.80, RMSE: 1613.48\n",
      "Order: (2, 1, 0), Seasonal: (0, 0, 0, 4), MAE: 1385.98, RMSE: 1592.37\n",
      "Order: (2, 1, 0), Seasonal: (0, 0, 1, 4), MAE: 1373.75, RMSE: 1578.13\n",
      "Order: (2, 1, 0), Seasonal: (0, 1, 0, 4), MAE: 1275.58, RMSE: 1725.88\n",
      "Order: (2, 1, 0), Seasonal: (0, 1, 1, 4), MAE: 854.58, RMSE: 1191.04\n",
      "Order: (2, 1, 0), Seasonal: (1, 0, 0, 4), MAE: 1339.10, RMSE: 1552.08\n"
     ]
    },
    {
     "name": "stderr",
     "output_type": "stream",
     "text": [
      "c:\\Users\\rayya\\AppData\\Local\\Programs\\Python\\Python313\\Lib\\site-packages\\statsmodels\\tsa\\base\\tsa_model.py:473: ValueWarning: No frequency information was provided, so inferred frequency QS-DEC will be used.\n",
      "  self._init_dates(dates, freq)\n",
      "c:\\Users\\rayya\\AppData\\Local\\Programs\\Python\\Python313\\Lib\\site-packages\\statsmodels\\tsa\\base\\tsa_model.py:473: ValueWarning: No frequency information was provided, so inferred frequency QS-DEC will be used.\n",
      "  self._init_dates(dates, freq)\n",
      "c:\\Users\\rayya\\AppData\\Local\\Programs\\Python\\Python313\\Lib\\site-packages\\statsmodels\\tsa\\base\\tsa_model.py:473: ValueWarning: No frequency information was provided, so inferred frequency QS-DEC will be used.\n",
      "  self._init_dates(dates, freq)\n",
      "c:\\Users\\rayya\\AppData\\Local\\Programs\\Python\\Python313\\Lib\\site-packages\\statsmodels\\tsa\\base\\tsa_model.py:473: ValueWarning: No frequency information was provided, so inferred frequency QS-DEC will be used.\n",
      "  self._init_dates(dates, freq)\n",
      "c:\\Users\\rayya\\AppData\\Local\\Programs\\Python\\Python313\\Lib\\site-packages\\statsmodels\\tsa\\base\\tsa_model.py:473: ValueWarning: No frequency information was provided, so inferred frequency QS-DEC will be used.\n",
      "  self._init_dates(dates, freq)\n",
      "c:\\Users\\rayya\\AppData\\Local\\Programs\\Python\\Python313\\Lib\\site-packages\\statsmodels\\tsa\\base\\tsa_model.py:473: ValueWarning: No frequency information was provided, so inferred frequency QS-DEC will be used.\n",
      "  self._init_dates(dates, freq)\n",
      "c:\\Users\\rayya\\AppData\\Local\\Programs\\Python\\Python313\\Lib\\site-packages\\statsmodels\\tsa\\base\\tsa_model.py:473: ValueWarning: No frequency information was provided, so inferred frequency QS-DEC will be used.\n",
      "  self._init_dates(dates, freq)\n",
      "c:\\Users\\rayya\\AppData\\Local\\Programs\\Python\\Python313\\Lib\\site-packages\\statsmodels\\tsa\\base\\tsa_model.py:473: ValueWarning: No frequency information was provided, so inferred frequency QS-DEC will be used.\n",
      "  self._init_dates(dates, freq)\n",
      "c:\\Users\\rayya\\AppData\\Local\\Programs\\Python\\Python313\\Lib\\site-packages\\statsmodels\\tsa\\base\\tsa_model.py:473: ValueWarning: No frequency information was provided, so inferred frequency QS-DEC will be used.\n",
      "  self._init_dates(dates, freq)\n",
      "c:\\Users\\rayya\\AppData\\Local\\Programs\\Python\\Python313\\Lib\\site-packages\\statsmodels\\tsa\\base\\tsa_model.py:473: ValueWarning: No frequency information was provided, so inferred frequency QS-DEC will be used.\n",
      "  self._init_dates(dates, freq)\n",
      "c:\\Users\\rayya\\AppData\\Local\\Programs\\Python\\Python313\\Lib\\site-packages\\statsmodels\\tsa\\base\\tsa_model.py:473: ValueWarning: No frequency information was provided, so inferred frequency QS-DEC will be used.\n",
      "  self._init_dates(dates, freq)\n",
      "c:\\Users\\rayya\\AppData\\Local\\Programs\\Python\\Python313\\Lib\\site-packages\\statsmodels\\tsa\\base\\tsa_model.py:473: ValueWarning: No frequency information was provided, so inferred frequency QS-DEC will be used.\n",
      "  self._init_dates(dates, freq)\n"
     ]
    },
    {
     "name": "stdout",
     "output_type": "stream",
     "text": [
      "Order: (2, 1, 0), Seasonal: (1, 0, 1, 4), MAE: 1325.20, RMSE: 1539.84\n",
      "Order: (2, 1, 0), Seasonal: (1, 1, 0, 4), MAE: 840.07, RMSE: 1163.83\n",
      "Order: (2, 1, 0), Seasonal: (1, 1, 1, 4), MAE: 843.50, RMSE: 1204.32\n",
      "Order: (2, 1, 1), Seasonal: (0, 0, 0, 4), MAE: 1424.44, RMSE: 1628.57\n"
     ]
    },
    {
     "name": "stderr",
     "output_type": "stream",
     "text": [
      "c:\\Users\\rayya\\AppData\\Local\\Programs\\Python\\Python313\\Lib\\site-packages\\statsmodels\\tsa\\base\\tsa_model.py:473: ValueWarning: No frequency information was provided, so inferred frequency QS-DEC will be used.\n",
      "  self._init_dates(dates, freq)\n",
      "c:\\Users\\rayya\\AppData\\Local\\Programs\\Python\\Python313\\Lib\\site-packages\\statsmodels\\tsa\\base\\tsa_model.py:473: ValueWarning: No frequency information was provided, so inferred frequency QS-DEC will be used.\n",
      "  self._init_dates(dates, freq)\n",
      "c:\\Users\\rayya\\AppData\\Local\\Programs\\Python\\Python313\\Lib\\site-packages\\statsmodels\\tsa\\base\\tsa_model.py:473: ValueWarning: No frequency information was provided, so inferred frequency QS-DEC will be used.\n",
      "  self._init_dates(dates, freq)\n",
      "c:\\Users\\rayya\\AppData\\Local\\Programs\\Python\\Python313\\Lib\\site-packages\\statsmodels\\tsa\\base\\tsa_model.py:473: ValueWarning: No frequency information was provided, so inferred frequency QS-DEC will be used.\n",
      "  self._init_dates(dates, freq)\n",
      "c:\\Users\\rayya\\AppData\\Local\\Programs\\Python\\Python313\\Lib\\site-packages\\statsmodels\\tsa\\base\\tsa_model.py:473: ValueWarning: No frequency information was provided, so inferred frequency QS-DEC will be used.\n",
      "  self._init_dates(dates, freq)\n",
      "c:\\Users\\rayya\\AppData\\Local\\Programs\\Python\\Python313\\Lib\\site-packages\\statsmodels\\tsa\\base\\tsa_model.py:473: ValueWarning: No frequency information was provided, so inferred frequency QS-DEC will be used.\n",
      "  self._init_dates(dates, freq)\n",
      "c:\\Users\\rayya\\AppData\\Local\\Programs\\Python\\Python313\\Lib\\site-packages\\statsmodels\\tsa\\base\\tsa_model.py:473: ValueWarning: No frequency information was provided, so inferred frequency QS-DEC will be used.\n",
      "  self._init_dates(dates, freq)\n",
      "c:\\Users\\rayya\\AppData\\Local\\Programs\\Python\\Python313\\Lib\\site-packages\\statsmodels\\tsa\\base\\tsa_model.py:473: ValueWarning: No frequency information was provided, so inferred frequency QS-DEC will be used.\n",
      "  self._init_dates(dates, freq)\n"
     ]
    },
    {
     "name": "stdout",
     "output_type": "stream",
     "text": [
      "Order: (2, 1, 1), Seasonal: (0, 0, 1, 4), MAE: 1366.86, RMSE: 1579.93\n",
      "Order: (2, 1, 1), Seasonal: (0, 1, 0, 4), MAE: 1539.23, RMSE: 1914.30\n",
      "Order: (2, 1, 1), Seasonal: (0, 1, 1, 4), MAE: 913.65, RMSE: 1282.80\n"
     ]
    },
    {
     "name": "stderr",
     "output_type": "stream",
     "text": [
      "c:\\Users\\rayya\\AppData\\Local\\Programs\\Python\\Python313\\Lib\\site-packages\\statsmodels\\tsa\\base\\tsa_model.py:473: ValueWarning: No frequency information was provided, so inferred frequency QS-DEC will be used.\n",
      "  self._init_dates(dates, freq)\n",
      "c:\\Users\\rayya\\AppData\\Local\\Programs\\Python\\Python313\\Lib\\site-packages\\statsmodels\\tsa\\base\\tsa_model.py:473: ValueWarning: No frequency information was provided, so inferred frequency QS-DEC will be used.\n",
      "  self._init_dates(dates, freq)\n",
      "c:\\Users\\rayya\\AppData\\Local\\Programs\\Python\\Python313\\Lib\\site-packages\\statsmodels\\tsa\\base\\tsa_model.py:473: ValueWarning: No frequency information was provided, so inferred frequency QS-DEC will be used.\n",
      "  self._init_dates(dates, freq)\n",
      "c:\\Users\\rayya\\AppData\\Local\\Programs\\Python\\Python313\\Lib\\site-packages\\statsmodels\\tsa\\base\\tsa_model.py:473: ValueWarning: No frequency information was provided, so inferred frequency QS-DEC will be used.\n",
      "  self._init_dates(dates, freq)\n",
      "c:\\Users\\rayya\\AppData\\Local\\Programs\\Python\\Python313\\Lib\\site-packages\\statsmodels\\tsa\\base\\tsa_model.py:473: ValueWarning: No frequency information was provided, so inferred frequency QS-DEC will be used.\n",
      "  self._init_dates(dates, freq)\n",
      "c:\\Users\\rayya\\AppData\\Local\\Programs\\Python\\Python313\\Lib\\site-packages\\statsmodels\\tsa\\base\\tsa_model.py:473: ValueWarning: No frequency information was provided, so inferred frequency QS-DEC will be used.\n",
      "  self._init_dates(dates, freq)\n"
     ]
    },
    {
     "name": "stdout",
     "output_type": "stream",
     "text": [
      "Order: (2, 1, 1), Seasonal: (1, 0, 0, 4), MAE: 1378.12, RMSE: 1572.50\n",
      "Order: (2, 1, 1), Seasonal: (1, 0, 1, 4), MAE: 1308.12, RMSE: 1512.19\n"
     ]
    },
    {
     "name": "stderr",
     "output_type": "stream",
     "text": [
      "c:\\Users\\rayya\\AppData\\Local\\Programs\\Python\\Python313\\Lib\\site-packages\\statsmodels\\tsa\\base\\tsa_model.py:473: ValueWarning: No frequency information was provided, so inferred frequency QS-DEC will be used.\n",
      "  self._init_dates(dates, freq)\n",
      "c:\\Users\\rayya\\AppData\\Local\\Programs\\Python\\Python313\\Lib\\site-packages\\statsmodels\\tsa\\base\\tsa_model.py:473: ValueWarning: No frequency information was provided, so inferred frequency QS-DEC will be used.\n",
      "  self._init_dates(dates, freq)\n",
      "c:\\Users\\rayya\\AppData\\Local\\Programs\\Python\\Python313\\Lib\\site-packages\\statsmodels\\tsa\\base\\tsa_model.py:473: ValueWarning: No frequency information was provided, so inferred frequency QS-DEC will be used.\n",
      "  self._init_dates(dates, freq)\n",
      "c:\\Users\\rayya\\AppData\\Local\\Programs\\Python\\Python313\\Lib\\site-packages\\statsmodels\\tsa\\base\\tsa_model.py:473: ValueWarning: No frequency information was provided, so inferred frequency QS-DEC will be used.\n",
      "  self._init_dates(dates, freq)\n"
     ]
    },
    {
     "name": "stdout",
     "output_type": "stream",
     "text": [
      "Order: (2, 1, 1), Seasonal: (1, 1, 0, 4), MAE: 1018.86, RMSE: 1385.87\n",
      "Order: (2, 1, 1), Seasonal: (1, 1, 1, 4), MAE: 1037.69, RMSE: 1430.45\n"
     ]
    },
    {
     "name": "stderr",
     "output_type": "stream",
     "text": [
      "c:\\Users\\rayya\\AppData\\Local\\Programs\\Python\\Python313\\Lib\\site-packages\\statsmodels\\tsa\\base\\tsa_model.py:473: ValueWarning: No frequency information was provided, so inferred frequency QS-DEC will be used.\n",
      "  self._init_dates(dates, freq)\n",
      "c:\\Users\\rayya\\AppData\\Local\\Programs\\Python\\Python313\\Lib\\site-packages\\statsmodels\\tsa\\base\\tsa_model.py:473: ValueWarning: No frequency information was provided, so inferred frequency QS-DEC will be used.\n",
      "  self._init_dates(dates, freq)\n",
      "c:\\Users\\rayya\\AppData\\Local\\Programs\\Python\\Python313\\Lib\\site-packages\\statsmodels\\tsa\\base\\tsa_model.py:473: ValueWarning: No frequency information was provided, so inferred frequency QS-DEC will be used.\n",
      "  self._init_dates(dates, freq)\n",
      "c:\\Users\\rayya\\AppData\\Local\\Programs\\Python\\Python313\\Lib\\site-packages\\statsmodels\\tsa\\base\\tsa_model.py:473: ValueWarning: No frequency information was provided, so inferred frequency QS-DEC will be used.\n",
      "  self._init_dates(dates, freq)\n"
     ]
    },
    {
     "name": "stdout",
     "output_type": "stream",
     "text": [
      "Order: (2, 1, 2), Seasonal: (0, 0, 0, 4), MAE: 934.49, RMSE: 1213.77\n",
      "Order: (2, 1, 2), Seasonal: (0, 0, 1, 4), MAE: 1070.65, RMSE: 1351.84\n"
     ]
    },
    {
     "name": "stderr",
     "output_type": "stream",
     "text": [
      "c:\\Users\\rayya\\AppData\\Local\\Programs\\Python\\Python313\\Lib\\site-packages\\statsmodels\\tsa\\base\\tsa_model.py:473: ValueWarning: No frequency information was provided, so inferred frequency QS-DEC will be used.\n",
      "  self._init_dates(dates, freq)\n",
      "c:\\Users\\rayya\\AppData\\Local\\Programs\\Python\\Python313\\Lib\\site-packages\\statsmodels\\tsa\\base\\tsa_model.py:473: ValueWarning: No frequency information was provided, so inferred frequency QS-DEC will be used.\n",
      "  self._init_dates(dates, freq)\n",
      "c:\\Users\\rayya\\AppData\\Local\\Programs\\Python\\Python313\\Lib\\site-packages\\statsmodels\\tsa\\base\\tsa_model.py:473: ValueWarning: No frequency information was provided, so inferred frequency QS-DEC will be used.\n",
      "  self._init_dates(dates, freq)\n",
      "c:\\Users\\rayya\\AppData\\Local\\Programs\\Python\\Python313\\Lib\\site-packages\\statsmodels\\tsa\\base\\tsa_model.py:473: ValueWarning: No frequency information was provided, so inferred frequency QS-DEC will be used.\n",
      "  self._init_dates(dates, freq)\n"
     ]
    },
    {
     "name": "stdout",
     "output_type": "stream",
     "text": [
      "Order: (2, 1, 2), Seasonal: (0, 1, 0, 4), MAE: 2198.49, RMSE: 2502.36\n",
      "Order: (2, 1, 2), Seasonal: (0, 1, 1, 4), MAE: 1048.27, RMSE: 1322.92\n"
     ]
    },
    {
     "name": "stderr",
     "output_type": "stream",
     "text": [
      "c:\\Users\\rayya\\AppData\\Local\\Programs\\Python\\Python313\\Lib\\site-packages\\statsmodels\\tsa\\base\\tsa_model.py:473: ValueWarning: No frequency information was provided, so inferred frequency QS-DEC will be used.\n",
      "  self._init_dates(dates, freq)\n",
      "c:\\Users\\rayya\\AppData\\Local\\Programs\\Python\\Python313\\Lib\\site-packages\\statsmodels\\tsa\\base\\tsa_model.py:473: ValueWarning: No frequency information was provided, so inferred frequency QS-DEC will be used.\n",
      "  self._init_dates(dates, freq)\n",
      "c:\\Users\\rayya\\AppData\\Local\\Programs\\Python\\Python313\\Lib\\site-packages\\statsmodels\\base\\model.py:607: ConvergenceWarning: Maximum Likelihood optimization failed to converge. Check mle_retvals\n",
      "  warnings.warn(\"Maximum Likelihood optimization failed to \"\n",
      "c:\\Users\\rayya\\AppData\\Local\\Programs\\Python\\Python313\\Lib\\site-packages\\statsmodels\\tsa\\base\\tsa_model.py:473: ValueWarning: No frequency information was provided, so inferred frequency QS-DEC will be used.\n",
      "  self._init_dates(dates, freq)\n",
      "c:\\Users\\rayya\\AppData\\Local\\Programs\\Python\\Python313\\Lib\\site-packages\\statsmodels\\tsa\\base\\tsa_model.py:473: ValueWarning: No frequency information was provided, so inferred frequency QS-DEC will be used.\n",
      "  self._init_dates(dates, freq)\n"
     ]
    },
    {
     "name": "stdout",
     "output_type": "stream",
     "text": [
      "Order: (2, 1, 2), Seasonal: (1, 0, 0, 4), MAE: 1128.61, RMSE: 1391.90\n",
      "Order: (2, 1, 2), Seasonal: (1, 0, 1, 4), MAE: 1003.67, RMSE: 1409.45\n"
     ]
    },
    {
     "name": "stderr",
     "output_type": "stream",
     "text": [
      "c:\\Users\\rayya\\AppData\\Local\\Programs\\Python\\Python313\\Lib\\site-packages\\statsmodels\\tsa\\base\\tsa_model.py:473: ValueWarning: No frequency information was provided, so inferred frequency QS-DEC will be used.\n",
      "  self._init_dates(dates, freq)\n",
      "c:\\Users\\rayya\\AppData\\Local\\Programs\\Python\\Python313\\Lib\\site-packages\\statsmodels\\tsa\\base\\tsa_model.py:473: ValueWarning: No frequency information was provided, so inferred frequency QS-DEC will be used.\n",
      "  self._init_dates(dates, freq)\n",
      "c:\\Users\\rayya\\AppData\\Local\\Programs\\Python\\Python313\\Lib\\site-packages\\statsmodels\\base\\model.py:607: ConvergenceWarning: Maximum Likelihood optimization failed to converge. Check mle_retvals\n",
      "  warnings.warn(\"Maximum Likelihood optimization failed to \"\n",
      "c:\\Users\\rayya\\AppData\\Local\\Programs\\Python\\Python313\\Lib\\site-packages\\statsmodels\\tsa\\base\\tsa_model.py:473: ValueWarning: No frequency information was provided, so inferred frequency QS-DEC will be used.\n",
      "  self._init_dates(dates, freq)\n",
      "c:\\Users\\rayya\\AppData\\Local\\Programs\\Python\\Python313\\Lib\\site-packages\\statsmodels\\tsa\\base\\tsa_model.py:473: ValueWarning: No frequency information was provided, so inferred frequency QS-DEC will be used.\n",
      "  self._init_dates(dates, freq)\n"
     ]
    },
    {
     "name": "stdout",
     "output_type": "stream",
     "text": [
      "Order: (2, 1, 2), Seasonal: (1, 1, 0, 4), MAE: 1013.14, RMSE: 1380.92\n"
     ]
    },
    {
     "name": "stderr",
     "output_type": "stream",
     "text": [
      "c:\\Users\\rayya\\AppData\\Local\\Programs\\Python\\Python313\\Lib\\site-packages\\statsmodels\\tsa\\base\\tsa_model.py:473: ValueWarning: No frequency information was provided, so inferred frequency QS-DEC will be used.\n",
      "  self._init_dates(dates, freq)\n",
      "c:\\Users\\rayya\\AppData\\Local\\Programs\\Python\\Python313\\Lib\\site-packages\\statsmodels\\tsa\\base\\tsa_model.py:473: ValueWarning: No frequency information was provided, so inferred frequency QS-DEC will be used.\n",
      "  self._init_dates(dates, freq)\n",
      "c:\\Users\\rayya\\AppData\\Local\\Programs\\Python\\Python313\\Lib\\site-packages\\statsmodels\\base\\model.py:607: ConvergenceWarning: Maximum Likelihood optimization failed to converge. Check mle_retvals\n",
      "  warnings.warn(\"Maximum Likelihood optimization failed to \"\n"
     ]
    },
    {
     "name": "stdout",
     "output_type": "stream",
     "text": [
      "Order: (2, 1, 2), Seasonal: (1, 1, 1, 4), MAE: 1027.46, RMSE: 1416.65\n",
      "\n",
      "Best MAE:\n",
      "Parameters: order=(2, 0, 0), seasonal_order=(0, 0, 1, 4)\n",
      "MAE: 369.80 Rs. Cr.\n",
      "\n",
      "Best RMSE:\n",
      "Parameters: order=(2, 0, 0), seasonal_order=(1, 0, 0, 4)\n",
      "RMSE: 473.22 Rs. Cr.\n"
     ]
    }
   ],
   "source": [
    "import pandas as pd\n",
    "import matplotlib.pyplot as plt\n",
    "from statsmodels.tsa.statespace.sarimax import SARIMAX\n",
    "from sklearn.metrics import mean_absolute_error, mean_squared_error\n",
    "import numpy as np\n",
    "from itertools import product\n",
    "\n",
    "# Data setup (same as yours)\n",
    "data = {\n",
    "    'Quarter': ['Dec 13', 'Mar 14', 'Jun 14', 'Sep 14', 'Dec 14', 'Mar 15', 'Jun 15', 'Sep 15', \n",
    "                'Dec 15', 'Mar 16', 'Jun 16', 'Sep 16', 'Dec 16', 'Mar 17', 'Jun 17', 'Sep 17', \n",
    "                'Dec 17', 'Mar 18', 'Jun 18', 'Sep 18', 'Dec 18', 'Mar 19', 'Jun 19', 'Sep 19', \n",
    "                'Dec 19', 'Mar 20', 'Jun 20', 'Sep 20', 'Dec 20', 'Mar 21', 'Jun 21', 'Sep 21', \n",
    "                'Dec 21', 'Mar 22', 'Jun 22', 'Sep 22', 'Dec 22', 'Mar 23', 'Jun 23', 'Sep 23', \n",
    "                'Dec 23', 'Mar 24', 'Jun 24', 'Sep 24', 'Dec 24'],\n",
    "    'Net Profit': [4776.76, 4628.52, 5096.87, 4991.68, 5711.15, 3457.26, 5633.0, 5723.0, \n",
    "                   5991.0, 5728.0, 5778.0, 5958.0, 6084.0, 5833.0, 6670.0, 5746.0, \n",
    "                   6069.0, 6756.0, 7136.0, 7620.0, 7486.0, 7823.0, 8714.0, 8636.0, \n",
    "                   7683.0, 8227.0, 6096.0, 7448.0, 9242.0, 8174.0, 8281.0, 10152.0, \n",
    "                   9959.0, 9795.0, 8588.0, 10059.0, 10659.0, 9800.0, 10484.0, 10929.0, \n",
    "                   10753.0, 11393.0, 12115.0, 12994.0, 11832.0]\n",
    "}\n",
    "df = pd.DataFrame(data)\n",
    "df['Quarter'] = pd.to_datetime(df['Quarter'], format='%b %y')\n",
    "df.set_index('Quarter', inplace=True)\n",
    "\n",
    "# Split data\n",
    "train_data = df.loc[:'2022-12-31']\n",
    "test_data = df.loc['2023-03-31':]\n",
    "\n",
    "# Parameter ranges\n",
    "param_ranges = {\n",
    "    'p': [0, 1, 2],\n",
    "    'd': [0, 1],\n",
    "    'q': [0, 1, 2],\n",
    "    'P': [0, 1],\n",
    "    'D': [0, 1],\n",
    "    'Q': [0, 1]\n",
    "}\n",
    "m = 4\n",
    "\n",
    "# Store results\n",
    "results = []\n",
    "best_mae = float('inf')\n",
    "best_rmse = float('inf')\n",
    "best_mae_params = None\n",
    "best_rmse_params = None\n",
    "\n",
    "# Iterate over all combinations\n",
    "for p, d, q, P, D, Q in product(param_ranges['p'], param_ranges['d'], param_ranges['q'],\n",
    "                               param_ranges['P'], param_ranges['D'], param_ranges['Q']):\n",
    "    try:\n",
    "        # Fit SARIMA model\n",
    "        model = SARIMAX(train_data['Net Profit'],\n",
    "                        order=(p, d, q),\n",
    "                        seasonal_order=(P, D, Q, m),\n",
    "                        enforce_stationarity=False,\n",
    "                        enforce_invertibility=False)\n",
    "        fitted_model = model.fit(disp=False)\n",
    "\n",
    "        # Forecast test period\n",
    "        forecast = fitted_model.get_forecast(steps=len(test_data))\n",
    "        predicted = forecast.predicted_mean\n",
    "\n",
    "        # Calculate errors\n",
    "        mae = mean_absolute_error(test_data['Net Profit'], predicted)\n",
    "        rmse = np.sqrt(mean_squared_error(test_data['Net Profit'], predicted))\n",
    "\n",
    "        # Store results\n",
    "        results.append({\n",
    "            'order': (p, d, q),\n",
    "            'seasonal_order': (P, D, Q, m),\n",
    "            'MAE': mae,\n",
    "            'RMSE': rmse\n",
    "        })\n",
    "\n",
    "        # Update best parameters\n",
    "        if mae < best_mae:\n",
    "            best_mae = mae\n",
    "            best_mae_params = (p, d, q, P, D, Q)\n",
    "        if rmse < best_rmse:\n",
    "            best_rmse = rmse\n",
    "            best_rmse_params = (p, d, q, P, D, Q)\n",
    "\n",
    "        print(f\"Order: {(p, d, q)}, Seasonal: {(P, D, Q, m)}, MAE: {mae:.2f}, RMSE: {rmse:.2f}\")\n",
    "\n",
    "    except Exception as e:\n",
    "        print(f\"Order: {(p, d, q)}, Seasonal: {(P, D, Q, m)} failed - {str(e)}\")\n",
    "        continue\n",
    "\n",
    "# Print best results\n",
    "print(\"\\nBest MAE:\")\n",
    "print(f\"Parameters: order={best_mae_params[:3]}, seasonal_order={best_mae_params[3:]+(m,)}\")\n",
    "print(f\"MAE: {best_mae:.2f} Rs. Cr.\")\n",
    "\n",
    "print(\"\\nBest RMSE:\")\n",
    "print(f\"Parameters: order={best_rmse_params[:3]}, seasonal_order={best_rmse_params[3:]+(m,)}\")\n",
    "print(f\"RMSE: {best_rmse:.2f} Rs. Cr.\")"
   ]
  },
  {
   "cell_type": "code",
   "execution_count": 3,
   "metadata": {},
   "outputs": [
    {
     "name": "stderr",
     "output_type": "stream",
     "text": [
      "c:\\Users\\rayya\\AppData\\Local\\Programs\\Python\\Python313\\Lib\\site-packages\\statsmodels\\tsa\\base\\tsa_model.py:473: ValueWarning: No frequency information was provided, so inferred frequency QS-DEC will be used.\n",
      "  self._init_dates(dates, freq)\n",
      "c:\\Users\\rayya\\AppData\\Local\\Programs\\Python\\Python313\\Lib\\site-packages\\statsmodels\\tsa\\base\\tsa_model.py:473: ValueWarning: No frequency information was provided, so inferred frequency QS-DEC will be used.\n",
      "  self._init_dates(dates, freq)\n",
      "c:\\Users\\rayya\\AppData\\Local\\Programs\\Python\\Python313\\Lib\\site-packages\\statsmodels\\tsa\\base\\tsa_model.py:473: ValueWarning: No frequency information was provided, so inferred frequency QS-DEC will be used.\n",
      "  self._init_dates(dates, freq)\n",
      "c:\\Users\\rayya\\AppData\\Local\\Programs\\Python\\Python313\\Lib\\site-packages\\statsmodels\\tsa\\base\\tsa_model.py:473: ValueWarning: No frequency information was provided, so inferred frequency QS-DEC will be used.\n",
      "  self._init_dates(dates, freq)\n",
      "c:\\Users\\rayya\\AppData\\Local\\Programs\\Python\\Python313\\Lib\\site-packages\\statsmodels\\tsa\\base\\tsa_model.py:473: ValueWarning: No frequency information was provided, so inferred frequency QS-DEC will be used.\n",
      "  self._init_dates(dates, freq)\n",
      "c:\\Users\\rayya\\AppData\\Local\\Programs\\Python\\Python313\\Lib\\site-packages\\statsmodels\\tsa\\base\\tsa_model.py:473: ValueWarning: No frequency information was provided, so inferred frequency QS-DEC will be used.\n",
      "  self._init_dates(dates, freq)\n",
      "c:\\Users\\rayya\\AppData\\Local\\Programs\\Python\\Python313\\Lib\\site-packages\\statsmodels\\tsa\\base\\tsa_model.py:473: ValueWarning: No frequency information was provided, so inferred frequency QS-DEC will be used.\n",
      "  self._init_dates(dates, freq)\n",
      "c:\\Users\\rayya\\AppData\\Local\\Programs\\Python\\Python313\\Lib\\site-packages\\statsmodels\\tsa\\base\\tsa_model.py:473: ValueWarning: No frequency information was provided, so inferred frequency QS-DEC will be used.\n",
      "  self._init_dates(dates, freq)\n",
      "c:\\Users\\rayya\\AppData\\Local\\Programs\\Python\\Python313\\Lib\\site-packages\\statsmodels\\tsa\\base\\tsa_model.py:473: ValueWarning: No frequency information was provided, so inferred frequency QS-DEC will be used.\n",
      "  self._init_dates(dates, freq)\n",
      "c:\\Users\\rayya\\AppData\\Local\\Programs\\Python\\Python313\\Lib\\site-packages\\statsmodels\\tsa\\base\\tsa_model.py:473: ValueWarning: No frequency information was provided, so inferred frequency QS-DEC will be used.\n",
      "  self._init_dates(dates, freq)\n",
      "c:\\Users\\rayya\\AppData\\Local\\Programs\\Python\\Python313\\Lib\\site-packages\\statsmodels\\tsa\\base\\tsa_model.py:473: ValueWarning: No frequency information was provided, so inferred frequency QS-DEC will be used.\n",
      "  self._init_dates(dates, freq)\n",
      "c:\\Users\\rayya\\AppData\\Local\\Programs\\Python\\Python313\\Lib\\site-packages\\statsmodels\\tsa\\base\\tsa_model.py:473: ValueWarning: No frequency information was provided, so inferred frequency QS-DEC will be used.\n",
      "  self._init_dates(dates, freq)\n"
     ]
    },
    {
     "name": "stdout",
     "output_type": "stream",
     "text": [
      "Order: (0, 0, 0), Seasonal: (0, 0, 0, 4), MAE: 11500.00, RMSE: 11528.83\n",
      "Order: (0, 0, 0), Seasonal: (0, 0, 1, 4), MAE: 8824.57, RMSE: 9401.37\n",
      "Order: (0, 0, 0), Seasonal: (0, 1, 0, 4), MAE: 1851.00, RMSE: 2233.32\n",
      "Order: (0, 0, 0), Seasonal: (0, 1, 1, 4), MAE: 1947.48, RMSE: 2309.89\n",
      "Order: (0, 0, 0), Seasonal: (1, 0, 0, 4), MAE: 842.81, RMSE: 1352.12\n",
      "Order: (0, 0, 0), Seasonal: (1, 0, 1, 4), MAE: 828.35, RMSE: 1159.37\n",
      "Order: (0, 0, 0), Seasonal: (1, 1, 0, 4), MAE: 1972.55, RMSE: 2323.19\n",
      "Order: (0, 0, 0), Seasonal: (1, 1, 1, 4), MAE: 1851.04, RMSE: 2211.15\n",
      "Order: (0, 0, 1), Seasonal: (0, 0, 0, 4), MAE: 10947.15, RMSE: 11111.32\n"
     ]
    },
    {
     "name": "stderr",
     "output_type": "stream",
     "text": [
      "c:\\Users\\rayya\\AppData\\Local\\Programs\\Python\\Python313\\Lib\\site-packages\\statsmodels\\tsa\\base\\tsa_model.py:473: ValueWarning: No frequency information was provided, so inferred frequency QS-DEC will be used.\n",
      "  self._init_dates(dates, freq)\n",
      "c:\\Users\\rayya\\AppData\\Local\\Programs\\Python\\Python313\\Lib\\site-packages\\statsmodels\\tsa\\base\\tsa_model.py:473: ValueWarning: No frequency information was provided, so inferred frequency QS-DEC will be used.\n",
      "  self._init_dates(dates, freq)\n",
      "c:\\Users\\rayya\\AppData\\Local\\Programs\\Python\\Python313\\Lib\\site-packages\\statsmodels\\tsa\\base\\tsa_model.py:473: ValueWarning: No frequency information was provided, so inferred frequency QS-DEC will be used.\n",
      "  self._init_dates(dates, freq)\n",
      "c:\\Users\\rayya\\AppData\\Local\\Programs\\Python\\Python313\\Lib\\site-packages\\statsmodels\\tsa\\base\\tsa_model.py:473: ValueWarning: No frequency information was provided, so inferred frequency QS-DEC will be used.\n",
      "  self._init_dates(dates, freq)\n",
      "c:\\Users\\rayya\\AppData\\Local\\Programs\\Python\\Python313\\Lib\\site-packages\\statsmodels\\tsa\\base\\tsa_model.py:473: ValueWarning: No frequency information was provided, so inferred frequency QS-DEC will be used.\n",
      "  self._init_dates(dates, freq)\n",
      "c:\\Users\\rayya\\AppData\\Local\\Programs\\Python\\Python313\\Lib\\site-packages\\statsmodels\\tsa\\base\\tsa_model.py:473: ValueWarning: No frequency information was provided, so inferred frequency QS-DEC will be used.\n",
      "  self._init_dates(dates, freq)\n",
      "c:\\Users\\rayya\\AppData\\Local\\Programs\\Python\\Python313\\Lib\\site-packages\\statsmodels\\tsa\\base\\tsa_model.py:473: ValueWarning: No frequency information was provided, so inferred frequency QS-DEC will be used.\n",
      "  self._init_dates(dates, freq)\n",
      "c:\\Users\\rayya\\AppData\\Local\\Programs\\Python\\Python313\\Lib\\site-packages\\statsmodels\\tsa\\base\\tsa_model.py:473: ValueWarning: No frequency information was provided, so inferred frequency QS-DEC will be used.\n",
      "  self._init_dates(dates, freq)\n"
     ]
    },
    {
     "name": "stdout",
     "output_type": "stream",
     "text": [
      "Order: (0, 0, 1), Seasonal: (0, 0, 1, 4), MAE: 8708.25, RMSE: 9234.44\n",
      "Order: (0, 0, 1), Seasonal: (0, 1, 0, 4), MAE: 1760.59, RMSE: 2178.14\n",
      "Order: (0, 0, 1), Seasonal: (0, 1, 1, 4), MAE: 1984.72, RMSE: 2353.69\n"
     ]
    },
    {
     "name": "stderr",
     "output_type": "stream",
     "text": [
      "c:\\Users\\rayya\\AppData\\Local\\Programs\\Python\\Python313\\Lib\\site-packages\\statsmodels\\tsa\\base\\tsa_model.py:473: ValueWarning: No frequency information was provided, so inferred frequency QS-DEC will be used.\n",
      "  self._init_dates(dates, freq)\n",
      "c:\\Users\\rayya\\AppData\\Local\\Programs\\Python\\Python313\\Lib\\site-packages\\statsmodels\\tsa\\base\\tsa_model.py:473: ValueWarning: No frequency information was provided, so inferred frequency QS-DEC will be used.\n",
      "  self._init_dates(dates, freq)\n",
      "c:\\Users\\rayya\\AppData\\Local\\Programs\\Python\\Python313\\Lib\\site-packages\\statsmodels\\tsa\\base\\tsa_model.py:473: ValueWarning: No frequency information was provided, so inferred frequency QS-DEC will be used.\n",
      "  self._init_dates(dates, freq)\n",
      "c:\\Users\\rayya\\AppData\\Local\\Programs\\Python\\Python313\\Lib\\site-packages\\statsmodels\\tsa\\base\\tsa_model.py:473: ValueWarning: No frequency information was provided, so inferred frequency QS-DEC will be used.\n",
      "  self._init_dates(dates, freq)\n",
      "c:\\Users\\rayya\\AppData\\Local\\Programs\\Python\\Python313\\Lib\\site-packages\\statsmodels\\tsa\\base\\tsa_model.py:473: ValueWarning: No frequency information was provided, so inferred frequency QS-DEC will be used.\n",
      "  self._init_dates(dates, freq)\n",
      "c:\\Users\\rayya\\AppData\\Local\\Programs\\Python\\Python313\\Lib\\site-packages\\statsmodels\\tsa\\base\\tsa_model.py:473: ValueWarning: No frequency information was provided, so inferred frequency QS-DEC will be used.\n",
      "  self._init_dates(dates, freq)\n",
      "c:\\Users\\rayya\\AppData\\Local\\Programs\\Python\\Python313\\Lib\\site-packages\\statsmodels\\base\\model.py:607: ConvergenceWarning: Maximum Likelihood optimization failed to converge. Check mle_retvals\n",
      "  warnings.warn(\"Maximum Likelihood optimization failed to \"\n",
      "c:\\Users\\rayya\\AppData\\Local\\Programs\\Python\\Python313\\Lib\\site-packages\\statsmodels\\tsa\\base\\tsa_model.py:473: ValueWarning: No frequency information was provided, so inferred frequency QS-DEC will be used.\n",
      "  self._init_dates(dates, freq)\n"
     ]
    },
    {
     "name": "stdout",
     "output_type": "stream",
     "text": [
      "Order: (0, 0, 1), Seasonal: (1, 0, 0, 4), MAE: 888.48, RMSE: 1422.20\n"
     ]
    },
    {
     "name": "stderr",
     "output_type": "stream",
     "text": [
      "c:\\Users\\rayya\\AppData\\Local\\Programs\\Python\\Python313\\Lib\\site-packages\\statsmodels\\tsa\\base\\tsa_model.py:473: ValueWarning: No frequency information was provided, so inferred frequency QS-DEC will be used.\n",
      "  self._init_dates(dates, freq)\n",
      "c:\\Users\\rayya\\AppData\\Local\\Programs\\Python\\Python313\\Lib\\site-packages\\statsmodels\\base\\model.py:607: ConvergenceWarning: Maximum Likelihood optimization failed to converge. Check mle_retvals\n",
      "  warnings.warn(\"Maximum Likelihood optimization failed to \"\n",
      "c:\\Users\\rayya\\AppData\\Local\\Programs\\Python\\Python313\\Lib\\site-packages\\statsmodels\\tsa\\base\\tsa_model.py:473: ValueWarning: No frequency information was provided, so inferred frequency QS-DEC will be used.\n",
      "  self._init_dates(dates, freq)\n",
      "c:\\Users\\rayya\\AppData\\Local\\Programs\\Python\\Python313\\Lib\\site-packages\\statsmodels\\tsa\\base\\tsa_model.py:473: ValueWarning: No frequency information was provided, so inferred frequency QS-DEC will be used.\n",
      "  self._init_dates(dates, freq)\n"
     ]
    },
    {
     "name": "stdout",
     "output_type": "stream",
     "text": [
      "Order: (0, 0, 1), Seasonal: (1, 0, 1, 4), MAE: 830.04, RMSE: 1168.41\n",
      "Order: (0, 0, 1), Seasonal: (1, 1, 0, 4), MAE: 2006.68, RMSE: 2344.52\n",
      "Order: (0, 0, 1), Seasonal: (1, 1, 1, 4), MAE: 1824.86, RMSE: 2191.00\n",
      "Order: (0, 0, 2), Seasonal: (0, 0, 0, 4), MAE: 9429.92, RMSE: 10230.30\n"
     ]
    },
    {
     "name": "stderr",
     "output_type": "stream",
     "text": [
      "c:\\Users\\rayya\\AppData\\Local\\Programs\\Python\\Python313\\Lib\\site-packages\\statsmodels\\tsa\\base\\tsa_model.py:473: ValueWarning: No frequency information was provided, so inferred frequency QS-DEC will be used.\n",
      "  self._init_dates(dates, freq)\n",
      "c:\\Users\\rayya\\AppData\\Local\\Programs\\Python\\Python313\\Lib\\site-packages\\statsmodels\\tsa\\base\\tsa_model.py:473: ValueWarning: No frequency information was provided, so inferred frequency QS-DEC will be used.\n",
      "  self._init_dates(dates, freq)\n",
      "c:\\Users\\rayya\\AppData\\Local\\Programs\\Python\\Python313\\Lib\\site-packages\\statsmodels\\tsa\\base\\tsa_model.py:473: ValueWarning: No frequency information was provided, so inferred frequency QS-DEC will be used.\n",
      "  self._init_dates(dates, freq)\n",
      "c:\\Users\\rayya\\AppData\\Local\\Programs\\Python\\Python313\\Lib\\site-packages\\statsmodels\\tsa\\base\\tsa_model.py:473: ValueWarning: No frequency information was provided, so inferred frequency QS-DEC will be used.\n",
      "  self._init_dates(dates, freq)\n",
      "c:\\Users\\rayya\\AppData\\Local\\Programs\\Python\\Python313\\Lib\\site-packages\\statsmodels\\tsa\\base\\tsa_model.py:473: ValueWarning: No frequency information was provided, so inferred frequency QS-DEC will be used.\n",
      "  self._init_dates(dates, freq)\n",
      "c:\\Users\\rayya\\AppData\\Local\\Programs\\Python\\Python313\\Lib\\site-packages\\statsmodels\\tsa\\base\\tsa_model.py:473: ValueWarning: No frequency information was provided, so inferred frequency QS-DEC will be used.\n",
      "  self._init_dates(dates, freq)\n"
     ]
    },
    {
     "name": "stdout",
     "output_type": "stream",
     "text": [
      "Order: (0, 0, 2), Seasonal: (0, 0, 1, 4), MAE: 8081.60, RMSE: 8611.02\n",
      "Order: (0, 0, 2), Seasonal: (0, 1, 0, 4), MAE: 1773.36, RMSE: 2101.54\n",
      "Order: (0, 0, 2), Seasonal: (0, 1, 1, 4), MAE: 1956.95, RMSE: 2329.24\n"
     ]
    },
    {
     "name": "stderr",
     "output_type": "stream",
     "text": [
      "c:\\Users\\rayya\\AppData\\Local\\Programs\\Python\\Python313\\Lib\\site-packages\\statsmodels\\tsa\\base\\tsa_model.py:473: ValueWarning: No frequency information was provided, so inferred frequency QS-DEC will be used.\n",
      "  self._init_dates(dates, freq)\n",
      "c:\\Users\\rayya\\AppData\\Local\\Programs\\Python\\Python313\\Lib\\site-packages\\statsmodels\\tsa\\base\\tsa_model.py:473: ValueWarning: No frequency information was provided, so inferred frequency QS-DEC will be used.\n",
      "  self._init_dates(dates, freq)\n",
      "c:\\Users\\rayya\\AppData\\Local\\Programs\\Python\\Python313\\Lib\\site-packages\\statsmodels\\tsa\\base\\tsa_model.py:473: ValueWarning: No frequency information was provided, so inferred frequency QS-DEC will be used.\n",
      "  self._init_dates(dates, freq)\n",
      "c:\\Users\\rayya\\AppData\\Local\\Programs\\Python\\Python313\\Lib\\site-packages\\statsmodels\\tsa\\base\\tsa_model.py:473: ValueWarning: No frequency information was provided, so inferred frequency QS-DEC will be used.\n",
      "  self._init_dates(dates, freq)\n",
      "c:\\Users\\rayya\\AppData\\Local\\Programs\\Python\\Python313\\Lib\\site-packages\\statsmodels\\tsa\\base\\tsa_model.py:473: ValueWarning: No frequency information was provided, so inferred frequency QS-DEC will be used.\n",
      "  self._init_dates(dates, freq)\n",
      "c:\\Users\\rayya\\AppData\\Local\\Programs\\Python\\Python313\\Lib\\site-packages\\statsmodels\\tsa\\base\\tsa_model.py:473: ValueWarning: No frequency information was provided, so inferred frequency QS-DEC will be used.\n",
      "  self._init_dates(dates, freq)\n"
     ]
    },
    {
     "name": "stdout",
     "output_type": "stream",
     "text": [
      "Order: (0, 0, 2), Seasonal: (1, 0, 0, 4), MAE: 837.09, RMSE: 1340.71\n"
     ]
    },
    {
     "name": "stderr",
     "output_type": "stream",
     "text": [
      "c:\\Users\\rayya\\AppData\\Local\\Programs\\Python\\Python313\\Lib\\site-packages\\statsmodels\\tsa\\base\\tsa_model.py:473: ValueWarning: No frequency information was provided, so inferred frequency QS-DEC will be used.\n",
      "  self._init_dates(dates, freq)\n",
      "c:\\Users\\rayya\\AppData\\Local\\Programs\\Python\\Python313\\Lib\\site-packages\\statsmodels\\tsa\\base\\tsa_model.py:473: ValueWarning: No frequency information was provided, so inferred frequency QS-DEC will be used.\n",
      "  self._init_dates(dates, freq)\n",
      "c:\\Users\\rayya\\AppData\\Local\\Programs\\Python\\Python313\\Lib\\site-packages\\statsmodels\\base\\model.py:607: ConvergenceWarning: Maximum Likelihood optimization failed to converge. Check mle_retvals\n",
      "  warnings.warn(\"Maximum Likelihood optimization failed to \"\n",
      "c:\\Users\\rayya\\AppData\\Local\\Programs\\Python\\Python313\\Lib\\site-packages\\statsmodels\\tsa\\base\\tsa_model.py:473: ValueWarning: No frequency information was provided, so inferred frequency QS-DEC will be used.\n",
      "  self._init_dates(dates, freq)\n",
      "c:\\Users\\rayya\\AppData\\Local\\Programs\\Python\\Python313\\Lib\\site-packages\\statsmodels\\tsa\\base\\tsa_model.py:473: ValueWarning: No frequency information was provided, so inferred frequency QS-DEC will be used.\n",
      "  self._init_dates(dates, freq)\n",
      "c:\\Users\\rayya\\AppData\\Local\\Programs\\Python\\Python313\\Lib\\site-packages\\statsmodels\\tsa\\base\\tsa_model.py:473: ValueWarning: No frequency information was provided, so inferred frequency QS-DEC will be used.\n",
      "  self._init_dates(dates, freq)\n",
      "c:\\Users\\rayya\\AppData\\Local\\Programs\\Python\\Python313\\Lib\\site-packages\\statsmodels\\tsa\\base\\tsa_model.py:473: ValueWarning: No frequency information was provided, so inferred frequency QS-DEC will be used.\n",
      "  self._init_dates(dates, freq)\n"
     ]
    },
    {
     "name": "stdout",
     "output_type": "stream",
     "text": [
      "Order: (0, 0, 2), Seasonal: (1, 0, 1, 4), MAE: 824.94, RMSE: 1190.60\n",
      "Order: (0, 0, 2), Seasonal: (1, 1, 0, 4), MAE: 2014.27, RMSE: 2335.02\n",
      "Order: (0, 0, 2), Seasonal: (1, 1, 1, 4), MAE: 1771.71, RMSE: 2146.30\n",
      "Order: (0, 1, 0), Seasonal: (0, 0, 0, 4), MAE: 891.00, RMSE: 1171.03\n",
      "Order: (0, 1, 0), Seasonal: (0, 0, 1, 4), MAE: 880.71, RMSE: 1151.19\n",
      "Order: (0, 1, 0), Seasonal: (0, 1, 0, 4), MAE: 855.86, RMSE: 1347.79\n",
      "Order: (0, 1, 0), Seasonal: (0, 1, 1, 4), MAE: 674.15, RMSE: 1035.91\n",
      "Order: (0, 1, 0), Seasonal: (1, 0, 0, 4), MAE: 867.96, RMSE: 1130.59\n"
     ]
    },
    {
     "name": "stderr",
     "output_type": "stream",
     "text": [
      "c:\\Users\\rayya\\AppData\\Local\\Programs\\Python\\Python313\\Lib\\site-packages\\statsmodels\\tsa\\base\\tsa_model.py:473: ValueWarning: No frequency information was provided, so inferred frequency QS-DEC will be used.\n",
      "  self._init_dates(dates, freq)\n",
      "c:\\Users\\rayya\\AppData\\Local\\Programs\\Python\\Python313\\Lib\\site-packages\\statsmodels\\tsa\\base\\tsa_model.py:473: ValueWarning: No frequency information was provided, so inferred frequency QS-DEC will be used.\n",
      "  self._init_dates(dates, freq)\n",
      "c:\\Users\\rayya\\AppData\\Local\\Programs\\Python\\Python313\\Lib\\site-packages\\statsmodels\\tsa\\base\\tsa_model.py:473: ValueWarning: No frequency information was provided, so inferred frequency QS-DEC will be used.\n",
      "  self._init_dates(dates, freq)\n",
      "c:\\Users\\rayya\\AppData\\Local\\Programs\\Python\\Python313\\Lib\\site-packages\\statsmodels\\tsa\\base\\tsa_model.py:473: ValueWarning: No frequency information was provided, so inferred frequency QS-DEC will be used.\n",
      "  self._init_dates(dates, freq)\n",
      "c:\\Users\\rayya\\AppData\\Local\\Programs\\Python\\Python313\\Lib\\site-packages\\statsmodels\\tsa\\base\\tsa_model.py:473: ValueWarning: No frequency information was provided, so inferred frequency QS-DEC will be used.\n",
      "  self._init_dates(dates, freq)\n",
      "c:\\Users\\rayya\\AppData\\Local\\Programs\\Python\\Python313\\Lib\\site-packages\\statsmodels\\tsa\\base\\tsa_model.py:473: ValueWarning: No frequency information was provided, so inferred frequency QS-DEC will be used.\n",
      "  self._init_dates(dates, freq)\n",
      "c:\\Users\\rayya\\AppData\\Local\\Programs\\Python\\Python313\\Lib\\site-packages\\statsmodels\\tsa\\base\\tsa_model.py:473: ValueWarning: No frequency information was provided, so inferred frequency QS-DEC will be used.\n",
      "  self._init_dates(dates, freq)\n",
      "c:\\Users\\rayya\\AppData\\Local\\Programs\\Python\\Python313\\Lib\\site-packages\\statsmodels\\tsa\\base\\tsa_model.py:473: ValueWarning: No frequency information was provided, so inferred frequency QS-DEC will be used.\n",
      "  self._init_dates(dates, freq)\n",
      "c:\\Users\\rayya\\AppData\\Local\\Programs\\Python\\Python313\\Lib\\site-packages\\statsmodels\\tsa\\base\\tsa_model.py:473: ValueWarning: No frequency information was provided, so inferred frequency QS-DEC will be used.\n",
      "  self._init_dates(dates, freq)\n",
      "c:\\Users\\rayya\\AppData\\Local\\Programs\\Python\\Python313\\Lib\\site-packages\\statsmodels\\tsa\\base\\tsa_model.py:473: ValueWarning: No frequency information was provided, so inferred frequency QS-DEC will be used.\n",
      "  self._init_dates(dates, freq)\n",
      "c:\\Users\\rayya\\AppData\\Local\\Programs\\Python\\Python313\\Lib\\site-packages\\statsmodels\\tsa\\base\\tsa_model.py:473: ValueWarning: No frequency information was provided, so inferred frequency QS-DEC will be used.\n",
      "  self._init_dates(dates, freq)\n",
      "c:\\Users\\rayya\\AppData\\Local\\Programs\\Python\\Python313\\Lib\\site-packages\\statsmodels\\tsa\\base\\tsa_model.py:473: ValueWarning: No frequency information was provided, so inferred frequency QS-DEC will be used.\n",
      "  self._init_dates(dates, freq)\n"
     ]
    },
    {
     "name": "stdout",
     "output_type": "stream",
     "text": [
      "Order: (0, 1, 0), Seasonal: (1, 0, 1, 4), MAE: 835.61, RMSE: 1111.27\n",
      "Order: (0, 1, 0), Seasonal: (1, 1, 0, 4), MAE: 959.22, RMSE: 1320.63\n",
      "Order: (0, 1, 0), Seasonal: (1, 1, 1, 4), MAE: 909.21, RMSE: 1282.75\n",
      "Order: (0, 1, 1), Seasonal: (0, 0, 0, 4), MAE: 1356.68, RMSE: 1582.60\n",
      "Order: (0, 1, 1), Seasonal: (0, 0, 1, 4), MAE: 1173.83, RMSE: 1419.53\n"
     ]
    },
    {
     "name": "stderr",
     "output_type": "stream",
     "text": [
      "c:\\Users\\rayya\\AppData\\Local\\Programs\\Python\\Python313\\Lib\\site-packages\\statsmodels\\tsa\\base\\tsa_model.py:473: ValueWarning: No frequency information was provided, so inferred frequency QS-DEC will be used.\n",
      "  self._init_dates(dates, freq)\n",
      "c:\\Users\\rayya\\AppData\\Local\\Programs\\Python\\Python313\\Lib\\site-packages\\statsmodels\\tsa\\base\\tsa_model.py:473: ValueWarning: No frequency information was provided, so inferred frequency QS-DEC will be used.\n",
      "  self._init_dates(dates, freq)\n",
      "c:\\Users\\rayya\\AppData\\Local\\Programs\\Python\\Python313\\Lib\\site-packages\\statsmodels\\tsa\\base\\tsa_model.py:473: ValueWarning: No frequency information was provided, so inferred frequency QS-DEC will be used.\n",
      "  self._init_dates(dates, freq)\n",
      "c:\\Users\\rayya\\AppData\\Local\\Programs\\Python\\Python313\\Lib\\site-packages\\statsmodels\\tsa\\base\\tsa_model.py:473: ValueWarning: No frequency information was provided, so inferred frequency QS-DEC will be used.\n",
      "  self._init_dates(dates, freq)\n",
      "c:\\Users\\rayya\\AppData\\Local\\Programs\\Python\\Python313\\Lib\\site-packages\\statsmodels\\tsa\\base\\tsa_model.py:473: ValueWarning: No frequency information was provided, so inferred frequency QS-DEC will be used.\n",
      "  self._init_dates(dates, freq)\n",
      "c:\\Users\\rayya\\AppData\\Local\\Programs\\Python\\Python313\\Lib\\site-packages\\statsmodels\\tsa\\base\\tsa_model.py:473: ValueWarning: No frequency information was provided, so inferred frequency QS-DEC will be used.\n",
      "  self._init_dates(dates, freq)\n",
      "c:\\Users\\rayya\\AppData\\Local\\Programs\\Python\\Python313\\Lib\\site-packages\\statsmodels\\tsa\\base\\tsa_model.py:473: ValueWarning: No frequency information was provided, so inferred frequency QS-DEC will be used.\n",
      "  self._init_dates(dates, freq)\n",
      "c:\\Users\\rayya\\AppData\\Local\\Programs\\Python\\Python313\\Lib\\site-packages\\statsmodels\\tsa\\base\\tsa_model.py:473: ValueWarning: No frequency information was provided, so inferred frequency QS-DEC will be used.\n",
      "  self._init_dates(dates, freq)\n",
      "c:\\Users\\rayya\\AppData\\Local\\Programs\\Python\\Python313\\Lib\\site-packages\\statsmodels\\tsa\\base\\tsa_model.py:473: ValueWarning: No frequency information was provided, so inferred frequency QS-DEC will be used.\n",
      "  self._init_dates(dates, freq)\n",
      "c:\\Users\\rayya\\AppData\\Local\\Programs\\Python\\Python313\\Lib\\site-packages\\statsmodels\\tsa\\base\\tsa_model.py:473: ValueWarning: No frequency information was provided, so inferred frequency QS-DEC will be used.\n",
      "  self._init_dates(dates, freq)\n"
     ]
    },
    {
     "name": "stdout",
     "output_type": "stream",
     "text": [
      "Order: (0, 1, 1), Seasonal: (0, 1, 0, 4), MAE: 906.67, RMSE: 1390.75\n",
      "Order: (0, 1, 1), Seasonal: (0, 1, 1, 4), MAE: 1122.66, RMSE: 1403.38\n",
      "Order: (0, 1, 1), Seasonal: (1, 0, 0, 4), MAE: 1343.16, RMSE: 1561.55\n"
     ]
    },
    {
     "name": "stderr",
     "output_type": "stream",
     "text": [
      "c:\\Users\\rayya\\AppData\\Local\\Programs\\Python\\Python313\\Lib\\site-packages\\statsmodels\\tsa\\base\\tsa_model.py:473: ValueWarning: No frequency information was provided, so inferred frequency QS-DEC will be used.\n",
      "  self._init_dates(dates, freq)\n",
      "c:\\Users\\rayya\\AppData\\Local\\Programs\\Python\\Python313\\Lib\\site-packages\\statsmodels\\tsa\\base\\tsa_model.py:473: ValueWarning: No frequency information was provided, so inferred frequency QS-DEC will be used.\n",
      "  self._init_dates(dates, freq)\n",
      "c:\\Users\\rayya\\AppData\\Local\\Programs\\Python\\Python313\\Lib\\site-packages\\statsmodels\\tsa\\base\\tsa_model.py:473: ValueWarning: No frequency information was provided, so inferred frequency QS-DEC will be used.\n",
      "  self._init_dates(dates, freq)\n",
      "c:\\Users\\rayya\\AppData\\Local\\Programs\\Python\\Python313\\Lib\\site-packages\\statsmodels\\tsa\\base\\tsa_model.py:473: ValueWarning: No frequency information was provided, so inferred frequency QS-DEC will be used.\n",
      "  self._init_dates(dates, freq)\n",
      "c:\\Users\\rayya\\AppData\\Local\\Programs\\Python\\Python313\\Lib\\site-packages\\statsmodels\\tsa\\base\\tsa_model.py:473: ValueWarning: No frequency information was provided, so inferred frequency QS-DEC will be used.\n",
      "  self._init_dates(dates, freq)\n",
      "c:\\Users\\rayya\\AppData\\Local\\Programs\\Python\\Python313\\Lib\\site-packages\\statsmodels\\tsa\\base\\tsa_model.py:473: ValueWarning: No frequency information was provided, so inferred frequency QS-DEC will be used.\n",
      "  self._init_dates(dates, freq)\n"
     ]
    },
    {
     "name": "stdout",
     "output_type": "stream",
     "text": [
      "Order: (0, 1, 1), Seasonal: (1, 0, 1, 4), MAE: 1157.25, RMSE: 1397.72\n",
      "Order: (0, 1, 1), Seasonal: (1, 1, 0, 4), MAE: 1017.04, RMSE: 1389.21\n",
      "Order: (0, 1, 1), Seasonal: (1, 1, 1, 4), MAE: 1074.96, RMSE: 1425.38\n"
     ]
    },
    {
     "name": "stderr",
     "output_type": "stream",
     "text": [
      "c:\\Users\\rayya\\AppData\\Local\\Programs\\Python\\Python313\\Lib\\site-packages\\statsmodels\\tsa\\base\\tsa_model.py:473: ValueWarning: No frequency information was provided, so inferred frequency QS-DEC will be used.\n",
      "  self._init_dates(dates, freq)\n",
      "c:\\Users\\rayya\\AppData\\Local\\Programs\\Python\\Python313\\Lib\\site-packages\\statsmodels\\tsa\\base\\tsa_model.py:473: ValueWarning: No frequency information was provided, so inferred frequency QS-DEC will be used.\n",
      "  self._init_dates(dates, freq)\n",
      "c:\\Users\\rayya\\AppData\\Local\\Programs\\Python\\Python313\\Lib\\site-packages\\statsmodels\\tsa\\base\\tsa_model.py:473: ValueWarning: No frequency information was provided, so inferred frequency QS-DEC will be used.\n",
      "  self._init_dates(dates, freq)\n",
      "c:\\Users\\rayya\\AppData\\Local\\Programs\\Python\\Python313\\Lib\\site-packages\\statsmodels\\tsa\\base\\tsa_model.py:473: ValueWarning: No frequency information was provided, so inferred frequency QS-DEC will be used.\n",
      "  self._init_dates(dates, freq)\n",
      "c:\\Users\\rayya\\AppData\\Local\\Programs\\Python\\Python313\\Lib\\site-packages\\statsmodels\\tsa\\base\\tsa_model.py:473: ValueWarning: No frequency information was provided, so inferred frequency QS-DEC will be used.\n",
      "  self._init_dates(dates, freq)\n",
      "c:\\Users\\rayya\\AppData\\Local\\Programs\\Python\\Python313\\Lib\\site-packages\\statsmodels\\tsa\\base\\tsa_model.py:473: ValueWarning: No frequency information was provided, so inferred frequency QS-DEC will be used.\n",
      "  self._init_dates(dates, freq)\n"
     ]
    },
    {
     "name": "stdout",
     "output_type": "stream",
     "text": [
      "Order: (0, 1, 2), Seasonal: (0, 0, 0, 4), MAE: 1360.11, RMSE: 1585.72\n",
      "Order: (0, 1, 2), Seasonal: (0, 0, 1, 4), MAE: 1355.71, RMSE: 1587.52\n",
      "Order: (0, 1, 2), Seasonal: (0, 1, 0, 4), MAE: 875.54, RMSE: 1363.77\n",
      "Order: (0, 1, 2), Seasonal: (0, 1, 1, 4), MAE: 1051.29, RMSE: 1405.95\n"
     ]
    },
    {
     "name": "stderr",
     "output_type": "stream",
     "text": [
      "c:\\Users\\rayya\\AppData\\Local\\Programs\\Python\\Python313\\Lib\\site-packages\\statsmodels\\tsa\\base\\tsa_model.py:473: ValueWarning: No frequency information was provided, so inferred frequency QS-DEC will be used.\n",
      "  self._init_dates(dates, freq)\n",
      "c:\\Users\\rayya\\AppData\\Local\\Programs\\Python\\Python313\\Lib\\site-packages\\statsmodels\\tsa\\base\\tsa_model.py:473: ValueWarning: No frequency information was provided, so inferred frequency QS-DEC will be used.\n",
      "  self._init_dates(dates, freq)\n",
      "c:\\Users\\rayya\\AppData\\Local\\Programs\\Python\\Python313\\Lib\\site-packages\\statsmodels\\tsa\\base\\tsa_model.py:473: ValueWarning: No frequency information was provided, so inferred frequency QS-DEC will be used.\n",
      "  self._init_dates(dates, freq)\n",
      "c:\\Users\\rayya\\AppData\\Local\\Programs\\Python\\Python313\\Lib\\site-packages\\statsmodels\\tsa\\base\\tsa_model.py:473: ValueWarning: No frequency information was provided, so inferred frequency QS-DEC will be used.\n",
      "  self._init_dates(dates, freq)\n",
      "c:\\Users\\rayya\\AppData\\Local\\Programs\\Python\\Python313\\Lib\\site-packages\\statsmodels\\tsa\\base\\tsa_model.py:473: ValueWarning: No frequency information was provided, so inferred frequency QS-DEC will be used.\n",
      "  self._init_dates(dates, freq)\n",
      "c:\\Users\\rayya\\AppData\\Local\\Programs\\Python\\Python313\\Lib\\site-packages\\statsmodels\\tsa\\base\\tsa_model.py:473: ValueWarning: No frequency information was provided, so inferred frequency QS-DEC will be used.\n",
      "  self._init_dates(dates, freq)\n",
      "c:\\Users\\rayya\\AppData\\Local\\Programs\\Python\\Python313\\Lib\\site-packages\\statsmodels\\tsa\\base\\tsa_model.py:473: ValueWarning: No frequency information was provided, so inferred frequency QS-DEC will be used.\n",
      "  self._init_dates(dates, freq)\n",
      "c:\\Users\\rayya\\AppData\\Local\\Programs\\Python\\Python313\\Lib\\site-packages\\statsmodels\\tsa\\base\\tsa_model.py:473: ValueWarning: No frequency information was provided, so inferred frequency QS-DEC will be used.\n",
      "  self._init_dates(dates, freq)\n"
     ]
    },
    {
     "name": "stdout",
     "output_type": "stream",
     "text": [
      "Order: (0, 1, 2), Seasonal: (1, 0, 0, 4), MAE: 1366.05, RMSE: 1585.21\n",
      "Order: (0, 1, 2), Seasonal: (1, 0, 1, 4), MAE: 1359.11, RMSE: 1587.31\n",
      "Order: (0, 1, 2), Seasonal: (1, 1, 0, 4), MAE: 1023.97, RMSE: 1383.16\n"
     ]
    },
    {
     "name": "stderr",
     "output_type": "stream",
     "text": [
      "c:\\Users\\rayya\\AppData\\Local\\Programs\\Python\\Python313\\Lib\\site-packages\\statsmodels\\tsa\\base\\tsa_model.py:473: ValueWarning: No frequency information was provided, so inferred frequency QS-DEC will be used.\n",
      "  self._init_dates(dates, freq)\n",
      "c:\\Users\\rayya\\AppData\\Local\\Programs\\Python\\Python313\\Lib\\site-packages\\statsmodels\\tsa\\base\\tsa_model.py:473: ValueWarning: No frequency information was provided, so inferred frequency QS-DEC will be used.\n",
      "  self._init_dates(dates, freq)\n",
      "c:\\Users\\rayya\\AppData\\Local\\Programs\\Python\\Python313\\Lib\\site-packages\\statsmodels\\tsa\\base\\tsa_model.py:473: ValueWarning: No frequency information was provided, so inferred frequency QS-DEC will be used.\n",
      "  self._init_dates(dates, freq)\n",
      "c:\\Users\\rayya\\AppData\\Local\\Programs\\Python\\Python313\\Lib\\site-packages\\statsmodels\\tsa\\base\\tsa_model.py:473: ValueWarning: No frequency information was provided, so inferred frequency QS-DEC will be used.\n",
      "  self._init_dates(dates, freq)\n",
      "c:\\Users\\rayya\\AppData\\Local\\Programs\\Python\\Python313\\Lib\\site-packages\\statsmodels\\tsa\\base\\tsa_model.py:473: ValueWarning: No frequency information was provided, so inferred frequency QS-DEC will be used.\n",
      "  self._init_dates(dates, freq)\n",
      "c:\\Users\\rayya\\AppData\\Local\\Programs\\Python\\Python313\\Lib\\site-packages\\statsmodels\\tsa\\base\\tsa_model.py:473: ValueWarning: No frequency information was provided, so inferred frequency QS-DEC will be used.\n",
      "  self._init_dates(dates, freq)\n"
     ]
    },
    {
     "name": "stdout",
     "output_type": "stream",
     "text": [
      "Order: (0, 1, 2), Seasonal: (1, 1, 1, 4), MAE: 1029.26, RMSE: 1417.81\n",
      "Order: (1, 0, 0), Seasonal: (0, 0, 0, 4), MAE: 403.12, RMSE: 585.58\n",
      "Order: (1, 0, 0), Seasonal: (0, 0, 1, 4), MAE: 461.53, RMSE: 653.65\n",
      "Order: (1, 0, 0), Seasonal: (0, 1, 0, 4), MAE: 1726.69, RMSE: 2128.79\n",
      "Order: (1, 0, 0), Seasonal: (0, 1, 1, 4), MAE: 1770.84, RMSE: 2128.21\n"
     ]
    },
    {
     "name": "stderr",
     "output_type": "stream",
     "text": [
      "c:\\Users\\rayya\\AppData\\Local\\Programs\\Python\\Python313\\Lib\\site-packages\\statsmodels\\tsa\\base\\tsa_model.py:473: ValueWarning: No frequency information was provided, so inferred frequency QS-DEC will be used.\n",
      "  self._init_dates(dates, freq)\n",
      "c:\\Users\\rayya\\AppData\\Local\\Programs\\Python\\Python313\\Lib\\site-packages\\statsmodels\\tsa\\base\\tsa_model.py:473: ValueWarning: No frequency information was provided, so inferred frequency QS-DEC will be used.\n",
      "  self._init_dates(dates, freq)\n",
      "c:\\Users\\rayya\\AppData\\Local\\Programs\\Python\\Python313\\Lib\\site-packages\\statsmodels\\tsa\\base\\tsa_model.py:473: ValueWarning: No frequency information was provided, so inferred frequency QS-DEC will be used.\n",
      "  self._init_dates(dates, freq)\n",
      "c:\\Users\\rayya\\AppData\\Local\\Programs\\Python\\Python313\\Lib\\site-packages\\statsmodels\\tsa\\base\\tsa_model.py:473: ValueWarning: No frequency information was provided, so inferred frequency QS-DEC will be used.\n",
      "  self._init_dates(dates, freq)\n",
      "c:\\Users\\rayya\\AppData\\Local\\Programs\\Python\\Python313\\Lib\\site-packages\\statsmodels\\tsa\\base\\tsa_model.py:473: ValueWarning: No frequency information was provided, so inferred frequency QS-DEC will be used.\n",
      "  self._init_dates(dates, freq)\n",
      "c:\\Users\\rayya\\AppData\\Local\\Programs\\Python\\Python313\\Lib\\site-packages\\statsmodels\\tsa\\base\\tsa_model.py:473: ValueWarning: No frequency information was provided, so inferred frequency QS-DEC will be used.\n",
      "  self._init_dates(dates, freq)\n",
      "c:\\Users\\rayya\\AppData\\Local\\Programs\\Python\\Python313\\Lib\\site-packages\\statsmodels\\tsa\\base\\tsa_model.py:473: ValueWarning: No frequency information was provided, so inferred frequency QS-DEC will be used.\n",
      "  self._init_dates(dates, freq)\n",
      "c:\\Users\\rayya\\AppData\\Local\\Programs\\Python\\Python313\\Lib\\site-packages\\statsmodels\\tsa\\base\\tsa_model.py:473: ValueWarning: No frequency information was provided, so inferred frequency QS-DEC will be used.\n",
      "  self._init_dates(dates, freq)\n",
      "c:\\Users\\rayya\\AppData\\Local\\Programs\\Python\\Python313\\Lib\\site-packages\\statsmodels\\tsa\\base\\tsa_model.py:473: ValueWarning: No frequency information was provided, so inferred frequency QS-DEC will be used.\n",
      "  self._init_dates(dates, freq)\n",
      "c:\\Users\\rayya\\AppData\\Local\\Programs\\Python\\Python313\\Lib\\site-packages\\statsmodels\\tsa\\base\\tsa_model.py:473: ValueWarning: No frequency information was provided, so inferred frequency QS-DEC will be used.\n",
      "  self._init_dates(dates, freq)\n"
     ]
    },
    {
     "name": "stdout",
     "output_type": "stream",
     "text": [
      "Order: (1, 0, 0), Seasonal: (1, 0, 0, 4), MAE: 898.10, RMSE: 1430.04\n",
      "Order: (1, 0, 0), Seasonal: (1, 0, 1, 4), MAE: 832.56, RMSE: 1168.05\n",
      "Order: (1, 0, 0), Seasonal: (1, 1, 0, 4), MAE: 1626.60, RMSE: 2004.75\n"
     ]
    },
    {
     "name": "stderr",
     "output_type": "stream",
     "text": [
      "c:\\Users\\rayya\\AppData\\Local\\Programs\\Python\\Python313\\Lib\\site-packages\\statsmodels\\tsa\\base\\tsa_model.py:473: ValueWarning: No frequency information was provided, so inferred frequency QS-DEC will be used.\n",
      "  self._init_dates(dates, freq)\n",
      "c:\\Users\\rayya\\AppData\\Local\\Programs\\Python\\Python313\\Lib\\site-packages\\statsmodels\\tsa\\base\\tsa_model.py:473: ValueWarning: No frequency information was provided, so inferred frequency QS-DEC will be used.\n",
      "  self._init_dates(dates, freq)\n",
      "c:\\Users\\rayya\\AppData\\Local\\Programs\\Python\\Python313\\Lib\\site-packages\\statsmodels\\tsa\\base\\tsa_model.py:473: ValueWarning: No frequency information was provided, so inferred frequency QS-DEC will be used.\n",
      "  self._init_dates(dates, freq)\n",
      "c:\\Users\\rayya\\AppData\\Local\\Programs\\Python\\Python313\\Lib\\site-packages\\statsmodels\\tsa\\base\\tsa_model.py:473: ValueWarning: No frequency information was provided, so inferred frequency QS-DEC will be used.\n",
      "  self._init_dates(dates, freq)\n",
      "c:\\Users\\rayya\\AppData\\Local\\Programs\\Python\\Python313\\Lib\\site-packages\\statsmodels\\tsa\\base\\tsa_model.py:473: ValueWarning: No frequency information was provided, so inferred frequency QS-DEC will be used.\n",
      "  self._init_dates(dates, freq)\n",
      "c:\\Users\\rayya\\AppData\\Local\\Programs\\Python\\Python313\\Lib\\site-packages\\statsmodels\\tsa\\base\\tsa_model.py:473: ValueWarning: No frequency information was provided, so inferred frequency QS-DEC will be used.\n",
      "  self._init_dates(dates, freq)\n"
     ]
    },
    {
     "name": "stdout",
     "output_type": "stream",
     "text": [
      "Order: (1, 0, 0), Seasonal: (1, 1, 1, 4), MAE: 1606.82, RMSE: 1992.24\n",
      "Order: (1, 0, 1), Seasonal: (0, 0, 0, 4), MAE: 426.73, RMSE: 633.32\n",
      "Order: (1, 0, 1), Seasonal: (0, 0, 1, 4), MAE: 404.31, RMSE: 596.62\n",
      "Order: (1, 0, 1), Seasonal: (0, 1, 0, 4), MAE: 1571.61, RMSE: 1980.32\n"
     ]
    },
    {
     "name": "stderr",
     "output_type": "stream",
     "text": [
      "c:\\Users\\rayya\\AppData\\Local\\Programs\\Python\\Python313\\Lib\\site-packages\\statsmodels\\tsa\\base\\tsa_model.py:473: ValueWarning: No frequency information was provided, so inferred frequency QS-DEC will be used.\n",
      "  self._init_dates(dates, freq)\n",
      "c:\\Users\\rayya\\AppData\\Local\\Programs\\Python\\Python313\\Lib\\site-packages\\statsmodels\\tsa\\base\\tsa_model.py:473: ValueWarning: No frequency information was provided, so inferred frequency QS-DEC will be used.\n",
      "  self._init_dates(dates, freq)\n",
      "c:\\Users\\rayya\\AppData\\Local\\Programs\\Python\\Python313\\Lib\\site-packages\\statsmodels\\tsa\\base\\tsa_model.py:473: ValueWarning: No frequency information was provided, so inferred frequency QS-DEC will be used.\n",
      "  self._init_dates(dates, freq)\n",
      "c:\\Users\\rayya\\AppData\\Local\\Programs\\Python\\Python313\\Lib\\site-packages\\statsmodels\\tsa\\base\\tsa_model.py:473: ValueWarning: No frequency information was provided, so inferred frequency QS-DEC will be used.\n",
      "  self._init_dates(dates, freq)\n",
      "c:\\Users\\rayya\\AppData\\Local\\Programs\\Python\\Python313\\Lib\\site-packages\\statsmodels\\tsa\\base\\tsa_model.py:473: ValueWarning: No frequency information was provided, so inferred frequency QS-DEC will be used.\n",
      "  self._init_dates(dates, freq)\n",
      "c:\\Users\\rayya\\AppData\\Local\\Programs\\Python\\Python313\\Lib\\site-packages\\statsmodels\\tsa\\base\\tsa_model.py:473: ValueWarning: No frequency information was provided, so inferred frequency QS-DEC will be used.\n",
      "  self._init_dates(dates, freq)\n",
      "c:\\Users\\rayya\\AppData\\Local\\Programs\\Python\\Python313\\Lib\\site-packages\\statsmodels\\tsa\\base\\tsa_model.py:473: ValueWarning: No frequency information was provided, so inferred frequency QS-DEC will be used.\n",
      "  self._init_dates(dates, freq)\n",
      "c:\\Users\\rayya\\AppData\\Local\\Programs\\Python\\Python313\\Lib\\site-packages\\statsmodels\\tsa\\base\\tsa_model.py:473: ValueWarning: No frequency information was provided, so inferred frequency QS-DEC will be used.\n",
      "  self._init_dates(dates, freq)\n"
     ]
    },
    {
     "name": "stdout",
     "output_type": "stream",
     "text": [
      "Order: (1, 0, 1), Seasonal: (0, 1, 1, 4), MAE: 859.69, RMSE: 1202.83\n",
      "Order: (1, 0, 1), Seasonal: (1, 0, 0, 4), MAE: 409.15, RMSE: 613.53\n"
     ]
    },
    {
     "name": "stderr",
     "output_type": "stream",
     "text": [
      "c:\\Users\\rayya\\AppData\\Local\\Programs\\Python\\Python313\\Lib\\site-packages\\statsmodels\\tsa\\base\\tsa_model.py:473: ValueWarning: No frequency information was provided, so inferred frequency QS-DEC will be used.\n",
      "  self._init_dates(dates, freq)\n",
      "c:\\Users\\rayya\\AppData\\Local\\Programs\\Python\\Python313\\Lib\\site-packages\\statsmodels\\tsa\\base\\tsa_model.py:473: ValueWarning: No frequency information was provided, so inferred frequency QS-DEC will be used.\n",
      "  self._init_dates(dates, freq)\n",
      "c:\\Users\\rayya\\AppData\\Local\\Programs\\Python\\Python313\\Lib\\site-packages\\statsmodels\\tsa\\base\\tsa_model.py:473: ValueWarning: No frequency information was provided, so inferred frequency QS-DEC will be used.\n",
      "  self._init_dates(dates, freq)\n",
      "c:\\Users\\rayya\\AppData\\Local\\Programs\\Python\\Python313\\Lib\\site-packages\\statsmodels\\tsa\\base\\tsa_model.py:473: ValueWarning: No frequency information was provided, so inferred frequency QS-DEC will be used.\n",
      "  self._init_dates(dates, freq)\n"
     ]
    },
    {
     "name": "stdout",
     "output_type": "stream",
     "text": [
      "Order: (1, 0, 1), Seasonal: (1, 0, 1, 4), MAE: 411.36, RMSE: 607.19\n",
      "Order: (1, 0, 1), Seasonal: (1, 1, 0, 4), MAE: 1314.04, RMSE: 1702.11\n",
      "Order: (1, 0, 1), Seasonal: (1, 1, 1, 4), MAE: 1270.57, RMSE: 1678.50\n"
     ]
    },
    {
     "name": "stderr",
     "output_type": "stream",
     "text": [
      "c:\\Users\\rayya\\AppData\\Local\\Programs\\Python\\Python313\\Lib\\site-packages\\statsmodels\\tsa\\base\\tsa_model.py:473: ValueWarning: No frequency information was provided, so inferred frequency QS-DEC will be used.\n",
      "  self._init_dates(dates, freq)\n",
      "c:\\Users\\rayya\\AppData\\Local\\Programs\\Python\\Python313\\Lib\\site-packages\\statsmodels\\tsa\\base\\tsa_model.py:473: ValueWarning: No frequency information was provided, so inferred frequency QS-DEC will be used.\n",
      "  self._init_dates(dates, freq)\n",
      "c:\\Users\\rayya\\AppData\\Local\\Programs\\Python\\Python313\\Lib\\site-packages\\statsmodels\\tsa\\base\\tsa_model.py:473: ValueWarning: No frequency information was provided, so inferred frequency QS-DEC will be used.\n",
      "  self._init_dates(dates, freq)\n",
      "c:\\Users\\rayya\\AppData\\Local\\Programs\\Python\\Python313\\Lib\\site-packages\\statsmodels\\tsa\\base\\tsa_model.py:473: ValueWarning: No frequency information was provided, so inferred frequency QS-DEC will be used.\n",
      "  self._init_dates(dates, freq)\n",
      "c:\\Users\\rayya\\AppData\\Local\\Programs\\Python\\Python313\\Lib\\site-packages\\statsmodels\\tsa\\base\\tsa_model.py:473: ValueWarning: No frequency information was provided, so inferred frequency QS-DEC will be used.\n",
      "  self._init_dates(dates, freq)\n",
      "c:\\Users\\rayya\\AppData\\Local\\Programs\\Python\\Python313\\Lib\\site-packages\\statsmodels\\tsa\\base\\tsa_model.py:473: ValueWarning: No frequency information was provided, so inferred frequency QS-DEC will be used.\n",
      "  self._init_dates(dates, freq)\n"
     ]
    },
    {
     "name": "stdout",
     "output_type": "stream",
     "text": [
      "Order: (1, 0, 2), Seasonal: (0, 0, 0, 4), MAE: 418.62, RMSE: 632.26\n",
      "Order: (1, 0, 2), Seasonal: (0, 0, 1, 4), MAE: 442.64, RMSE: 663.05\n",
      "Order: (1, 0, 2), Seasonal: (0, 1, 0, 4), MAE: 1700.67, RMSE: 2051.60\n"
     ]
    },
    {
     "name": "stderr",
     "output_type": "stream",
     "text": [
      "c:\\Users\\rayya\\AppData\\Local\\Programs\\Python\\Python313\\Lib\\site-packages\\statsmodels\\tsa\\base\\tsa_model.py:473: ValueWarning: No frequency information was provided, so inferred frequency QS-DEC will be used.\n",
      "  self._init_dates(dates, freq)\n",
      "c:\\Users\\rayya\\AppData\\Local\\Programs\\Python\\Python313\\Lib\\site-packages\\statsmodels\\tsa\\base\\tsa_model.py:473: ValueWarning: No frequency information was provided, so inferred frequency QS-DEC will be used.\n",
      "  self._init_dates(dates, freq)\n",
      "c:\\Users\\rayya\\AppData\\Local\\Programs\\Python\\Python313\\Lib\\site-packages\\statsmodels\\tsa\\base\\tsa_model.py:473: ValueWarning: No frequency information was provided, so inferred frequency QS-DEC will be used.\n",
      "  self._init_dates(dates, freq)\n",
      "c:\\Users\\rayya\\AppData\\Local\\Programs\\Python\\Python313\\Lib\\site-packages\\statsmodels\\tsa\\base\\tsa_model.py:473: ValueWarning: No frequency information was provided, so inferred frequency QS-DEC will be used.\n",
      "  self._init_dates(dates, freq)\n",
      "c:\\Users\\rayya\\AppData\\Local\\Programs\\Python\\Python313\\Lib\\site-packages\\statsmodels\\tsa\\base\\tsa_model.py:473: ValueWarning: No frequency information was provided, so inferred frequency QS-DEC will be used.\n",
      "  self._init_dates(dates, freq)\n",
      "c:\\Users\\rayya\\AppData\\Local\\Programs\\Python\\Python313\\Lib\\site-packages\\statsmodels\\tsa\\base\\tsa_model.py:473: ValueWarning: No frequency information was provided, so inferred frequency QS-DEC will be used.\n",
      "  self._init_dates(dates, freq)\n"
     ]
    },
    {
     "name": "stdout",
     "output_type": "stream",
     "text": [
      "Order: (1, 0, 2), Seasonal: (0, 1, 1, 4), MAE: 977.42, RMSE: 1378.46\n",
      "Order: (1, 0, 2), Seasonal: (1, 0, 0, 4), MAE: 405.40, RMSE: 615.13\n"
     ]
    },
    {
     "name": "stderr",
     "output_type": "stream",
     "text": [
      "c:\\Users\\rayya\\AppData\\Local\\Programs\\Python\\Python313\\Lib\\site-packages\\statsmodels\\tsa\\base\\tsa_model.py:473: ValueWarning: No frequency information was provided, so inferred frequency QS-DEC will be used.\n",
      "  self._init_dates(dates, freq)\n",
      "c:\\Users\\rayya\\AppData\\Local\\Programs\\Python\\Python313\\Lib\\site-packages\\statsmodels\\tsa\\base\\tsa_model.py:473: ValueWarning: No frequency information was provided, so inferred frequency QS-DEC will be used.\n",
      "  self._init_dates(dates, freq)\n",
      "c:\\Users\\rayya\\AppData\\Local\\Programs\\Python\\Python313\\Lib\\site-packages\\statsmodels\\tsa\\base\\tsa_model.py:473: ValueWarning: No frequency information was provided, so inferred frequency QS-DEC will be used.\n",
      "  self._init_dates(dates, freq)\n",
      "c:\\Users\\rayya\\AppData\\Local\\Programs\\Python\\Python313\\Lib\\site-packages\\statsmodels\\tsa\\base\\tsa_model.py:473: ValueWarning: No frequency information was provided, so inferred frequency QS-DEC will be used.\n",
      "  self._init_dates(dates, freq)\n"
     ]
    },
    {
     "name": "stdout",
     "output_type": "stream",
     "text": [
      "Order: (1, 0, 2), Seasonal: (1, 0, 1, 4), MAE: 426.28, RMSE: 648.37\n",
      "Order: (1, 0, 2), Seasonal: (1, 1, 0, 4), MAE: 1236.02, RMSE: 1605.34\n"
     ]
    },
    {
     "name": "stderr",
     "output_type": "stream",
     "text": [
      "c:\\Users\\rayya\\AppData\\Local\\Programs\\Python\\Python313\\Lib\\site-packages\\statsmodels\\tsa\\base\\tsa_model.py:473: ValueWarning: No frequency information was provided, so inferred frequency QS-DEC will be used.\n",
      "  self._init_dates(dates, freq)\n",
      "c:\\Users\\rayya\\AppData\\Local\\Programs\\Python\\Python313\\Lib\\site-packages\\statsmodels\\tsa\\base\\tsa_model.py:473: ValueWarning: No frequency information was provided, so inferred frequency QS-DEC will be used.\n",
      "  self._init_dates(dates, freq)\n",
      "c:\\Users\\rayya\\AppData\\Local\\Programs\\Python\\Python313\\Lib\\site-packages\\statsmodels\\tsa\\base\\tsa_model.py:473: ValueWarning: No frequency information was provided, so inferred frequency QS-DEC will be used.\n",
      "  self._init_dates(dates, freq)\n",
      "c:\\Users\\rayya\\AppData\\Local\\Programs\\Python\\Python313\\Lib\\site-packages\\statsmodels\\tsa\\base\\tsa_model.py:473: ValueWarning: No frequency information was provided, so inferred frequency QS-DEC will be used.\n",
      "  self._init_dates(dates, freq)\n",
      "c:\\Users\\rayya\\AppData\\Local\\Programs\\Python\\Python313\\Lib\\site-packages\\statsmodels\\base\\model.py:607: ConvergenceWarning: Maximum Likelihood optimization failed to converge. Check mle_retvals\n",
      "  warnings.warn(\"Maximum Likelihood optimization failed to \"\n",
      "c:\\Users\\rayya\\AppData\\Local\\Programs\\Python\\Python313\\Lib\\site-packages\\statsmodels\\tsa\\base\\tsa_model.py:473: ValueWarning: No frequency information was provided, so inferred frequency QS-DEC will be used.\n",
      "  self._init_dates(dates, freq)\n",
      "c:\\Users\\rayya\\AppData\\Local\\Programs\\Python\\Python313\\Lib\\site-packages\\statsmodels\\tsa\\base\\tsa_model.py:473: ValueWarning: No frequency information was provided, so inferred frequency QS-DEC will be used.\n",
      "  self._init_dates(dates, freq)\n",
      "c:\\Users\\rayya\\AppData\\Local\\Programs\\Python\\Python313\\Lib\\site-packages\\statsmodels\\tsa\\base\\tsa_model.py:473: ValueWarning: No frequency information was provided, so inferred frequency QS-DEC will be used.\n",
      "  self._init_dates(dates, freq)\n",
      "c:\\Users\\rayya\\AppData\\Local\\Programs\\Python\\Python313\\Lib\\site-packages\\statsmodels\\tsa\\base\\tsa_model.py:473: ValueWarning: No frequency information was provided, so inferred frequency QS-DEC will be used.\n",
      "  self._init_dates(dates, freq)\n",
      "c:\\Users\\rayya\\AppData\\Local\\Programs\\Python\\Python313\\Lib\\site-packages\\statsmodels\\tsa\\base\\tsa_model.py:473: ValueWarning: No frequency information was provided, so inferred frequency QS-DEC will be used.\n",
      "  self._init_dates(dates, freq)\n",
      "c:\\Users\\rayya\\AppData\\Local\\Programs\\Python\\Python313\\Lib\\site-packages\\statsmodels\\tsa\\base\\tsa_model.py:473: ValueWarning: No frequency information was provided, so inferred frequency QS-DEC will be used.\n",
      "  self._init_dates(dates, freq)\n",
      "c:\\Users\\rayya\\AppData\\Local\\Programs\\Python\\Python313\\Lib\\site-packages\\statsmodels\\tsa\\base\\tsa_model.py:473: ValueWarning: No frequency information was provided, so inferred frequency QS-DEC will be used.\n",
      "  self._init_dates(dates, freq)\n",
      "c:\\Users\\rayya\\AppData\\Local\\Programs\\Python\\Python313\\Lib\\site-packages\\statsmodels\\tsa\\base\\tsa_model.py:473: ValueWarning: No frequency information was provided, so inferred frequency QS-DEC will be used.\n",
      "  self._init_dates(dates, freq)\n",
      "c:\\Users\\rayya\\AppData\\Local\\Programs\\Python\\Python313\\Lib\\site-packages\\statsmodels\\tsa\\base\\tsa_model.py:473: ValueWarning: No frequency information was provided, so inferred frequency QS-DEC will be used.\n",
      "  self._init_dates(dates, freq)\n",
      "c:\\Users\\rayya\\AppData\\Local\\Programs\\Python\\Python313\\Lib\\site-packages\\statsmodels\\tsa\\base\\tsa_model.py:473: ValueWarning: No frequency information was provided, so inferred frequency QS-DEC will be used.\n",
      "  self._init_dates(dates, freq)\n"
     ]
    },
    {
     "name": "stdout",
     "output_type": "stream",
     "text": [
      "Order: (1, 0, 2), Seasonal: (1, 1, 1, 4), MAE: 1162.89, RMSE: 1563.42\n",
      "Order: (1, 1, 0), Seasonal: (0, 0, 0, 4), MAE: 1005.43, RMSE: 1288.72\n",
      "Order: (1, 1, 0), Seasonal: (0, 0, 1, 4), MAE: 990.74, RMSE: 1261.08\n",
      "Order: (1, 1, 0), Seasonal: (0, 1, 0, 4), MAE: 1201.18, RMSE: 1614.79\n",
      "Order: (1, 1, 0), Seasonal: (0, 1, 1, 4), MAE: 686.45, RMSE: 1027.12\n",
      "Order: (1, 1, 0), Seasonal: (1, 0, 0, 4), MAE: 988.28, RMSE: 1249.94\n"
     ]
    },
    {
     "name": "stderr",
     "output_type": "stream",
     "text": [
      "c:\\Users\\rayya\\AppData\\Local\\Programs\\Python\\Python313\\Lib\\site-packages\\statsmodels\\tsa\\base\\tsa_model.py:473: ValueWarning: No frequency information was provided, so inferred frequency QS-DEC will be used.\n",
      "  self._init_dates(dates, freq)\n",
      "c:\\Users\\rayya\\AppData\\Local\\Programs\\Python\\Python313\\Lib\\site-packages\\statsmodels\\tsa\\base\\tsa_model.py:473: ValueWarning: No frequency information was provided, so inferred frequency QS-DEC will be used.\n",
      "  self._init_dates(dates, freq)\n",
      "c:\\Users\\rayya\\AppData\\Local\\Programs\\Python\\Python313\\Lib\\site-packages\\statsmodels\\tsa\\base\\tsa_model.py:473: ValueWarning: No frequency information was provided, so inferred frequency QS-DEC will be used.\n",
      "  self._init_dates(dates, freq)\n",
      "c:\\Users\\rayya\\AppData\\Local\\Programs\\Python\\Python313\\Lib\\site-packages\\statsmodels\\tsa\\base\\tsa_model.py:473: ValueWarning: No frequency information was provided, so inferred frequency QS-DEC will be used.\n",
      "  self._init_dates(dates, freq)\n",
      "c:\\Users\\rayya\\AppData\\Local\\Programs\\Python\\Python313\\Lib\\site-packages\\statsmodels\\tsa\\base\\tsa_model.py:473: ValueWarning: No frequency information was provided, so inferred frequency QS-DEC will be used.\n",
      "  self._init_dates(dates, freq)\n",
      "c:\\Users\\rayya\\AppData\\Local\\Programs\\Python\\Python313\\Lib\\site-packages\\statsmodels\\tsa\\base\\tsa_model.py:473: ValueWarning: No frequency information was provided, so inferred frequency QS-DEC will be used.\n",
      "  self._init_dates(dates, freq)\n"
     ]
    },
    {
     "name": "stdout",
     "output_type": "stream",
     "text": [
      "Order: (1, 1, 0), Seasonal: (1, 0, 1, 4), MAE: 937.11, RMSE: 1208.47\n",
      "Order: (1, 1, 0), Seasonal: (1, 1, 0, 4), MAE: 889.77, RMSE: 1256.61\n",
      "Order: (1, 1, 0), Seasonal: (1, 1, 1, 4), MAE: 815.45, RMSE: 1191.20\n"
     ]
    },
    {
     "name": "stderr",
     "output_type": "stream",
     "text": [
      "c:\\Users\\rayya\\AppData\\Local\\Programs\\Python\\Python313\\Lib\\site-packages\\statsmodels\\tsa\\base\\tsa_model.py:473: ValueWarning: No frequency information was provided, so inferred frequency QS-DEC will be used.\n",
      "  self._init_dates(dates, freq)\n",
      "c:\\Users\\rayya\\AppData\\Local\\Programs\\Python\\Python313\\Lib\\site-packages\\statsmodels\\tsa\\base\\tsa_model.py:473: ValueWarning: No frequency information was provided, so inferred frequency QS-DEC will be used.\n",
      "  self._init_dates(dates, freq)\n",
      "c:\\Users\\rayya\\AppData\\Local\\Programs\\Python\\Python313\\Lib\\site-packages\\statsmodels\\tsa\\base\\tsa_model.py:473: ValueWarning: No frequency information was provided, so inferred frequency QS-DEC will be used.\n",
      "  self._init_dates(dates, freq)\n",
      "c:\\Users\\rayya\\AppData\\Local\\Programs\\Python\\Python313\\Lib\\site-packages\\statsmodels\\tsa\\base\\tsa_model.py:473: ValueWarning: No frequency information was provided, so inferred frequency QS-DEC will be used.\n",
      "  self._init_dates(dates, freq)\n",
      "c:\\Users\\rayya\\AppData\\Local\\Programs\\Python\\Python313\\Lib\\site-packages\\statsmodels\\tsa\\base\\tsa_model.py:473: ValueWarning: No frequency information was provided, so inferred frequency QS-DEC will be used.\n",
      "  self._init_dates(dates, freq)\n",
      "c:\\Users\\rayya\\AppData\\Local\\Programs\\Python\\Python313\\Lib\\site-packages\\statsmodels\\tsa\\base\\tsa_model.py:473: ValueWarning: No frequency information was provided, so inferred frequency QS-DEC will be used.\n",
      "  self._init_dates(dates, freq)\n"
     ]
    },
    {
     "name": "stdout",
     "output_type": "stream",
     "text": [
      "Order: (1, 1, 1), Seasonal: (0, 0, 0, 4), MAE: 1357.56, RMSE: 1583.52\n",
      "Order: (1, 1, 1), Seasonal: (0, 0, 1, 4), MAE: 1238.11, RMSE: 1482.93\n",
      "Order: (1, 1, 1), Seasonal: (0, 1, 0, 4), MAE: 876.57, RMSE: 1367.68\n"
     ]
    },
    {
     "name": "stderr",
     "output_type": "stream",
     "text": [
      "c:\\Users\\rayya\\AppData\\Local\\Programs\\Python\\Python313\\Lib\\site-packages\\statsmodels\\tsa\\base\\tsa_model.py:473: ValueWarning: No frequency information was provided, so inferred frequency QS-DEC will be used.\n",
      "  self._init_dates(dates, freq)\n",
      "c:\\Users\\rayya\\AppData\\Local\\Programs\\Python\\Python313\\Lib\\site-packages\\statsmodels\\tsa\\base\\tsa_model.py:473: ValueWarning: No frequency information was provided, so inferred frequency QS-DEC will be used.\n",
      "  self._init_dates(dates, freq)\n",
      "c:\\Users\\rayya\\AppData\\Local\\Programs\\Python\\Python313\\Lib\\site-packages\\statsmodels\\tsa\\base\\tsa_model.py:473: ValueWarning: No frequency information was provided, so inferred frequency QS-DEC will be used.\n",
      "  self._init_dates(dates, freq)\n",
      "c:\\Users\\rayya\\AppData\\Local\\Programs\\Python\\Python313\\Lib\\site-packages\\statsmodels\\tsa\\base\\tsa_model.py:473: ValueWarning: No frequency information was provided, so inferred frequency QS-DEC will be used.\n",
      "  self._init_dates(dates, freq)\n",
      "c:\\Users\\rayya\\AppData\\Local\\Programs\\Python\\Python313\\Lib\\site-packages\\statsmodels\\tsa\\base\\tsa_model.py:473: ValueWarning: No frequency information was provided, so inferred frequency QS-DEC will be used.\n",
      "  self._init_dates(dates, freq)\n",
      "c:\\Users\\rayya\\AppData\\Local\\Programs\\Python\\Python313\\Lib\\site-packages\\statsmodels\\tsa\\base\\tsa_model.py:473: ValueWarning: No frequency information was provided, so inferred frequency QS-DEC will be used.\n",
      "  self._init_dates(dates, freq)\n"
     ]
    },
    {
     "name": "stdout",
     "output_type": "stream",
     "text": [
      "Order: (1, 1, 1), Seasonal: (0, 1, 1, 4), MAE: 1089.39, RMSE: 1423.99\n",
      "Order: (1, 1, 1), Seasonal: (1, 0, 0, 4), MAE: 1297.48, RMSE: 1520.26\n",
      "Order: (1, 1, 1), Seasonal: (1, 0, 1, 4), MAE: 1213.09, RMSE: 1454.24\n"
     ]
    },
    {
     "name": "stderr",
     "output_type": "stream",
     "text": [
      "c:\\Users\\rayya\\AppData\\Local\\Programs\\Python\\Python313\\Lib\\site-packages\\statsmodels\\tsa\\base\\tsa_model.py:473: ValueWarning: No frequency information was provided, so inferred frequency QS-DEC will be used.\n",
      "  self._init_dates(dates, freq)\n",
      "c:\\Users\\rayya\\AppData\\Local\\Programs\\Python\\Python313\\Lib\\site-packages\\statsmodels\\tsa\\base\\tsa_model.py:473: ValueWarning: No frequency information was provided, so inferred frequency QS-DEC will be used.\n",
      "  self._init_dates(dates, freq)\n",
      "c:\\Users\\rayya\\AppData\\Local\\Programs\\Python\\Python313\\Lib\\site-packages\\statsmodels\\tsa\\base\\tsa_model.py:473: ValueWarning: No frequency information was provided, so inferred frequency QS-DEC will be used.\n",
      "  self._init_dates(dates, freq)\n",
      "c:\\Users\\rayya\\AppData\\Local\\Programs\\Python\\Python313\\Lib\\site-packages\\statsmodels\\tsa\\base\\tsa_model.py:473: ValueWarning: No frequency information was provided, so inferred frequency QS-DEC will be used.\n",
      "  self._init_dates(dates, freq)\n"
     ]
    },
    {
     "name": "stdout",
     "output_type": "stream",
     "text": [
      "Order: (1, 1, 1), Seasonal: (1, 1, 0, 4), MAE: 997.31, RMSE: 1365.53\n",
      "Order: (1, 1, 1), Seasonal: (1, 1, 1, 4), MAE: 1034.82, RMSE: 1427.90\n"
     ]
    },
    {
     "name": "stderr",
     "output_type": "stream",
     "text": [
      "c:\\Users\\rayya\\AppData\\Local\\Programs\\Python\\Python313\\Lib\\site-packages\\statsmodels\\tsa\\base\\tsa_model.py:473: ValueWarning: No frequency information was provided, so inferred frequency QS-DEC will be used.\n",
      "  self._init_dates(dates, freq)\n",
      "c:\\Users\\rayya\\AppData\\Local\\Programs\\Python\\Python313\\Lib\\site-packages\\statsmodels\\tsa\\base\\tsa_model.py:473: ValueWarning: No frequency information was provided, so inferred frequency QS-DEC will be used.\n",
      "  self._init_dates(dates, freq)\n",
      "c:\\Users\\rayya\\AppData\\Local\\Programs\\Python\\Python313\\Lib\\site-packages\\statsmodels\\tsa\\base\\tsa_model.py:473: ValueWarning: No frequency information was provided, so inferred frequency QS-DEC will be used.\n",
      "  self._init_dates(dates, freq)\n",
      "c:\\Users\\rayya\\AppData\\Local\\Programs\\Python\\Python313\\Lib\\site-packages\\statsmodels\\tsa\\base\\tsa_model.py:473: ValueWarning: No frequency information was provided, so inferred frequency QS-DEC will be used.\n",
      "  self._init_dates(dates, freq)\n",
      "c:\\Users\\rayya\\AppData\\Local\\Programs\\Python\\Python313\\Lib\\site-packages\\statsmodels\\tsa\\base\\tsa_model.py:473: ValueWarning: No frequency information was provided, so inferred frequency QS-DEC will be used.\n",
      "  self._init_dates(dates, freq)\n",
      "c:\\Users\\rayya\\AppData\\Local\\Programs\\Python\\Python313\\Lib\\site-packages\\statsmodels\\tsa\\base\\tsa_model.py:473: ValueWarning: No frequency information was provided, so inferred frequency QS-DEC will be used.\n",
      "  self._init_dates(dates, freq)\n",
      "c:\\Users\\rayya\\AppData\\Local\\Programs\\Python\\Python313\\Lib\\site-packages\\statsmodels\\tsa\\base\\tsa_model.py:473: ValueWarning: No frequency information was provided, so inferred frequency QS-DEC will be used.\n",
      "  self._init_dates(dates, freq)\n",
      "c:\\Users\\rayya\\AppData\\Local\\Programs\\Python\\Python313\\Lib\\site-packages\\statsmodels\\tsa\\base\\tsa_model.py:473: ValueWarning: No frequency information was provided, so inferred frequency QS-DEC will be used.\n",
      "  self._init_dates(dates, freq)\n"
     ]
    },
    {
     "name": "stdout",
     "output_type": "stream",
     "text": [
      "Order: (1, 1, 2), Seasonal: (0, 0, 0, 4), MAE: 1473.04, RMSE: 1669.63\n",
      "Order: (1, 1, 2), Seasonal: (0, 0, 1, 4), MAE: 1391.66, RMSE: 1601.23\n",
      "Order: (1, 1, 2), Seasonal: (0, 1, 0, 4), MAE: 906.60, RMSE: 1370.01\n",
      "Order: (1, 1, 2), Seasonal: (0, 1, 1, 4), MAE: 1090.33, RMSE: 1317.18\n",
      "Order: (1, 1, 2), Seasonal: (1, 0, 0, 4), MAE: 1432.26, RMSE: 1630.52\n",
      "Order: (1, 1, 2), Seasonal: (1, 0, 1, 4), MAE: 1391.01, RMSE: 1601.51\n"
     ]
    },
    {
     "name": "stderr",
     "output_type": "stream",
     "text": [
      "c:\\Users\\rayya\\AppData\\Local\\Programs\\Python\\Python313\\Lib\\site-packages\\statsmodels\\tsa\\base\\tsa_model.py:473: ValueWarning: No frequency information was provided, so inferred frequency QS-DEC will be used.\n",
      "  self._init_dates(dates, freq)\n",
      "c:\\Users\\rayya\\AppData\\Local\\Programs\\Python\\Python313\\Lib\\site-packages\\statsmodels\\tsa\\base\\tsa_model.py:473: ValueWarning: No frequency information was provided, so inferred frequency QS-DEC will be used.\n",
      "  self._init_dates(dates, freq)\n",
      "c:\\Users\\rayya\\AppData\\Local\\Programs\\Python\\Python313\\Lib\\site-packages\\statsmodels\\tsa\\base\\tsa_model.py:473: ValueWarning: No frequency information was provided, so inferred frequency QS-DEC will be used.\n",
      "  self._init_dates(dates, freq)\n",
      "c:\\Users\\rayya\\AppData\\Local\\Programs\\Python\\Python313\\Lib\\site-packages\\statsmodels\\tsa\\base\\tsa_model.py:473: ValueWarning: No frequency information was provided, so inferred frequency QS-DEC will be used.\n",
      "  self._init_dates(dates, freq)\n",
      "c:\\Users\\rayya\\AppData\\Local\\Programs\\Python\\Python313\\Lib\\site-packages\\statsmodels\\tsa\\base\\tsa_model.py:473: ValueWarning: No frequency information was provided, so inferred frequency QS-DEC will be used.\n",
      "  self._init_dates(dates, freq)\n",
      "c:\\Users\\rayya\\AppData\\Local\\Programs\\Python\\Python313\\Lib\\site-packages\\statsmodels\\tsa\\base\\tsa_model.py:473: ValueWarning: No frequency information was provided, so inferred frequency QS-DEC will be used.\n",
      "  self._init_dates(dates, freq)\n"
     ]
    },
    {
     "name": "stdout",
     "output_type": "stream",
     "text": [
      "Order: (1, 1, 2), Seasonal: (1, 1, 0, 4), MAE: 996.82, RMSE: 1366.75\n",
      "Order: (1, 1, 2), Seasonal: (1, 1, 1, 4), MAE: 1031.06, RMSE: 1419.92\n",
      "Order: (2, 0, 0), Seasonal: (0, 0, 0, 4), MAE: 376.31, RMSE: 502.74\n"
     ]
    },
    {
     "name": "stderr",
     "output_type": "stream",
     "text": [
      "c:\\Users\\rayya\\AppData\\Local\\Programs\\Python\\Python313\\Lib\\site-packages\\statsmodels\\tsa\\base\\tsa_model.py:473: ValueWarning: No frequency information was provided, so inferred frequency QS-DEC will be used.\n",
      "  self._init_dates(dates, freq)\n",
      "c:\\Users\\rayya\\AppData\\Local\\Programs\\Python\\Python313\\Lib\\site-packages\\statsmodels\\tsa\\base\\tsa_model.py:473: ValueWarning: No frequency information was provided, so inferred frequency QS-DEC will be used.\n",
      "  self._init_dates(dates, freq)\n",
      "c:\\Users\\rayya\\AppData\\Local\\Programs\\Python\\Python313\\Lib\\site-packages\\statsmodels\\tsa\\base\\tsa_model.py:473: ValueWarning: No frequency information was provided, so inferred frequency QS-DEC will be used.\n",
      "  self._init_dates(dates, freq)\n",
      "c:\\Users\\rayya\\AppData\\Local\\Programs\\Python\\Python313\\Lib\\site-packages\\statsmodels\\tsa\\base\\tsa_model.py:473: ValueWarning: No frequency information was provided, so inferred frequency QS-DEC will be used.\n",
      "  self._init_dates(dates, freq)\n",
      "c:\\Users\\rayya\\AppData\\Local\\Programs\\Python\\Python313\\Lib\\site-packages\\statsmodels\\tsa\\base\\tsa_model.py:473: ValueWarning: No frequency information was provided, so inferred frequency QS-DEC will be used.\n",
      "  self._init_dates(dates, freq)\n",
      "c:\\Users\\rayya\\AppData\\Local\\Programs\\Python\\Python313\\Lib\\site-packages\\statsmodels\\tsa\\base\\tsa_model.py:473: ValueWarning: No frequency information was provided, so inferred frequency QS-DEC will be used.\n",
      "  self._init_dates(dates, freq)\n"
     ]
    },
    {
     "name": "stdout",
     "output_type": "stream",
     "text": [
      "Order: (2, 0, 0), Seasonal: (0, 0, 1, 4), MAE: 369.80, RMSE: 536.48\n",
      "Order: (2, 0, 0), Seasonal: (0, 1, 0, 4), MAE: 1669.80, RMSE: 2063.20\n",
      "Order: (2, 0, 0), Seasonal: (0, 1, 1, 4), MAE: 1410.58, RMSE: 1749.11\n",
      "Order: (2, 0, 0), Seasonal: (1, 0, 0, 4), MAE: 381.47, RMSE: 473.22\n",
      "Order: (2, 0, 0), Seasonal: (1, 0, 1, 4), MAE: 387.07, RMSE: 484.35\n"
     ]
    },
    {
     "name": "stderr",
     "output_type": "stream",
     "text": [
      "c:\\Users\\rayya\\AppData\\Local\\Programs\\Python\\Python313\\Lib\\site-packages\\statsmodels\\tsa\\base\\tsa_model.py:473: ValueWarning: No frequency information was provided, so inferred frequency QS-DEC will be used.\n",
      "  self._init_dates(dates, freq)\n",
      "c:\\Users\\rayya\\AppData\\Local\\Programs\\Python\\Python313\\Lib\\site-packages\\statsmodels\\tsa\\base\\tsa_model.py:473: ValueWarning: No frequency information was provided, so inferred frequency QS-DEC will be used.\n",
      "  self._init_dates(dates, freq)\n",
      "c:\\Users\\rayya\\AppData\\Local\\Programs\\Python\\Python313\\Lib\\site-packages\\statsmodels\\tsa\\base\\tsa_model.py:473: ValueWarning: No frequency information was provided, so inferred frequency QS-DEC will be used.\n",
      "  self._init_dates(dates, freq)\n",
      "c:\\Users\\rayya\\AppData\\Local\\Programs\\Python\\Python313\\Lib\\site-packages\\statsmodels\\tsa\\base\\tsa_model.py:473: ValueWarning: No frequency information was provided, so inferred frequency QS-DEC will be used.\n",
      "  self._init_dates(dates, freq)\n",
      "c:\\Users\\rayya\\AppData\\Local\\Programs\\Python\\Python313\\Lib\\site-packages\\statsmodels\\tsa\\base\\tsa_model.py:473: ValueWarning: No frequency information was provided, so inferred frequency QS-DEC will be used.\n",
      "  self._init_dates(dates, freq)\n",
      "c:\\Users\\rayya\\AppData\\Local\\Programs\\Python\\Python313\\Lib\\site-packages\\statsmodels\\tsa\\base\\tsa_model.py:473: ValueWarning: No frequency information was provided, so inferred frequency QS-DEC will be used.\n",
      "  self._init_dates(dates, freq)\n",
      "c:\\Users\\rayya\\AppData\\Local\\Programs\\Python\\Python313\\Lib\\site-packages\\statsmodels\\tsa\\base\\tsa_model.py:473: ValueWarning: No frequency information was provided, so inferred frequency QS-DEC will be used.\n",
      "  self._init_dates(dates, freq)\n",
      "c:\\Users\\rayya\\AppData\\Local\\Programs\\Python\\Python313\\Lib\\site-packages\\statsmodels\\tsa\\base\\tsa_model.py:473: ValueWarning: No frequency information was provided, so inferred frequency QS-DEC will be used.\n",
      "  self._init_dates(dates, freq)\n",
      "c:\\Users\\rayya\\AppData\\Local\\Programs\\Python\\Python313\\Lib\\site-packages\\statsmodels\\tsa\\base\\tsa_model.py:473: ValueWarning: No frequency information was provided, so inferred frequency QS-DEC will be used.\n",
      "  self._init_dates(dates, freq)\n",
      "c:\\Users\\rayya\\AppData\\Local\\Programs\\Python\\Python313\\Lib\\site-packages\\statsmodels\\tsa\\base\\tsa_model.py:473: ValueWarning: No frequency information was provided, so inferred frequency QS-DEC will be used.\n",
      "  self._init_dates(dates, freq)\n"
     ]
    },
    {
     "name": "stdout",
     "output_type": "stream",
     "text": [
      "Order: (2, 0, 0), Seasonal: (1, 1, 0, 4), MAE: 1533.85, RMSE: 1925.05\n",
      "Order: (2, 0, 0), Seasonal: (1, 1, 1, 4), MAE: 1532.52, RMSE: 1921.26\n",
      "Order: (2, 0, 1), Seasonal: (0, 0, 0, 4), MAE: 429.72, RMSE: 639.74\n"
     ]
    },
    {
     "name": "stderr",
     "output_type": "stream",
     "text": [
      "c:\\Users\\rayya\\AppData\\Local\\Programs\\Python\\Python313\\Lib\\site-packages\\statsmodels\\tsa\\base\\tsa_model.py:473: ValueWarning: No frequency information was provided, so inferred frequency QS-DEC will be used.\n",
      "  self._init_dates(dates, freq)\n",
      "c:\\Users\\rayya\\AppData\\Local\\Programs\\Python\\Python313\\Lib\\site-packages\\statsmodels\\tsa\\base\\tsa_model.py:473: ValueWarning: No frequency information was provided, so inferred frequency QS-DEC will be used.\n",
      "  self._init_dates(dates, freq)\n",
      "c:\\Users\\rayya\\AppData\\Local\\Programs\\Python\\Python313\\Lib\\site-packages\\statsmodels\\tsa\\base\\tsa_model.py:473: ValueWarning: No frequency information was provided, so inferred frequency QS-DEC will be used.\n",
      "  self._init_dates(dates, freq)\n",
      "c:\\Users\\rayya\\AppData\\Local\\Programs\\Python\\Python313\\Lib\\site-packages\\statsmodels\\tsa\\base\\tsa_model.py:473: ValueWarning: No frequency information was provided, so inferred frequency QS-DEC will be used.\n",
      "  self._init_dates(dates, freq)\n",
      "c:\\Users\\rayya\\AppData\\Local\\Programs\\Python\\Python313\\Lib\\site-packages\\statsmodels\\tsa\\base\\tsa_model.py:473: ValueWarning: No frequency information was provided, so inferred frequency QS-DEC will be used.\n",
      "  self._init_dates(dates, freq)\n",
      "c:\\Users\\rayya\\AppData\\Local\\Programs\\Python\\Python313\\Lib\\site-packages\\statsmodels\\tsa\\base\\tsa_model.py:473: ValueWarning: No frequency information was provided, so inferred frequency QS-DEC will be used.\n",
      "  self._init_dates(dates, freq)\n"
     ]
    },
    {
     "name": "stdout",
     "output_type": "stream",
     "text": [
      "Order: (2, 0, 1), Seasonal: (0, 0, 1, 4), MAE: 396.01, RMSE: 590.04\n",
      "Order: (2, 0, 1), Seasonal: (0, 1, 0, 4), MAE: 1617.32, RMSE: 2024.97\n",
      "Order: (2, 0, 1), Seasonal: (0, 1, 1, 4), MAE: 918.01, RMSE: 1310.95\n",
      "Order: (2, 0, 1), Seasonal: (1, 0, 0, 4), MAE: 797.06, RMSE: 1194.01\n"
     ]
    },
    {
     "name": "stderr",
     "output_type": "stream",
     "text": [
      "c:\\Users\\rayya\\AppData\\Local\\Programs\\Python\\Python313\\Lib\\site-packages\\statsmodels\\tsa\\base\\tsa_model.py:473: ValueWarning: No frequency information was provided, so inferred frequency QS-DEC will be used.\n",
      "  self._init_dates(dates, freq)\n",
      "c:\\Users\\rayya\\AppData\\Local\\Programs\\Python\\Python313\\Lib\\site-packages\\statsmodels\\tsa\\base\\tsa_model.py:473: ValueWarning: No frequency information was provided, so inferred frequency QS-DEC will be used.\n",
      "  self._init_dates(dates, freq)\n",
      "c:\\Users\\rayya\\AppData\\Local\\Programs\\Python\\Python313\\Lib\\site-packages\\statsmodels\\tsa\\base\\tsa_model.py:473: ValueWarning: No frequency information was provided, so inferred frequency QS-DEC will be used.\n",
      "  self._init_dates(dates, freq)\n",
      "c:\\Users\\rayya\\AppData\\Local\\Programs\\Python\\Python313\\Lib\\site-packages\\statsmodels\\tsa\\base\\tsa_model.py:473: ValueWarning: No frequency information was provided, so inferred frequency QS-DEC will be used.\n",
      "  self._init_dates(dates, freq)\n",
      "c:\\Users\\rayya\\AppData\\Local\\Programs\\Python\\Python313\\Lib\\site-packages\\statsmodels\\tsa\\base\\tsa_model.py:473: ValueWarning: No frequency information was provided, so inferred frequency QS-DEC will be used.\n",
      "  self._init_dates(dates, freq)\n",
      "c:\\Users\\rayya\\AppData\\Local\\Programs\\Python\\Python313\\Lib\\site-packages\\statsmodels\\tsa\\base\\tsa_model.py:473: ValueWarning: No frequency information was provided, so inferred frequency QS-DEC will be used.\n",
      "  self._init_dates(dates, freq)\n",
      "c:\\Users\\rayya\\AppData\\Local\\Programs\\Python\\Python313\\Lib\\site-packages\\statsmodels\\tsa\\base\\tsa_model.py:473: ValueWarning: No frequency information was provided, so inferred frequency QS-DEC will be used.\n",
      "  self._init_dates(dates, freq)\n",
      "c:\\Users\\rayya\\AppData\\Local\\Programs\\Python\\Python313\\Lib\\site-packages\\statsmodels\\tsa\\base\\tsa_model.py:473: ValueWarning: No frequency information was provided, so inferred frequency QS-DEC will be used.\n",
      "  self._init_dates(dates, freq)\n"
     ]
    },
    {
     "name": "stdout",
     "output_type": "stream",
     "text": [
      "Order: (2, 0, 1), Seasonal: (1, 0, 1, 4), MAE: 393.08, RMSE: 585.85\n",
      "Order: (2, 0, 1), Seasonal: (1, 1, 0, 4), MAE: 1219.43, RMSE: 1596.57\n"
     ]
    },
    {
     "name": "stderr",
     "output_type": "stream",
     "text": [
      "c:\\Users\\rayya\\AppData\\Local\\Programs\\Python\\Python313\\Lib\\site-packages\\statsmodels\\tsa\\base\\tsa_model.py:473: ValueWarning: No frequency information was provided, so inferred frequency QS-DEC will be used.\n",
      "  self._init_dates(dates, freq)\n",
      "c:\\Users\\rayya\\AppData\\Local\\Programs\\Python\\Python313\\Lib\\site-packages\\statsmodels\\tsa\\base\\tsa_model.py:473: ValueWarning: No frequency information was provided, so inferred frequency QS-DEC will be used.\n",
      "  self._init_dates(dates, freq)\n",
      "c:\\Users\\rayya\\AppData\\Local\\Programs\\Python\\Python313\\Lib\\site-packages\\statsmodels\\tsa\\base\\tsa_model.py:473: ValueWarning: No frequency information was provided, so inferred frequency QS-DEC will be used.\n",
      "  self._init_dates(dates, freq)\n",
      "c:\\Users\\rayya\\AppData\\Local\\Programs\\Python\\Python313\\Lib\\site-packages\\statsmodels\\tsa\\base\\tsa_model.py:473: ValueWarning: No frequency information was provided, so inferred frequency QS-DEC will be used.\n",
      "  self._init_dates(dates, freq)\n",
      "c:\\Users\\rayya\\AppData\\Local\\Programs\\Python\\Python313\\Lib\\site-packages\\statsmodels\\base\\model.py:607: ConvergenceWarning: Maximum Likelihood optimization failed to converge. Check mle_retvals\n",
      "  warnings.warn(\"Maximum Likelihood optimization failed to \"\n"
     ]
    },
    {
     "name": "stdout",
     "output_type": "stream",
     "text": [
      "Order: (2, 0, 1), Seasonal: (1, 1, 1, 4), MAE: 1057.99, RMSE: 1459.36\n",
      "Order: (2, 0, 2), Seasonal: (0, 0, 0, 4), MAE: 378.82, RMSE: 566.23\n"
     ]
    },
    {
     "name": "stderr",
     "output_type": "stream",
     "text": [
      "c:\\Users\\rayya\\AppData\\Local\\Programs\\Python\\Python313\\Lib\\site-packages\\statsmodels\\tsa\\base\\tsa_model.py:473: ValueWarning: No frequency information was provided, so inferred frequency QS-DEC will be used.\n",
      "  self._init_dates(dates, freq)\n",
      "c:\\Users\\rayya\\AppData\\Local\\Programs\\Python\\Python313\\Lib\\site-packages\\statsmodels\\tsa\\base\\tsa_model.py:473: ValueWarning: No frequency information was provided, so inferred frequency QS-DEC will be used.\n",
      "  self._init_dates(dates, freq)\n",
      "c:\\Users\\rayya\\AppData\\Local\\Programs\\Python\\Python313\\Lib\\site-packages\\statsmodels\\tsa\\base\\tsa_model.py:473: ValueWarning: No frequency information was provided, so inferred frequency QS-DEC will be used.\n",
      "  self._init_dates(dates, freq)\n",
      "c:\\Users\\rayya\\AppData\\Local\\Programs\\Python\\Python313\\Lib\\site-packages\\statsmodels\\tsa\\base\\tsa_model.py:473: ValueWarning: No frequency information was provided, so inferred frequency QS-DEC will be used.\n",
      "  self._init_dates(dates, freq)\n"
     ]
    },
    {
     "name": "stdout",
     "output_type": "stream",
     "text": [
      "Order: (2, 0, 2), Seasonal: (0, 0, 1, 4), MAE: 453.32, RMSE: 658.44\n",
      "Order: (2, 0, 2), Seasonal: (0, 1, 0, 4), MAE: 1608.36, RMSE: 2011.75\n",
      "Order: (2, 0, 2), Seasonal: (0, 1, 1, 4), MAE: 1014.13, RMSE: 1412.98\n"
     ]
    },
    {
     "name": "stderr",
     "output_type": "stream",
     "text": [
      "c:\\Users\\rayya\\AppData\\Local\\Programs\\Python\\Python313\\Lib\\site-packages\\statsmodels\\tsa\\base\\tsa_model.py:473: ValueWarning: No frequency information was provided, so inferred frequency QS-DEC will be used.\n",
      "  self._init_dates(dates, freq)\n",
      "c:\\Users\\rayya\\AppData\\Local\\Programs\\Python\\Python313\\Lib\\site-packages\\statsmodels\\tsa\\base\\tsa_model.py:473: ValueWarning: No frequency information was provided, so inferred frequency QS-DEC will be used.\n",
      "  self._init_dates(dates, freq)\n",
      "c:\\Users\\rayya\\AppData\\Local\\Programs\\Python\\Python313\\Lib\\site-packages\\statsmodels\\tsa\\base\\tsa_model.py:473: ValueWarning: No frequency information was provided, so inferred frequency QS-DEC will be used.\n",
      "  self._init_dates(dates, freq)\n",
      "c:\\Users\\rayya\\AppData\\Local\\Programs\\Python\\Python313\\Lib\\site-packages\\statsmodels\\tsa\\base\\tsa_model.py:473: ValueWarning: No frequency information was provided, so inferred frequency QS-DEC will be used.\n",
      "  self._init_dates(dates, freq)\n",
      "c:\\Users\\rayya\\AppData\\Local\\Programs\\Python\\Python313\\Lib\\site-packages\\statsmodels\\tsa\\base\\tsa_model.py:473: ValueWarning: No frequency information was provided, so inferred frequency QS-DEC will be used.\n",
      "  self._init_dates(dates, freq)\n",
      "c:\\Users\\rayya\\AppData\\Local\\Programs\\Python\\Python313\\Lib\\site-packages\\statsmodels\\tsa\\base\\tsa_model.py:473: ValueWarning: No frequency information was provided, so inferred frequency QS-DEC will be used.\n",
      "  self._init_dates(dates, freq)\n"
     ]
    },
    {
     "name": "stdout",
     "output_type": "stream",
     "text": [
      "Order: (2, 0, 2), Seasonal: (1, 0, 0, 4), MAE: 422.29, RMSE: 613.32\n",
      "Order: (2, 0, 2), Seasonal: (1, 0, 1, 4), MAE: 421.96, RMSE: 633.21\n"
     ]
    },
    {
     "name": "stderr",
     "output_type": "stream",
     "text": [
      "c:\\Users\\rayya\\AppData\\Local\\Programs\\Python\\Python313\\Lib\\site-packages\\statsmodels\\tsa\\base\\tsa_model.py:473: ValueWarning: No frequency information was provided, so inferred frequency QS-DEC will be used.\n",
      "  self._init_dates(dates, freq)\n",
      "c:\\Users\\rayya\\AppData\\Local\\Programs\\Python\\Python313\\Lib\\site-packages\\statsmodels\\tsa\\base\\tsa_model.py:473: ValueWarning: No frequency information was provided, so inferred frequency QS-DEC will be used.\n",
      "  self._init_dates(dates, freq)\n",
      "c:\\Users\\rayya\\AppData\\Local\\Programs\\Python\\Python313\\Lib\\site-packages\\statsmodels\\tsa\\base\\tsa_model.py:473: ValueWarning: No frequency information was provided, so inferred frequency QS-DEC will be used.\n",
      "  self._init_dates(dates, freq)\n",
      "c:\\Users\\rayya\\AppData\\Local\\Programs\\Python\\Python313\\Lib\\site-packages\\statsmodels\\tsa\\base\\tsa_model.py:473: ValueWarning: No frequency information was provided, so inferred frequency QS-DEC will be used.\n",
      "  self._init_dates(dates, freq)\n",
      "c:\\Users\\rayya\\AppData\\Local\\Programs\\Python\\Python313\\Lib\\site-packages\\statsmodels\\tsa\\base\\tsa_model.py:473: ValueWarning: No frequency information was provided, so inferred frequency QS-DEC will be used.\n",
      "  self._init_dates(dates, freq)\n",
      "c:\\Users\\rayya\\AppData\\Local\\Programs\\Python\\Python313\\Lib\\site-packages\\statsmodels\\tsa\\base\\tsa_model.py:473: ValueWarning: No frequency information was provided, so inferred frequency QS-DEC will be used.\n",
      "  self._init_dates(dates, freq)\n"
     ]
    },
    {
     "name": "stdout",
     "output_type": "stream",
     "text": [
      "Order: (2, 0, 2), Seasonal: (1, 1, 0, 4), MAE: 1339.88, RMSE: 1733.24\n",
      "Order: (2, 0, 2), Seasonal: (1, 1, 1, 4), MAE: 1236.80, RMSE: 1613.48\n",
      "Order: (2, 1, 0), Seasonal: (0, 0, 0, 4), MAE: 1385.98, RMSE: 1592.37\n",
      "Order: (2, 1, 0), Seasonal: (0, 0, 1, 4), MAE: 1373.75, RMSE: 1578.13\n"
     ]
    },
    {
     "name": "stderr",
     "output_type": "stream",
     "text": [
      "c:\\Users\\rayya\\AppData\\Local\\Programs\\Python\\Python313\\Lib\\site-packages\\statsmodels\\tsa\\base\\tsa_model.py:473: ValueWarning: No frequency information was provided, so inferred frequency QS-DEC will be used.\n",
      "  self._init_dates(dates, freq)\n",
      "c:\\Users\\rayya\\AppData\\Local\\Programs\\Python\\Python313\\Lib\\site-packages\\statsmodels\\tsa\\base\\tsa_model.py:473: ValueWarning: No frequency information was provided, so inferred frequency QS-DEC will be used.\n",
      "  self._init_dates(dates, freq)\n",
      "c:\\Users\\rayya\\AppData\\Local\\Programs\\Python\\Python313\\Lib\\site-packages\\statsmodels\\tsa\\base\\tsa_model.py:473: ValueWarning: No frequency information was provided, so inferred frequency QS-DEC will be used.\n",
      "  self._init_dates(dates, freq)\n",
      "c:\\Users\\rayya\\AppData\\Local\\Programs\\Python\\Python313\\Lib\\site-packages\\statsmodels\\tsa\\base\\tsa_model.py:473: ValueWarning: No frequency information was provided, so inferred frequency QS-DEC will be used.\n",
      "  self._init_dates(dates, freq)\n",
      "c:\\Users\\rayya\\AppData\\Local\\Programs\\Python\\Python313\\Lib\\site-packages\\statsmodels\\tsa\\base\\tsa_model.py:473: ValueWarning: No frequency information was provided, so inferred frequency QS-DEC will be used.\n",
      "  self._init_dates(dates, freq)\n",
      "c:\\Users\\rayya\\AppData\\Local\\Programs\\Python\\Python313\\Lib\\site-packages\\statsmodels\\tsa\\base\\tsa_model.py:473: ValueWarning: No frequency information was provided, so inferred frequency QS-DEC will be used.\n",
      "  self._init_dates(dates, freq)\n",
      "c:\\Users\\rayya\\AppData\\Local\\Programs\\Python\\Python313\\Lib\\site-packages\\statsmodels\\tsa\\base\\tsa_model.py:473: ValueWarning: No frequency information was provided, so inferred frequency QS-DEC will be used.\n",
      "  self._init_dates(dates, freq)\n",
      "c:\\Users\\rayya\\AppData\\Local\\Programs\\Python\\Python313\\Lib\\site-packages\\statsmodels\\tsa\\base\\tsa_model.py:473: ValueWarning: No frequency information was provided, so inferred frequency QS-DEC will be used.\n",
      "  self._init_dates(dates, freq)\n",
      "c:\\Users\\rayya\\AppData\\Local\\Programs\\Python\\Python313\\Lib\\site-packages\\statsmodels\\tsa\\base\\tsa_model.py:473: ValueWarning: No frequency information was provided, so inferred frequency QS-DEC will be used.\n",
      "  self._init_dates(dates, freq)\n",
      "c:\\Users\\rayya\\AppData\\Local\\Programs\\Python\\Python313\\Lib\\site-packages\\statsmodels\\tsa\\base\\tsa_model.py:473: ValueWarning: No frequency information was provided, so inferred frequency QS-DEC will be used.\n",
      "  self._init_dates(dates, freq)\n",
      "c:\\Users\\rayya\\AppData\\Local\\Programs\\Python\\Python313\\Lib\\site-packages\\statsmodels\\tsa\\base\\tsa_model.py:473: ValueWarning: No frequency information was provided, so inferred frequency QS-DEC will be used.\n",
      "  self._init_dates(dates, freq)\n",
      "c:\\Users\\rayya\\AppData\\Local\\Programs\\Python\\Python313\\Lib\\site-packages\\statsmodels\\tsa\\base\\tsa_model.py:473: ValueWarning: No frequency information was provided, so inferred frequency QS-DEC will be used.\n",
      "  self._init_dates(dates, freq)\n"
     ]
    },
    {
     "name": "stdout",
     "output_type": "stream",
     "text": [
      "Order: (2, 1, 0), Seasonal: (0, 1, 0, 4), MAE: 1275.58, RMSE: 1725.88\n",
      "Order: (2, 1, 0), Seasonal: (0, 1, 1, 4), MAE: 854.58, RMSE: 1191.04\n",
      "Order: (2, 1, 0), Seasonal: (1, 0, 0, 4), MAE: 1339.10, RMSE: 1552.08\n",
      "Order: (2, 1, 0), Seasonal: (1, 0, 1, 4), MAE: 1325.20, RMSE: 1539.84\n",
      "Order: (2, 1, 0), Seasonal: (1, 1, 0, 4), MAE: 840.07, RMSE: 1163.83\n",
      "Order: (2, 1, 0), Seasonal: (1, 1, 1, 4), MAE: 843.50, RMSE: 1204.32\n",
      "Order: (2, 1, 1), Seasonal: (0, 0, 0, 4), MAE: 1424.44, RMSE: 1628.57\n"
     ]
    },
    {
     "name": "stderr",
     "output_type": "stream",
     "text": [
      "c:\\Users\\rayya\\AppData\\Local\\Programs\\Python\\Python313\\Lib\\site-packages\\statsmodels\\tsa\\base\\tsa_model.py:473: ValueWarning: No frequency information was provided, so inferred frequency QS-DEC will be used.\n",
      "  self._init_dates(dates, freq)\n",
      "c:\\Users\\rayya\\AppData\\Local\\Programs\\Python\\Python313\\Lib\\site-packages\\statsmodels\\tsa\\base\\tsa_model.py:473: ValueWarning: No frequency information was provided, so inferred frequency QS-DEC will be used.\n",
      "  self._init_dates(dates, freq)\n",
      "c:\\Users\\rayya\\AppData\\Local\\Programs\\Python\\Python313\\Lib\\site-packages\\statsmodels\\tsa\\base\\tsa_model.py:473: ValueWarning: No frequency information was provided, so inferred frequency QS-DEC will be used.\n",
      "  self._init_dates(dates, freq)\n",
      "c:\\Users\\rayya\\AppData\\Local\\Programs\\Python\\Python313\\Lib\\site-packages\\statsmodels\\tsa\\base\\tsa_model.py:473: ValueWarning: No frequency information was provided, so inferred frequency QS-DEC will be used.\n",
      "  self._init_dates(dates, freq)\n",
      "c:\\Users\\rayya\\AppData\\Local\\Programs\\Python\\Python313\\Lib\\site-packages\\statsmodels\\tsa\\base\\tsa_model.py:473: ValueWarning: No frequency information was provided, so inferred frequency QS-DEC will be used.\n",
      "  self._init_dates(dates, freq)\n",
      "c:\\Users\\rayya\\AppData\\Local\\Programs\\Python\\Python313\\Lib\\site-packages\\statsmodels\\tsa\\base\\tsa_model.py:473: ValueWarning: No frequency information was provided, so inferred frequency QS-DEC will be used.\n",
      "  self._init_dates(dates, freq)\n",
      "c:\\Users\\rayya\\AppData\\Local\\Programs\\Python\\Python313\\Lib\\site-packages\\statsmodels\\tsa\\base\\tsa_model.py:473: ValueWarning: No frequency information was provided, so inferred frequency QS-DEC will be used.\n",
      "  self._init_dates(dates, freq)\n",
      "c:\\Users\\rayya\\AppData\\Local\\Programs\\Python\\Python313\\Lib\\site-packages\\statsmodels\\tsa\\base\\tsa_model.py:473: ValueWarning: No frequency information was provided, so inferred frequency QS-DEC will be used.\n",
      "  self._init_dates(dates, freq)\n"
     ]
    },
    {
     "name": "stdout",
     "output_type": "stream",
     "text": [
      "Order: (2, 1, 1), Seasonal: (0, 0, 1, 4), MAE: 1366.86, RMSE: 1579.93\n",
      "Order: (2, 1, 1), Seasonal: (0, 1, 0, 4), MAE: 1539.23, RMSE: 1914.30\n",
      "Order: (2, 1, 1), Seasonal: (0, 1, 1, 4), MAE: 913.65, RMSE: 1282.80\n"
     ]
    },
    {
     "name": "stderr",
     "output_type": "stream",
     "text": [
      "c:\\Users\\rayya\\AppData\\Local\\Programs\\Python\\Python313\\Lib\\site-packages\\statsmodels\\tsa\\base\\tsa_model.py:473: ValueWarning: No frequency information was provided, so inferred frequency QS-DEC will be used.\n",
      "  self._init_dates(dates, freq)\n",
      "c:\\Users\\rayya\\AppData\\Local\\Programs\\Python\\Python313\\Lib\\site-packages\\statsmodels\\tsa\\base\\tsa_model.py:473: ValueWarning: No frequency information was provided, so inferred frequency QS-DEC will be used.\n",
      "  self._init_dates(dates, freq)\n",
      "c:\\Users\\rayya\\AppData\\Local\\Programs\\Python\\Python313\\Lib\\site-packages\\statsmodels\\tsa\\base\\tsa_model.py:473: ValueWarning: No frequency information was provided, so inferred frequency QS-DEC will be used.\n",
      "  self._init_dates(dates, freq)\n",
      "c:\\Users\\rayya\\AppData\\Local\\Programs\\Python\\Python313\\Lib\\site-packages\\statsmodels\\tsa\\base\\tsa_model.py:473: ValueWarning: No frequency information was provided, so inferred frequency QS-DEC will be used.\n",
      "  self._init_dates(dates, freq)\n",
      "c:\\Users\\rayya\\AppData\\Local\\Programs\\Python\\Python313\\Lib\\site-packages\\statsmodels\\tsa\\base\\tsa_model.py:473: ValueWarning: No frequency information was provided, so inferred frequency QS-DEC will be used.\n",
      "  self._init_dates(dates, freq)\n",
      "c:\\Users\\rayya\\AppData\\Local\\Programs\\Python\\Python313\\Lib\\site-packages\\statsmodels\\tsa\\base\\tsa_model.py:473: ValueWarning: No frequency information was provided, so inferred frequency QS-DEC will be used.\n",
      "  self._init_dates(dates, freq)\n"
     ]
    },
    {
     "name": "stdout",
     "output_type": "stream",
     "text": [
      "Order: (2, 1, 1), Seasonal: (1, 0, 0, 4), MAE: 1378.12, RMSE: 1572.50\n",
      "Order: (2, 1, 1), Seasonal: (1, 0, 1, 4), MAE: 1308.12, RMSE: 1512.19\n"
     ]
    },
    {
     "name": "stderr",
     "output_type": "stream",
     "text": [
      "c:\\Users\\rayya\\AppData\\Local\\Programs\\Python\\Python313\\Lib\\site-packages\\statsmodels\\tsa\\base\\tsa_model.py:473: ValueWarning: No frequency information was provided, so inferred frequency QS-DEC will be used.\n",
      "  self._init_dates(dates, freq)\n",
      "c:\\Users\\rayya\\AppData\\Local\\Programs\\Python\\Python313\\Lib\\site-packages\\statsmodels\\tsa\\base\\tsa_model.py:473: ValueWarning: No frequency information was provided, so inferred frequency QS-DEC will be used.\n",
      "  self._init_dates(dates, freq)\n",
      "c:\\Users\\rayya\\AppData\\Local\\Programs\\Python\\Python313\\Lib\\site-packages\\statsmodels\\tsa\\base\\tsa_model.py:473: ValueWarning: No frequency information was provided, so inferred frequency QS-DEC will be used.\n",
      "  self._init_dates(dates, freq)\n",
      "c:\\Users\\rayya\\AppData\\Local\\Programs\\Python\\Python313\\Lib\\site-packages\\statsmodels\\tsa\\base\\tsa_model.py:473: ValueWarning: No frequency information was provided, so inferred frequency QS-DEC will be used.\n",
      "  self._init_dates(dates, freq)\n"
     ]
    },
    {
     "name": "stdout",
     "output_type": "stream",
     "text": [
      "Order: (2, 1, 1), Seasonal: (1, 1, 0, 4), MAE: 1018.86, RMSE: 1385.87\n",
      "Order: (2, 1, 1), Seasonal: (1, 1, 1, 4), MAE: 1037.69, RMSE: 1430.45\n"
     ]
    },
    {
     "name": "stderr",
     "output_type": "stream",
     "text": [
      "c:\\Users\\rayya\\AppData\\Local\\Programs\\Python\\Python313\\Lib\\site-packages\\statsmodels\\tsa\\base\\tsa_model.py:473: ValueWarning: No frequency information was provided, so inferred frequency QS-DEC will be used.\n",
      "  self._init_dates(dates, freq)\n",
      "c:\\Users\\rayya\\AppData\\Local\\Programs\\Python\\Python313\\Lib\\site-packages\\statsmodels\\tsa\\base\\tsa_model.py:473: ValueWarning: No frequency information was provided, so inferred frequency QS-DEC will be used.\n",
      "  self._init_dates(dates, freq)\n",
      "c:\\Users\\rayya\\AppData\\Local\\Programs\\Python\\Python313\\Lib\\site-packages\\statsmodels\\tsa\\base\\tsa_model.py:473: ValueWarning: No frequency information was provided, so inferred frequency QS-DEC will be used.\n",
      "  self._init_dates(dates, freq)\n",
      "c:\\Users\\rayya\\AppData\\Local\\Programs\\Python\\Python313\\Lib\\site-packages\\statsmodels\\tsa\\base\\tsa_model.py:473: ValueWarning: No frequency information was provided, so inferred frequency QS-DEC will be used.\n",
      "  self._init_dates(dates, freq)\n"
     ]
    },
    {
     "name": "stdout",
     "output_type": "stream",
     "text": [
      "Order: (2, 1, 2), Seasonal: (0, 0, 0, 4), MAE: 934.49, RMSE: 1213.77\n",
      "Order: (2, 1, 2), Seasonal: (0, 0, 1, 4), MAE: 1070.65, RMSE: 1351.84\n"
     ]
    },
    {
     "name": "stderr",
     "output_type": "stream",
     "text": [
      "c:\\Users\\rayya\\AppData\\Local\\Programs\\Python\\Python313\\Lib\\site-packages\\statsmodels\\tsa\\base\\tsa_model.py:473: ValueWarning: No frequency information was provided, so inferred frequency QS-DEC will be used.\n",
      "  self._init_dates(dates, freq)\n",
      "c:\\Users\\rayya\\AppData\\Local\\Programs\\Python\\Python313\\Lib\\site-packages\\statsmodels\\tsa\\base\\tsa_model.py:473: ValueWarning: No frequency information was provided, so inferred frequency QS-DEC will be used.\n",
      "  self._init_dates(dates, freq)\n",
      "c:\\Users\\rayya\\AppData\\Local\\Programs\\Python\\Python313\\Lib\\site-packages\\statsmodels\\tsa\\base\\tsa_model.py:473: ValueWarning: No frequency information was provided, so inferred frequency QS-DEC will be used.\n",
      "  self._init_dates(dates, freq)\n",
      "c:\\Users\\rayya\\AppData\\Local\\Programs\\Python\\Python313\\Lib\\site-packages\\statsmodels\\tsa\\base\\tsa_model.py:473: ValueWarning: No frequency information was provided, so inferred frequency QS-DEC will be used.\n",
      "  self._init_dates(dates, freq)\n"
     ]
    },
    {
     "name": "stdout",
     "output_type": "stream",
     "text": [
      "Order: (2, 1, 2), Seasonal: (0, 1, 0, 4), MAE: 2198.49, RMSE: 2502.36\n"
     ]
    },
    {
     "name": "stderr",
     "output_type": "stream",
     "text": [
      "c:\\Users\\rayya\\AppData\\Local\\Programs\\Python\\Python313\\Lib\\site-packages\\statsmodels\\tsa\\base\\tsa_model.py:473: ValueWarning: No frequency information was provided, so inferred frequency QS-DEC will be used.\n",
      "  self._init_dates(dates, freq)\n",
      "c:\\Users\\rayya\\AppData\\Local\\Programs\\Python\\Python313\\Lib\\site-packages\\statsmodels\\tsa\\base\\tsa_model.py:473: ValueWarning: No frequency information was provided, so inferred frequency QS-DEC will be used.\n",
      "  self._init_dates(dates, freq)\n",
      "c:\\Users\\rayya\\AppData\\Local\\Programs\\Python\\Python313\\Lib\\site-packages\\statsmodels\\base\\model.py:607: ConvergenceWarning: Maximum Likelihood optimization failed to converge. Check mle_retvals\n",
      "  warnings.warn(\"Maximum Likelihood optimization failed to \"\n"
     ]
    },
    {
     "name": "stdout",
     "output_type": "stream",
     "text": [
      "Order: (2, 1, 2), Seasonal: (0, 1, 1, 4), MAE: 1048.27, RMSE: 1322.92\n",
      "Order: (2, 1, 2), Seasonal: (1, 0, 0, 4), MAE: 1128.61, RMSE: 1391.90\n"
     ]
    },
    {
     "name": "stderr",
     "output_type": "stream",
     "text": [
      "c:\\Users\\rayya\\AppData\\Local\\Programs\\Python\\Python313\\Lib\\site-packages\\statsmodels\\tsa\\base\\tsa_model.py:473: ValueWarning: No frequency information was provided, so inferred frequency QS-DEC will be used.\n",
      "  self._init_dates(dates, freq)\n",
      "c:\\Users\\rayya\\AppData\\Local\\Programs\\Python\\Python313\\Lib\\site-packages\\statsmodels\\tsa\\base\\tsa_model.py:473: ValueWarning: No frequency information was provided, so inferred frequency QS-DEC will be used.\n",
      "  self._init_dates(dates, freq)\n",
      "c:\\Users\\rayya\\AppData\\Local\\Programs\\Python\\Python313\\Lib\\site-packages\\statsmodels\\tsa\\base\\tsa_model.py:473: ValueWarning: No frequency information was provided, so inferred frequency QS-DEC will be used.\n",
      "  self._init_dates(dates, freq)\n",
      "c:\\Users\\rayya\\AppData\\Local\\Programs\\Python\\Python313\\Lib\\site-packages\\statsmodels\\tsa\\base\\tsa_model.py:473: ValueWarning: No frequency information was provided, so inferred frequency QS-DEC will be used.\n",
      "  self._init_dates(dates, freq)\n",
      "c:\\Users\\rayya\\AppData\\Local\\Programs\\Python\\Python313\\Lib\\site-packages\\statsmodels\\base\\model.py:607: ConvergenceWarning: Maximum Likelihood optimization failed to converge. Check mle_retvals\n",
      "  warnings.warn(\"Maximum Likelihood optimization failed to \"\n"
     ]
    },
    {
     "name": "stdout",
     "output_type": "stream",
     "text": [
      "Order: (2, 1, 2), Seasonal: (1, 0, 1, 4), MAE: 1003.67, RMSE: 1409.45\n",
      "Order: (2, 1, 2), Seasonal: (1, 1, 0, 4), MAE: 1013.14, RMSE: 1380.92\n"
     ]
    },
    {
     "name": "stderr",
     "output_type": "stream",
     "text": [
      "c:\\Users\\rayya\\AppData\\Local\\Programs\\Python\\Python313\\Lib\\site-packages\\statsmodels\\tsa\\base\\tsa_model.py:473: ValueWarning: No frequency information was provided, so inferred frequency QS-DEC will be used.\n",
      "  self._init_dates(dates, freq)\n",
      "c:\\Users\\rayya\\AppData\\Local\\Programs\\Python\\Python313\\Lib\\site-packages\\statsmodels\\tsa\\base\\tsa_model.py:473: ValueWarning: No frequency information was provided, so inferred frequency QS-DEC will be used.\n",
      "  self._init_dates(dates, freq)\n",
      "c:\\Users\\rayya\\AppData\\Local\\Programs\\Python\\Python313\\Lib\\site-packages\\statsmodels\\tsa\\base\\tsa_model.py:473: ValueWarning: No frequency information was provided, so inferred frequency QS-DEC will be used.\n",
      "  self._init_dates(dates, freq)\n",
      "c:\\Users\\rayya\\AppData\\Local\\Programs\\Python\\Python313\\Lib\\site-packages\\statsmodels\\tsa\\base\\tsa_model.py:473: ValueWarning: No frequency information was provided, so inferred frequency QS-DEC will be used.\n",
      "  self._init_dates(dates, freq)\n"
     ]
    },
    {
     "name": "stdout",
     "output_type": "stream",
     "text": [
      "Order: (2, 1, 2), Seasonal: (1, 1, 1, 4), MAE: 1027.46, RMSE: 1416.65\n",
      "\n",
      "Best Model (Lowest MAE, with RMSE as tiebreaker):\n",
      "Parameters: order=(2, 0, 0), seasonal_order=(0, 0, 1, 4)\n",
      "MAE: 369.80 Rs. Cr.\n",
      "RMSE: 536.48 Rs. Cr.\n"
     ]
    },
    {
     "name": "stderr",
     "output_type": "stream",
     "text": [
      "c:\\Users\\rayya\\AppData\\Local\\Programs\\Python\\Python313\\Lib\\site-packages\\statsmodels\\base\\model.py:607: ConvergenceWarning: Maximum Likelihood optimization failed to converge. Check mle_retvals\n",
      "  warnings.warn(\"Maximum Likelihood optimization failed to \"\n"
     ]
    }
   ],
   "source": [
    "import pandas as pd\n",
    "import matplotlib.pyplot as plt\n",
    "from statsmodels.tsa.statespace.sarimax import SARIMAX\n",
    "from sklearn.metrics import mean_absolute_error, mean_squared_error\n",
    "import numpy as np\n",
    "from itertools import product\n",
    "\n",
    "# Data setup\n",
    "data = {\n",
    "    'Quarter': ['Dec 13', 'Mar 14', 'Jun 14', 'Sep 14', 'Dec 14', 'Mar 15', 'Jun 15', 'Sep 15', \n",
    "                'Dec 15', 'Mar 16', 'Jun 16', 'Sep 16', 'Dec 16', 'Mar 17', 'Jun 17', 'Sep 17', \n",
    "                'Dec 17', 'Mar 18', 'Jun 18', 'Sep 18', 'Dec 18', 'Mar 19', 'Jun 19', 'Sep 19', \n",
    "                'Dec 19', 'Mar 20', 'Jun 20', 'Sep 20', 'Dec 20', 'Mar 21', 'Jun 21', 'Sep 21', \n",
    "                'Dec 21', 'Mar 22', 'Jun 22', 'Sep 22', 'Dec 22', 'Mar 23', 'Jun 23', 'Sep 23', \n",
    "                'Dec 23', 'Mar 24', 'Jun 24', 'Sep 24', 'Dec 24'],\n",
    "    'Net Profit': [4776.76, 4628.52, 5096.87, 4991.68, 5711.15, 3457.26, 5633.0, 5723.0, \n",
    "                   5991.0, 5728.0, 5778.0, 5958.0, 6084.0, 5833.0, 6670.0, 5746.0, \n",
    "                   6069.0, 6756.0, 7136.0, 7620.0, 7486.0, 7823.0, 8714.0, 8636.0, \n",
    "                   7683.0, 8227.0, 6096.0, 7448.0, 9242.0, 8174.0, 8281.0, 10152.0, \n",
    "                   9959.0, 9795.0, 8588.0, 10059.0, 10659.0, 9800.0, 10484.0, 10929.0, \n",
    "                   10753.0, 11393.0, 12115.0, 12994.0, 11832.0]\n",
    "}\n",
    "df = pd.DataFrame(data)\n",
    "df['Quarter'] = pd.to_datetime(df['Quarter'], format='%b %y')\n",
    "df.set_index('Quarter', inplace=True)\n",
    "\n",
    "# Split data\n",
    "train_data = df.loc[:'2022-12-31']\n",
    "test_data = df.loc['2023-03-31':]\n",
    "\n",
    "# Parameter ranges\n",
    "param_ranges = {\n",
    "    'p': [0, 1, 2],\n",
    "    'd': [0, 1],\n",
    "    'q': [0, 1, 2],\n",
    "    'P': [0, 1],\n",
    "    'D': [0, 1],\n",
    "    'Q': [0, 1]\n",
    "}\n",
    "m = 4\n",
    "\n",
    "# Store results\n",
    "results = []\n",
    "best_mae = float('inf')\n",
    "best_rmse = float('inf')\n",
    "best_params = None\n",
    "\n",
    "# Iterate over all combinations\n",
    "for p, d, q, P, D, Q in product(param_ranges['p'], param_ranges['d'], param_ranges['q'],\n",
    "                               param_ranges['P'], param_ranges['D'], param_ranges['Q']):\n",
    "    try:\n",
    "        # Fit SARIMA model\n",
    "        model = SARIMAX(train_data['Net Profit'],\n",
    "                        order=(p, d, q),\n",
    "                        seasonal_order=(P, D, Q, m),\n",
    "                        enforce_stationarity=False,\n",
    "                        enforce_invertibility=False)\n",
    "        fitted_model = model.fit(disp=False)\n",
    "\n",
    "        # Forecast test period\n",
    "        forecast = fitted_model.get_forecast(steps=len(test_data))\n",
    "        predicted = forecast.predicted_mean\n",
    "\n",
    "        # Calculate errors\n",
    "        mae = mean_absolute_error(test_data['Net Profit'], predicted)\n",
    "        rmse = np.sqrt(mean_squared_error(test_data['Net Profit'], predicted))\n",
    "\n",
    "        # Store results\n",
    "        results.append({\n",
    "            'order': (p, d, q),\n",
    "            'seasonal_order': (P, D, Q, m),\n",
    "            'MAE': mae,\n",
    "            'RMSE': rmse\n",
    "        })\n",
    "\n",
    "        # Update best parameters (MAE as primary, RMSE as tiebreaker)\n",
    "        if mae < best_mae or (mae == best_mae and rmse < best_rmse):\n",
    "            best_mae = mae\n",
    "            best_rmse = rmse\n",
    "            best_params = (p, d, q, P, D, Q)\n",
    "\n",
    "        print(f\"Order: {(p, d, q)}, Seasonal: {(P, D, Q, m)}, MAE: {mae:.2f}, RMSE: {rmse:.2f}\")\n",
    "\n",
    "    except Exception as e:\n",
    "        print(f\"Order: {(p, d, q)}, Seasonal: {(P, D, Q, m)} failed - {str(e)}\")\n",
    "        continue\n",
    "\n",
    "# Print the best result\n",
    "print(\"\\nBest Model (Lowest MAE, with RMSE as tiebreaker):\")\n",
    "print(f\"Parameters: order={best_params[:3]}, seasonal_order={best_params[3:]+(m,)}\")\n",
    "print(f\"MAE: {best_mae:.2f} Rs. Cr.\")\n",
    "print(f\"RMSE: {best_rmse:.2f} Rs. Cr.\")"
   ]
  },
  {
   "cell_type": "markdown",
   "metadata": {},
   "source": [
    "RANDOM SEARCH (NOT EFFICIENT)"
   ]
  },
  {
   "cell_type": "code",
   "execution_count": 4,
   "metadata": {},
   "outputs": [
    {
     "name": "stdout",
     "output_type": "stream",
     "text": [
      "Testing 20 random parameter combinations...\n",
      "Order: (0, 0, 1), Seasonal: (1, 0, 1, 4)\n",
      "AIC: 518.20, MAE: 830.04, RMSE: 1168.41\n",
      "Order: (1, 1, 1), Seasonal: (1, 0, 1, 4)\n",
      "AIC: 498.15, MAE: 1213.09, RMSE: 1454.24\n",
      "Order: (0, 1, 1), Seasonal: (1, 1, 0, 4)\n",
      "AIC: 466.18, MAE: 1017.04, RMSE: 1389.21\n",
      "Order: (1, 0, 1), Seasonal: (0, 0, 0, 4)\n",
      "AIC: 570.84, MAE: 426.73, RMSE: 633.32\n",
      "Order: (2, 1, 2), Seasonal: (0, 1, 0, 4)\n",
      "AIC: 486.98, MAE: 2198.49, RMSE: 2502.36\n",
      "Order: (0, 0, 0), Seasonal: (0, 0, 1, 4)\n",
      "AIC: 633.63, MAE: 8824.57, RMSE: 9401.37\n",
      "Order: (0, 1, 2), Seasonal: (0, 0, 1, 4)\n",
      "AIC: 480.40, MAE: 1355.71, RMSE: 1587.52\n",
      "Order: (0, 0, 2), Seasonal: (0, 1, 1, 4)\n",
      "AIC: 443.04, MAE: 1956.95, RMSE: 2329.24\n",
      "Order: (1, 0, 2), Seasonal: (0, 1, 0, 4)\n",
      "AIC: 510.33, MAE: 1700.67, RMSE: 2051.60\n",
      "Order: (2, 1, 0), Seasonal: (0, 0, 0, 4)\n",
      "AIC: 564.17, MAE: 1385.98, RMSE: 1592.37\n",
      "Order: (0, 1, 2), Seasonal: (0, 1, 0, 4)\n",
      "AIC: 492.38, MAE: 875.54, RMSE: 1363.77\n",
      "Order: (1, 1, 2), Seasonal: (1, 1, 0, 4)\n",
      "AIC: 450.14, MAE: 996.82, RMSE: 1366.75\n",
      "Order: (0, 1, 1), Seasonal: (1, 1, 1, 4)\n",
      "AIC: 432.56, MAE: 1074.96, RMSE: 1425.38\n",
      "Order: (1, 0, 0), Seasonal: (1, 0, 0, 4)\n",
      "AIC: 542.81, MAE: 898.10, RMSE: 1430.04\n",
      "Order: (0, 1, 0), Seasonal: (1, 0, 1, 4)\n",
      "AIC: 517.89, MAE: 835.61, RMSE: 1111.27\n",
      "Order: (0, 0, 0), Seasonal: (1, 1, 0, 4)\n",
      "AIC: 497.78, MAE: 1972.55, RMSE: 2323.19\n",
      "Order: (0, 1, 2), Seasonal: (0, 0, 0, 4)\n",
      "AIC: 549.22, MAE: 1360.11, RMSE: 1585.72\n",
      "Order: (1, 1, 1), Seasonal: (1, 0, 0, 4)\n",
      "AIC: 514.45, MAE: 1297.48, RMSE: 1520.26\n",
      "Order: (1, 1, 0), Seasonal: (0, 1, 0, 4)\n",
      "AIC: 530.15, MAE: 1201.18, RMSE: 1614.79\n",
      "Order: (0, 1, 1), Seasonal: (1, 0, 1, 4)\n",
      "AIC: 496.51, MAE: 1157.25, RMSE: 1397.72\n",
      "\n",
      "=== Best Models ===\n",
      "\n",
      "Best AIC Model:\n",
      "Order: (0, 1, 1), Seasonal: (1, 1, 1, 4)\n",
      "AIC: 432.56, MAE: 1074.96, RMSE: 1425.38\n",
      "\n",
      "Best MAE Model:\n",
      "Order: (1, 0, 1), Seasonal: (0, 0, 0, 4)\n",
      "AIC: 570.84, MAE: 426.73, RMSE: 633.32\n",
      "\n",
      "Best RMSE Model:\n",
      "Order: (1, 0, 1), Seasonal: (0, 0, 0, 4)\n",
      "AIC: 570.84, MAE: 426.73, RMSE: 633.32\n",
      "\n",
      "2025 Forecast with Best MAE Model:\n",
      "Mar 25: 12090.00 Rs. Cr.\n",
      "Jun 25: 12353.02 Rs. Cr.\n",
      "Sep 25: 12621.77 Rs. Cr.\n",
      "Dec 25: 12896.36 Rs. Cr.\n"
     ]
    }
   ],
   "source": [
    "import pandas as pd\n",
    "import numpy as np\n",
    "from statsmodels.tsa.statespace.sarimax import SARIMAX\n",
    "from sklearn.metrics import mean_absolute_error, mean_squared_error\n",
    "import random\n",
    "import warnings\n",
    "warnings.filterwarnings('ignore')\n",
    "\n",
    "# 1. Data Preparation (same as before)\n",
    "data = {\n",
    "    'Quarter': ['Dec 13', 'Mar 14', 'Jun 14', 'Sep 14', 'Dec 14', 'Mar 15', 'Jun 15', 'Sep 15', \n",
    "                'Dec 15', 'Mar 16', 'Jun 16', 'Sep 16', 'Dec 16', 'Mar 17', 'Jun 17', 'Sep 17', \n",
    "                'Dec 17', 'Mar 18', 'Jun 18', 'Sep 18', 'Dec 18', 'Mar 19', 'Jun 19', 'Sep 19', \n",
    "                'Dec 19', 'Mar 20', 'Jun 20', 'Sep 20', 'Dec 20', 'Mar 21', 'Jun 21', 'Sep 21', \n",
    "                'Dec 21', 'Mar 22', 'Jun 22', 'Sep 22', 'Dec 22', 'Mar 23', 'Jun 23', 'Sep 23', \n",
    "                'Dec 23', 'Mar 24', 'Jun 24', 'Sep 24', 'Dec 24'],\n",
    "    'Net Profit': [4776.76, 4628.52, 5096.87, 4991.68, 5711.15, 3457.26, 5633.0, 5723.0, \n",
    "                   5991.0, 5728.0, 5778.0, 5958.0, 6084.0, 5833.0, 6670.0, 5746.0, \n",
    "                   6069.0, 6756.0, 7136.0, 7620.0, 7486.0, 7823.0, 8714.0, 8636.0, \n",
    "                   7683.0, 8227.0, 6096.0, 7448.0, 9242.0, 8174.0, 8281.0, 10152.0, \n",
    "                   9959.0, 9795.0, 8588.0, 10059.0, 10659.0, 9800.0, 10484.0, 10929.0, \n",
    "                   10753.0, 11393.0, 12115.0, 12994.0, 11832.0]\n",
    "}\n",
    "\n",
    "df = pd.DataFrame(data)\n",
    "df['Quarter'] = pd.to_datetime(df['Quarter'], format='%b %y')\n",
    "df.set_index('Quarter', inplace=True)\n",
    "\n",
    "train_data = df.loc[:'2022-12-31']\n",
    "test_data = df.loc['2023-03-31':]\n",
    "\n",
    "# 2. Define Parameter Ranges\n",
    "param_ranges = {\n",
    "    'p': [0, 1, 2],        # Non-seasonal AR\n",
    "    'd': [0, 1],          # Non-seasonal differencing\n",
    "    'q': [0, 1, 2],        # Non-seasonal MA\n",
    "    'P': [0, 1],          # Seasonal AR\n",
    "    'D': [0, 1],          # Seasonal differencing\n",
    "    'Q': [0, 1]           # Seasonal MA\n",
    "}\n",
    "m = 4  # Quarterly seasonality\n",
    "n_trials = 20  # Number of random combinations to try\n",
    "\n",
    "# 3. Random Search Function\n",
    "def random_sarima_params(param_ranges):\n",
    "    return {\n",
    "        'order': (\n",
    "            random.choice(param_ranges['p']),\n",
    "            random.choice(param_ranges['d']),\n",
    "            random.choice(param_ranges['q'])\n",
    "        ),\n",
    "        'seasonal_order': (\n",
    "            random.choice(param_ranges['P']),\n",
    "            random.choice(param_ranges['D']),\n",
    "            random.choice(param_ranges['Q']),\n",
    "            m\n",
    "        )\n",
    "    }\n",
    "\n",
    "# 4. Run Random Search\n",
    "results = []\n",
    "print(f\"Testing {n_trials} random parameter combinations...\")\n",
    "\n",
    "for _ in range(n_trials):\n",
    "    params = random_sarima_params(param_ranges)\n",
    "    order = params['order']\n",
    "    seasonal_order = params['seasonal_order']\n",
    "    \n",
    "    try:\n",
    "        # Fit model\n",
    "        model = SARIMAX(train_data['Net Profit'],\n",
    "                       order=order,\n",
    "                       seasonal_order=seasonal_order,\n",
    "                       enforce_stationarity=False,\n",
    "                       enforce_invertibility=False)\n",
    "        results_fit = model.fit(disp=False)\n",
    "        \n",
    "        # Forecast\n",
    "        forecast = results_fit.get_forecast(steps=len(test_data))\n",
    "        predicted = forecast.predicted_mean\n",
    "        \n",
    "        # Metrics\n",
    "        aic = results_fit.aic\n",
    "        mae = mean_absolute_error(test_data['Net Profit'], predicted)\n",
    "        rmse = np.sqrt(mean_squared_error(test_data['Net Profit'], predicted))\n",
    "        \n",
    "        results.append({\n",
    "            'order': order,\n",
    "            'seasonal_order': seasonal_order,\n",
    "            'AIC': aic,\n",
    "            'MAE': mae,\n",
    "            'RMSE': rmse\n",
    "        })\n",
    "        \n",
    "        print(f\"Order: {order}, Seasonal: {seasonal_order}\")\n",
    "        print(f\"AIC: {aic:.2f}, MAE: {mae:.2f}, RMSE: {rmse:.2f}\")\n",
    "        \n",
    "    except Exception as e:\n",
    "        print(f\"Order: {order}, Seasonal: {seasonal_order} - Failed: {str(e)}\")\n",
    "\n",
    "# 5. Find Best Models\n",
    "best_aic = min(results, key=lambda x: x['AIC'])\n",
    "best_mae = min(results, key=lambda x: x['MAE'])\n",
    "best_rmse = min(results, key=lambda x: x['RMSE'])\n",
    "\n",
    "# 6. Print Results\n",
    "print(\"\\n=== Best Models ===\")\n",
    "print(\"\\nBest AIC Model:\")\n",
    "print(f\"Order: {best_aic['order']}, Seasonal: {best_aic['seasonal_order']}\")\n",
    "print(f\"AIC: {best_aic['AIC']:.2f}, MAE: {best_aic['MAE']:.2f}, RMSE: {best_aic['RMSE']:.2f}\")\n",
    "\n",
    "print(\"\\nBest MAE Model:\")\n",
    "print(f\"Order: {best_mae['order']}, Seasonal: {best_mae['seasonal_order']}\")\n",
    "print(f\"AIC: {best_mae['AIC']:.2f}, MAE: {best_mae['MAE']:.2f}, RMSE: {best_mae['RMSE']:.2f}\")\n",
    "\n",
    "print(\"\\nBest RMSE Model:\")\n",
    "print(f\"Order: {best_rmse['order']}, Seasonal: {best_rmse['seasonal_order']}\")\n",
    "print(f\"AIC: {best_rmse['AIC']:.2f}, MAE: {best_rmse['MAE']:.2f}, RMSE: {best_rmse['RMSE']:.2f}\")\n",
    "\n",
    "# 7. Forecast 2025 with Best MAE Model\n",
    "best_model = SARIMAX(train_data['Net Profit'],\n",
    "                    order=best_mae['order'],\n",
    "                    seasonal_order=best_mae['seasonal_order'],\n",
    "                    enforce_stationarity=False,\n",
    "                    enforce_invertibility=False)\n",
    "best_results = best_model.fit(disp=False)\n",
    "\n",
    "future_forecast = best_results.get_forecast(steps=len(test_data) + 4)\n",
    "future_predicted = future_forecast.predicted_mean[-4:]\n",
    "future_dates = pd.date_range(start='2025-03-31', periods=4, freq='Q')\n",
    "\n",
    "print(\"\\n2025 Forecast with Best MAE Model:\")\n",
    "for date, value in zip(future_dates, future_predicted):\n",
    "    print(f\"{date.strftime('%b %y')}: {value:.2f} Rs. Cr.\")"
   ]
  },
  {
   "cell_type": "markdown",
   "metadata": {},
   "source": [
    "BAYESIAN OPTIMIZATION"
   ]
  },
  {
   "cell_type": "code",
   "execution_count": 8,
   "metadata": {},
   "outputs": [
    {
     "name": "stdout",
     "output_type": "stream",
     "text": [
      "Collecting scikit-optimize\n",
      "  Using cached scikit_optimize-0.10.2-py2.py3-none-any.whl.metadata (9.7 kB)\n",
      "Requirement already satisfied: joblib>=0.11 in c:\\users\\rayya\\appdata\\local\\programs\\python\\python313\\lib\\site-packages (from scikit-optimize) (1.4.2)\n",
      "Collecting pyaml>=16.9 (from scikit-optimize)\n",
      "  Using cached pyaml-25.1.0-py3-none-any.whl.metadata (12 kB)\n",
      "Requirement already satisfied: numpy>=1.20.3 in c:\\users\\rayya\\appdata\\local\\programs\\python\\python313\\lib\\site-packages (from scikit-optimize) (2.2.2)\n",
      "Requirement already satisfied: scipy>=1.1.0 in c:\\users\\rayya\\appdata\\local\\programs\\python\\python313\\lib\\site-packages (from scikit-optimize) (1.15.1)\n",
      "Requirement already satisfied: scikit-learn>=1.0.0 in c:\\users\\rayya\\appdata\\local\\programs\\python\\python313\\lib\\site-packages (from scikit-optimize) (1.6.1)\n",
      "Requirement already satisfied: packaging>=21.3 in c:\\users\\rayya\\appdata\\roaming\\python\\python313\\site-packages (from scikit-optimize) (24.2)\n",
      "Collecting PyYAML (from pyaml>=16.9->scikit-optimize)\n",
      "  Downloading PyYAML-6.0.2-cp313-cp313-win_amd64.whl.metadata (2.1 kB)\n",
      "Requirement already satisfied: threadpoolctl>=3.1.0 in c:\\users\\rayya\\appdata\\local\\programs\\python\\python313\\lib\\site-packages (from scikit-learn>=1.0.0->scikit-optimize) (3.5.0)\n",
      "Using cached scikit_optimize-0.10.2-py2.py3-none-any.whl (107 kB)\n",
      "Using cached pyaml-25.1.0-py3-none-any.whl (26 kB)\n",
      "Downloading PyYAML-6.0.2-cp313-cp313-win_amd64.whl (156 kB)\n",
      "Installing collected packages: PyYAML, pyaml, scikit-optimize\n",
      "Successfully installed PyYAML-6.0.2 pyaml-25.1.0 scikit-optimize-0.10.2\n",
      "Note: you may need to restart the kernel to use updated packages.\n"
     ]
    }
   ],
   "source": [
    "%pip install scikit-optimize"
   ]
  },
  {
   "cell_type": "code",
   "execution_count": 9,
   "metadata": {},
   "outputs": [
    {
     "name": "stdout",
     "output_type": "stream",
     "text": [
      "0.10.2\n"
     ]
    }
   ],
   "source": [
    "import skopt\n",
    "print(skopt.__version__)"
   ]
  },
  {
   "cell_type": "code",
   "execution_count": 10,
   "metadata": {},
   "outputs": [
    {
     "name": "stdout",
     "output_type": "stream",
     "text": [
      "Iteration No: 1 started. Evaluating function at random point.\n",
      "Iteration No: 1 ended. Evaluation done at random point.\n",
      "Time taken: 0.2797\n",
      "Function value obtained: 422.2915\n",
      "Current minimum: 422.2915\n",
      "Iteration No: 2 started. Evaluating function at random point.\n",
      "Iteration No: 2 ended. Evaluation done at random point.\n",
      "Time taken: 0.1042\n",
      "Function value obtained: 832.5586\n",
      "Current minimum: 422.2915\n",
      "Iteration No: 3 started. Evaluating function at random point.\n",
      "Iteration No: 3 ended. Evaluation done at random point.\n",
      "Time taken: 0.2517\n",
      "Function value obtained: 1339.8836\n",
      "Current minimum: 422.2915\n",
      "Iteration No: 4 started. Evaluating function at random point.\n",
      "Iteration No: 4 ended. Evaluation done at random point.\n",
      "Time taken: 0.0833\n",
      "Function value obtained: 906.6660\n",
      "Current minimum: 422.2915\n",
      "Iteration No: 5 started. Evaluating function at random point.\n",
      "Iteration No: 5 ended. Evaluation done at random point.\n",
      "Time taken: 0.1699\n",
      "Function value obtained: 1157.2493\n",
      "Current minimum: 422.2915\n",
      "Iteration No: 6 started. Evaluating function at random point.\n",
      "Iteration No: 6 ended. Evaluation done at random point.\n",
      "Time taken: 0.1049\n",
      "Function value obtained: 1626.6019\n",
      "Current minimum: 422.2915\n",
      "Iteration No: 7 started. Evaluating function at random point.\n",
      "Iteration No: 7 ended. Evaluation done at random point.\n",
      "Time taken: 0.1255\n",
      "Function value obtained: 1851.0449\n",
      "Current minimum: 422.2915\n",
      "Iteration No: 8 started. Evaluating function at random point.\n",
      "Iteration No: 8 ended. Evaluation done at random point.\n",
      "Time taken: 0.0465\n",
      "Function value obtained: 842.8102\n",
      "Current minimum: 422.2915\n",
      "Iteration No: 9 started. Evaluating function at random point.\n",
      "Iteration No: 9 ended. Evaluation done at random point.\n",
      "Time taken: 0.2326\n",
      "Function value obtained: 442.6410\n",
      "Current minimum: 422.2915\n",
      "Iteration No: 10 started. Evaluating function at random point.\n",
      "Iteration No: 10 ended. Evaluation done at random point.\n",
      "Time taken: 1.3301\n",
      "Function value obtained: 1270.5667\n",
      "Current minimum: 422.2915\n",
      "Iteration No: 11 started. Searching for the next optimal point.\n",
      "Iteration No: 11 ended. Search finished for the next optimal point.\n",
      "Time taken: 0.9533\n",
      "Function value obtained: 429.7205\n",
      "Current minimum: 422.2915\n",
      "Iteration No: 12 started. Searching for the next optimal point.\n",
      "Iteration No: 12 ended. Search finished for the next optimal point.\n",
      "Time taken: 0.5941\n",
      "Function value obtained: 797.0640\n",
      "Current minimum: 422.2915\n",
      "Iteration No: 13 started. Searching for the next optimal point.\n",
      "Iteration No: 13 ended. Search finished for the next optimal point.\n",
      "Time taken: 0.5503\n",
      "Function value obtained: 9429.9216\n",
      "Current minimum: 422.2915\n",
      "Iteration No: 14 started. Searching for the next optimal point.\n",
      "Iteration No: 14 ended. Search finished for the next optimal point.\n",
      "Time taken: 0.7083\n",
      "Function value obtained: 426.2832\n",
      "Current minimum: 422.2915\n",
      "Iteration No: 15 started. Searching for the next optimal point.\n",
      "Iteration No: 15 ended. Search finished for the next optimal point.\n",
      "Time taken: 0.4416\n",
      "Function value obtained: 376.3094\n",
      "Current minimum: 376.3094\n",
      "Iteration No: 16 started. Searching for the next optimal point.\n",
      "Iteration No: 16 ended. Search finished for the next optimal point.\n",
      "Time taken: 0.4229\n",
      "Function value obtained: 1669.7988\n",
      "Current minimum: 376.3094\n",
      "Iteration No: 17 started. Searching for the next optimal point.\n",
      "Iteration No: 17 ended. Search finished for the next optimal point.\n",
      "Time taken: 0.5034\n",
      "Function value obtained: 977.4196\n",
      "Current minimum: 376.3094\n",
      "Iteration No: 18 started. Searching for the next optimal point.\n",
      "Iteration No: 18 ended. Search finished for the next optimal point.\n",
      "Time taken: 0.6626\n",
      "Function value obtained: 378.8217\n",
      "Current minimum: 376.3094\n",
      "Iteration No: 19 started. Searching for the next optimal point.\n",
      "Iteration No: 19 ended. Search finished for the next optimal point.\n",
      "Time taken: 0.9913\n",
      "Function value obtained: 461.5252\n",
      "Current minimum: 376.3094\n",
      "Iteration No: 20 started. Searching for the next optimal point.\n",
      "Iteration No: 20 ended. Search finished for the next optimal point.\n",
      "Time taken: 1.9439\n",
      "Function value obtained: 421.9578\n",
      "Current minimum: 376.3094\n",
      "\n",
      "=== Best Model from Bayesian Optimization ===\n",
      "Order: (np.int64(2), np.int64(0), np.int64(0)), Seasonal: (np.int64(0), np.int64(0), np.int64(0), 4)\n",
      "AIC: 581.14\n",
      "MAE: 376.31\n",
      "RMSE: 502.74\n",
      "\n",
      "2025 Forecast with Best Model:\n",
      "Mar 25: 12375.80 Rs. Cr.\n",
      "Jun 25: 12625.46 Rs. Cr.\n",
      "Sep 25: 12880.29 Rs. Cr.\n",
      "Dec 25: 13140.22 Rs. Cr.\n"
     ]
    }
   ],
   "source": [
    "import pandas as pd\n",
    "import numpy as np\n",
    "from statsmodels.tsa.statespace.sarimax import SARIMAX\n",
    "from sklearn.metrics import mean_absolute_error, mean_squared_error\n",
    "from skopt import gp_minimize\n",
    "from skopt.space import Integer\n",
    "from skopt.utils import use_named_args\n",
    "import warnings\n",
    "warnings.filterwarnings('ignore')\n",
    "\n",
    "# 1. Data Preparation\n",
    "data = {\n",
    "    'Quarter': ['Dec 13', 'Mar 14', 'Jun 14', 'Sep 14', 'Dec 14', 'Mar 15', 'Jun 15', 'Sep 15', \n",
    "                'Dec 15', 'Mar 16', 'Jun 16', 'Sep 16', 'Dec 16', 'Mar 17', 'Jun 17', 'Sep 17', \n",
    "                'Dec 17', 'Mar 18', 'Jun 18', 'Sep 18', 'Dec 18', 'Mar 19', 'Jun 19', 'Sep 19', \n",
    "                'Dec 19', 'Mar 20', 'Jun 20', 'Sep 20', 'Dec 20', 'Mar 21', 'Jun 21', 'Sep 21', \n",
    "                'Dec 21', 'Mar 22', 'Jun 22', 'Sep 22', 'Dec 22', 'Mar 23', 'Jun 23', 'Sep 23', \n",
    "                'Dec 23', 'Mar 24', 'Jun 24', 'Sep 24', 'Dec 24'],\n",
    "    'Net Profit': [4776.76, 4628.52, 5096.87, 4991.68, 5711.15, 3457.26, 5633.0, 5723.0, \n",
    "                   5991.0, 5728.0, 5778.0, 5958.0, 6084.0, 5833.0, 6670.0, 5746.0, \n",
    "                   6069.0, 6756.0, 7136.0, 7620.0, 7486.0, 7823.0, 8714.0, 8636.0, \n",
    "                   7683.0, 8227.0, 6096.0, 7448.0, 9242.0, 8174.0, 8281.0, 10152.0, \n",
    "                   9959.0, 9795.0, 8588.0, 10059.0, 10659.0, 9800.0, 10484.0, 10929.0, \n",
    "                   10753.0, 11393.0, 12115.0, 12994.0, 11832.0]\n",
    "}\n",
    "\n",
    "df = pd.DataFrame(data)\n",
    "df['Quarter'] = pd.to_datetime(df['Quarter'], format='%b %y')\n",
    "df.set_index('Quarter', inplace=True)\n",
    "\n",
    "train_data = df.loc[:'2022-12-31']\n",
    "test_data = df.loc['2023-03-31':]\n",
    "\n",
    "# 2. Define Parameter Space\n",
    "space = [\n",
    "    Integer(0, 2, name='p'),  # Non-seasonal AR\n",
    "    Integer(0, 1, name='d'),  # Non-seasonal differencing\n",
    "    Integer(0, 2, name='q'),  # Non-seasonal MA\n",
    "    Integer(0, 1, name='P'),  # Seasonal AR\n",
    "    Integer(0, 1, name='D'),  # Seasonal differencing\n",
    "    Integer(0, 1, name='Q')   # Seasonal MA\n",
    "]\n",
    "m = 4  # Quarterly seasonality\n",
    "\n",
    "# 3. Objective Function\n",
    "@use_named_args(space)\n",
    "def objective(p, d, q, P, D, Q):\n",
    "    try:\n",
    "        order = (p, d, q)\n",
    "        seasonal_order = (P, D, Q, m)\n",
    "        \n",
    "        # Fit SARIMA\n",
    "        model = SARIMAX(train_data['Net Profit'],\n",
    "                       order=order,\n",
    "                       seasonal_order=seasonal_order,\n",
    "                       enforce_stationarity=False,\n",
    "                       enforce_invertibility=False)\n",
    "        results = model.fit(disp=False)\n",
    "        \n",
    "        # Forecast\n",
    "        forecast = results.get_forecast(steps=len(test_data))\n",
    "        predicted = forecast.predicted_mean\n",
    "        \n",
    "        # Return MAE to minimize\n",
    "        mae = mean_absolute_error(test_data['Net Profit'], predicted)\n",
    "        return mae\n",
    "    \n",
    "    except:\n",
    "        # Return a large value if model fails\n",
    "        return 1e6\n",
    "\n",
    "# 4. Run Bayesian Optimization\n",
    "n_calls = 20  # Number of iterations\n",
    "result = gp_minimize(\n",
    "    func=objective,\n",
    "    dimensions=space,\n",
    "    n_calls=n_calls,\n",
    "    random_state=42,  # For reproducibility\n",
    "    verbose=True\n",
    ")\n",
    "\n",
    "# 5. Extract Best Parameters\n",
    "best_params = result.x\n",
    "best_order = (best_params[0], best_params[1], best_params[2])\n",
    "best_seasonal_order = (best_params[3], best_params[4], best_params[5], m)\n",
    "best_mae = result.fun\n",
    "\n",
    "# 6. Evaluate Best Model with All Metrics\n",
    "model = SARIMAX(train_data['Net Profit'],\n",
    "                order=best_order,\n",
    "                seasonal_order=best_seasonal_order,\n",
    "                enforce_stationarity=False,\n",
    "                enforce_invertibility=False)\n",
    "results = model.fit(disp=False)\n",
    "\n",
    "forecast = results.get_forecast(steps=len(test_data))\n",
    "predicted = forecast.predicted_mean\n",
    "aic = results.aic\n",
    "mae = mean_absolute_error(test_data['Net Profit'], predicted)\n",
    "rmse = np.sqrt(mean_squared_error(test_data['Net Profit'], predicted))\n",
    "\n",
    "# 7. Print Results\n",
    "print(\"\\n=== Best Model from Bayesian Optimization ===\")\n",
    "print(f\"Order: {best_order}, Seasonal: {best_seasonal_order}\")\n",
    "print(f\"AIC: {aic:.2f}\")\n",
    "print(f\"MAE: {mae:.2f}\")\n",
    "print(f\"RMSE: {rmse:.2f}\")\n",
    "\n",
    "# 8. Forecast 2025\n",
    "future_forecast = results.get_forecast(steps=len(test_data) + 4)\n",
    "future_predicted = future_forecast.predicted_mean[-4:]\n",
    "future_dates = pd.date_range(start='2025-03-31', periods=4, freq='Q')\n",
    "\n",
    "print(\"\\n2025 Forecast with Best Model:\")\n",
    "for date, value in zip(future_dates, future_predicted):\n",
    "    print(f\"{date.strftime('%b %y')}: {value:.2f} Rs. Cr.\")"
   ]
  },
  {
   "cell_type": "code",
   "execution_count": 12,
   "metadata": {},
   "outputs": [
    {
     "name": "stdout",
     "output_type": "stream",
     "text": [
      "MAE (Average Oops): 1956.95 Rs. Cr.\n",
      "RMSE (Big Oops): 2329.24 Rs. Cr.\n"
     ]
    },
    {
     "data": {
      "image/png": "[encoded data removed]",
      "text/plain": [
       "<Figure size 1200x600 with 1 Axes>"
      ]
     },
     "metadata": {},
     "output_type": "display_data"
    },
    {
     "name": "stdout",
     "output_type": "stream",
     "text": [
      "\n",
      "Guessed Profits for 2025:\n",
      "Mar 25: 10442.66 Rs. Cr.\n",
      "Jun 25: 9730.61 Rs. Cr.\n",
      "Sep 25: 8450.05 Rs. Cr.\n",
      "Dec 25: 9950.16 Rs. Cr.\n"
     ]
    }
   ],
   "source": [
    "# Step 1: Get our magic toy box ready\n",
    "import pandas as pd\n",
    "import matplotlib.pyplot as plt\n",
    "from statsmodels.tsa.statespace.sarimax import SARIMAX\n",
    "from sklearn.metrics import mean_absolute_error, mean_squared_error\n",
    "import numpy as np\n",
    "\n",
    "# Step 2: TCS candy profits list\n",
    "data = {\n",
    "    'Quarter': ['Dec 13', 'Mar 14', 'Jun 14', 'Sep 14', 'Dec 14', 'Mar 15', 'Jun 15', 'Sep 15', \n",
    "                'Dec 15', 'Mar 16', 'Jun 16', 'Sep 16', 'Dec 16', 'Mar 17', 'Jun 17', 'Sep 17', \n",
    "                'Dec 17', 'Mar 18', 'Jun 18', 'Sep 18', 'Dec 18', 'Mar 19', 'Jun 19', 'Sep 19', \n",
    "                'Dec 19', 'Mar 20', 'Jun 20', 'Sep 20', 'Dec 20', 'Mar 21', 'Jun 21', 'Sep 21', \n",
    "                'Dec 21', 'Mar 22', 'Jun 22', 'Sep 22', 'Dec 22', 'Mar 23', 'Jun 23', 'Sep 23', \n",
    "                'Dec 23', 'Mar 24', 'Jun 24', 'Sep 24', 'Dec 24'],\n",
    "    'Net Profit': [4776.76, 4628.52, 5096.87, 4991.68, 5711.15, 3457.26, 5633.0, 5723.0, \n",
    "                   5991.0, 5728.0, 5778.0, 5958.0, 6084.0, 5833.0, 6670.0, 5746.0, \n",
    "                   6069.0, 6756.0, 7136.0, 7620.0, 7486.0, 7823.0, 8714.0, 8636.0, \n",
    "                   7683.0, 8227.0, 6096.0, 7448.0, 9242.0, 8174.0, 8281.0, 10152.0, \n",
    "                   9959.0, 9795.0, 8588.0, 10059.0, 10659.0, 9800.0, 10484.0, 10929.0, \n",
    "                   10753.0, 11393.0, 12115.0, 12994.0, 11832.0]\n",
    "}\n",
    "\n",
    "# Step 3: Neat table with time\n",
    "df = pd.DataFrame(data)\n",
    "df['Quarter'] = pd.to_datetime(df['Quarter'], format='%b %y')\n",
    "df.set_index('Quarter', inplace=True)\n",
    "\n",
    "# Step 4: Split training (Dec 13 - Dec 22) and testing (Mar 23 - Dec 24)\n",
    "train_data = df.loc[:'2022-12-31']  # 37 quarters\n",
    "test_data = df.loc['2023-03-31':]   # 8 quarters\n",
    "\n",
    "# Step 5: Try a simpler SARIMA toy: (1,1,0)(1,1,0,4)\n",
    "model = SARIMAX(train_data['Net Profit'], \n",
    "                order=(0, 0, 2),              # AR=1, I=1, No MA\n",
    "                seasonal_order=(0, 1, 1, 4),  # Seasonal AR=1, Seasonal I=1, No Seasonal MA\n",
    "                enforce_stationarity=False, \n",
    "                enforce_invertibility=False)\n",
    "results = model.fit()  # Teach it\n",
    "\n",
    "# Step 6: Guess the test period\n",
    "test_forecast = results.get_forecast(steps=len(test_data))\n",
    "test_predicted = test_forecast.predicted_mean\n",
    "test_conf_int = test_forecast.conf_int()\n",
    "\n",
    "# Step 7: Check the “oops” scores\n",
    "mae = mean_absolute_error(test_data['Net Profit'], test_predicted)\n",
    "rmse = np.sqrt(mean_squared_error(test_data['Net Profit'], test_predicted))\n",
    "print(f\"MAE (Average Oops): {mae:.2f} Rs. Cr.\")\n",
    "print(f\"RMSE (Big Oops): {rmse:.2f} Rs. Cr.\")\n",
    "\n",
    "# Step 8: Guess 2025 for fun\n",
    "future_forecast = results.get_forecast(steps=len(test_data) + 4)\n",
    "future_predicted = future_forecast.predicted_mean[-4:]\n",
    "future_dates = pd.date_range(start='2025-03-31', periods=4, freq='Q')\n",
    "\n",
    "# Step 9: Draw it!\n",
    "plt.figure(figsize=(12, 6))\n",
    "plt.plot(train_data.index, train_data['Net Profit'], label='Training Profits', color='blue')\n",
    "plt.plot(test_data.index, test_data['Net Profit'], label='Real Test Profits', color='green')\n",
    "plt.plot(test_data.index, test_predicted, label='Guessed Test Profits', color='orange', linestyle='--')\n",
    "plt.plot(future_dates, future_predicted, label='Future Guesses (2025)', color='red', linestyle='--')\n",
    "plt.fill_between(test_data.index, test_conf_int.iloc[:, 0], test_conf_int.iloc[:, 1], color='yellow', alpha=0.2)\n",
    "plt.title('TCS Net Profit: Real vs Guessed')\n",
    "plt.xlabel('Time')\n",
    "plt.ylabel('Profit (Rs. Cr.)')\n",
    "plt.legend()\n",
    "plt.grid(True)\n",
    "plt.show()\n",
    "\n",
    "# Step 10: Show 2025 guesses\n",
    "print(\"\\nGuessed Profits for 2025:\")\n",
    "for date, value in zip(future_dates, future_predicted):\n",
    "    print(f\"{date.strftime('%b %y')}: {value:.2f} Rs. Cr.\")"
   ]
  }
 ],
 "metadata": {
  "kernelspec": {
   "display_name": "Python 3",
   "language": "python",
   "name": "python3"
  },
  "language_info": {
   "codemirror_mode": {
    "name": "ipython",
    "version": 3
   },
   "file_extension": ".py",
   "mimetype": "text/x-python",
   "name": "python",
   "nbconvert_exporter": "python",
   "pygments_lexer": "ipython3",
   "version": "3.13.2"
  }
 },
 "nbformat": 4,
 "nbformat_minor": 2
}
